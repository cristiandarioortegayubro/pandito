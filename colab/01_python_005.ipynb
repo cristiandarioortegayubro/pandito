{
  "nbformat": 4,
  "nbformat_minor": 0,
  "metadata": {
    "colab": {
      "provenance": [],
      "toc_visible": true,
      "include_colab_link": true
    },
    "kernelspec": {
      "name": "python3",
      "display_name": "Python 3"
    },
    "language_info": {
      "name": "python"
    }
  },
  "cells": [
    {
      "cell_type": "markdown",
      "metadata": {
        "id": "view-in-github",
        "colab_type": "text"
      },
      "source": [
        "<a href=\"https://colab.research.google.com/github/cristiandarioortegayubro/pandito/blob/main/colab/01_python_005.ipynb\" target=\"_parent\"><img src=\"https://colab.research.google.com/assets/colab-badge.svg\" alt=\"Open In Colab\"/></a>"
      ]
    },
    {
      "cell_type": "markdown",
      "source": [
        "<h1 p align=\"center\">\n",
        "<b>\n",
        "<font color=\"DeepPink\">\n",
        "Saliendo de lo pandito\n",
        "</font>\n",
        "</h1>\n",
        "\n",
        "<p align=\"center\">\n",
        "<img src=\"https://github.com/cristiandarioortegayubro/BDS/blob/main/images/Logo%20BDS%20Horizontal%208.png?raw=true\" width=\"400\">\n",
        "</p>\n",
        "\n",
        "<p align=\"center\">\n",
        "<img src=\"https://github.com/cristiandarioortegayubro/pandito/blob/main/images/imagen-001.png?raw=true\" width=\"300\">\n",
        "</p>\n",
        "\n"
      ],
      "metadata": {
        "id": "iheuwam9e4CH"
      }
    },
    {
      "cell_type": "markdown",
      "source": [
        " # **<font color=\"DeepPink\">Python - Declaración de funciones</font>**"
      ],
      "metadata": {
        "id": "_o8tuKydjnRZ"
      }
    },
    {
      "cell_type": "markdown",
      "source": [
        "<p align=\"justify\">\n",
        "Ahora abordamos la importancia de las funciones personalizadas. Imagina que necesitas calcular el rendimiento acumulado de una cartera de inversiones. En lugar de repetir el cálculo, puedes declarar una función <code>calcular_rendimiento_acumulado</code> que tome una lista de rendimientos y aplique la fórmula necesaria:"
      ],
      "metadata": {
        "id": "UcmA5bUiPHVE"
      }
    },
    {
      "cell_type": "code",
      "source": [
        "def calcular_rendimiento_acumulado(rendimientos):\n",
        "    rendimiento_acumulado = 1\n",
        "    for rendimiento in rendimientos:\n",
        "        rendimiento_acumulado *= 1 + rendimiento\n",
        "    return rendimiento_acumulado\n",
        "\n",
        "mi_cartera = [0.02, -0.01, 0.03, 0.015, -0.005]\n",
        "rendimiento_total = calcular_rendimiento_acumulado(mi_cartera)\n",
        "\n",
        "print(f\"El rendimiento total de mi cartera es {rendimiento_total:.3}\")"
      ],
      "metadata": {
        "colab": {
          "base_uri": "https://localhost:8080/"
        },
        "id": "fZ0VC4N4Reht",
        "outputId": "ef9fef9c-c067-439c-915d-e69a19e64808"
      },
      "execution_count": 11,
      "outputs": [
        {
          "output_type": "stream",
          "name": "stdout",
          "text": [
            "El rendimiento total de mi cartera es 1.05\n"
          ]
        }
      ]
    },
    {
      "cell_type": "markdown",
      "source": [
        "A continuación, se desglosa cómo funciona el código:\n",
        "\n",
        "```python\n",
        "def calcular_rendimiento_acumulado(rendimientos):\n",
        "    rendimiento_acumulado = 1\n",
        "    for rendimiento in rendimientos:\n",
        "        rendimiento_acumulado *= 1 + rendimiento\n",
        "    return rendimiento_acumulado\n",
        "```\n",
        "\n",
        "1. `def calcular_rendimiento_acumulado(rendimientos):`: Aquí se define una función llamada `calcular_rendimiento_acumulado` que toma un parámetro `rendimientos`, que se espera que sea una lista de rendimientos financieros.\n",
        "\n",
        "2. `rendimiento_acumulado = 1`: Se inicializa la variable `rendimiento_acumulado` con el valor 1. Esta variable se utilizará para mantener el cálculo acumulado del rendimiento.\n",
        "\n",
        "3. `for rendimiento in rendimientos:`: Se inicia un bucle `for` que recorre cada rendimiento en la lista de `rendimientos`.\n",
        "\n",
        "4. `rendimiento_acumulado *= 1 + rendimiento`: En cada iteración del bucle, el rendimiento acumulado se actualiza multiplicándolo por el factor `(1 + rendimiento)`. Esto simula la acumulación de rendimientos con el tiempo.\n",
        "\n",
        "5. `return rendimiento_acumulado`: Después de recorrer todos los rendimientos, la función devuelve el rendimiento acumulado calculado.\n",
        "\n",
        "<p align=\"justify\">\n",
        "Luego, se define una lista llamada <code>mi_cartera</code> que contiene una serie de rendimientos, y se llama a la función <code>calcular_rendimiento_acumulado</code> con esta lista para calcular el rendimiento total de la cartera.\n",
        "<br><br>\n",
        "Finalmente, se imprime el resultado:\n",
        "\n",
        "```python\n",
        "mi_cartera = [0.02, -0.01, 0.03, 0.015, -0.005]\n",
        "rendimiento_total = calcular_rendimiento_acumulado(mi_cartera)\n",
        "\n",
        "print(f\"El rendimiento total de mi cartera es {rendimiento_total:.3}\")\n",
        "```\n",
        "\n",
        "<p align=\"justify\">\n",
        "Si ejecutas este código, obtendrás el rendimiento total acumulado de la cartera, que es la multiplicación acumulativa de los rendimientos individuales:\n",
        "\n",
        "```\n",
        "El rendimiento total de mi cartera es 1.05\n",
        "```\n",
        "\n",
        "<p align=\"justify\">\n",
        "Este valor representa el rendimiento total acumulado de la cartera de inversiones, teniendo en cuenta los rendimientos individuales en diferentes períodos de tiempo."
      ],
      "metadata": {
        "id": "YDRD3cVidIZ3"
      }
    },
    {
      "cell_type": "markdown",
      "source": [
        "<p align=\"justify\">\n",
        "👀 Otro ejemplo, imagina que necesitas calcular el valor presente neto (VPN) de un flujo de efectivo futuro. Aquí, una función <code>calcular_vpn</code> podría ser de mucha utilidad:"
      ],
      "metadata": {
        "id": "yTwJzNGcSYie"
      }
    },
    {
      "cell_type": "code",
      "source": [
        "def calcular_vpn(flujos_proyecto, tasa_descuento):\n",
        "    vpn = sum([flujo / (1 + tasa_descuento)**periodo for periodo, flujo in enumerate(flujos_proyecto, start=1)])\n",
        "    return vpn\n",
        "\n",
        "flujos_proyecto = [-1000, 300, 400, 500, 200]\n",
        "tasa_descuento = 0.1\n",
        "\n",
        "vpn_proyecto = calcular_vpn(flujos_proyecto, tasa_descuento)\n",
        "print(f\"El Valor Presente Neto del proyecto es: $ {vpn_proyecto:.2f}\")"
      ],
      "metadata": {
        "colab": {
          "base_uri": "https://localhost:8080/"
        },
        "id": "o3_NP65dScXe",
        "outputId": "8cf21819-1502-406e-d822-c43f9d697968"
      },
      "execution_count": 28,
      "outputs": [
        {
          "output_type": "stream",
          "name": "stdout",
          "text": [
            "El Valor Presente Neto del proyecto es: $ 105.06\n"
          ]
        }
      ]
    },
    {
      "cell_type": "markdown",
      "source": [
        "Aquí se desarrolla una explicación detallada del código:\n",
        "\n",
        "```python\n",
        "def calcular_vpn(flujos_proyecto, tasa_descuento):\n",
        "    vpn = sum([flujo / (1 + tasa_descuento)**periodo for periodo, flujo in enumerate(flujos_proyecto, start=1)])\n",
        "    return vpn\n",
        "```\n",
        "\n",
        "1. `def calcular_vpn(flujos_proyecto, tasa_descuento):`: Aquí se define una función llamada `calcular_vpn` que toma dos parámetros: `flujos_proyecto`, que es una lista de flujos de efectivo futuros, y `tasa_descuento`, que es la tasa de descuento utilizada para descontar los flujos de efectivo.\n",
        "\n",
        "2. `vpn = sum([flujo / (1 + tasa_descuento)**periodo for periodo, flujo in enumerate(flujos_proyecto, start=1)])`: Se calcula el VPN utilizando una comprensión de lista y la función `sum`. La comprensión de lista recorre cada flujo de efectivo y su respectivo período usando la función `enumerate` con un índice de inicio de 1. Para cada flujo de efectivo y período, se realiza el cálculo del valor presente (flujo / (1 + tasa_descuento)^periodo). Luego, la función `sum` suma todos los valores presentes calculados para obtener el VPN total.\n",
        "\n",
        "3. `return vpn`: La función devuelve el VPN calculado.\n",
        "\n",
        "<p align=\"justify\">\n",
        "Luego, se definen los valores de <code>flujos_proyecto</code> y <code>tasa_descuento</code>:\n",
        "\n",
        "```python\n",
        "flujos_proyecto = [-1000, 300, 400, 500, 200]\n",
        "tasa_descuento = 0.1\n",
        "```\n",
        "\n",
        "<p align=\"justify\">\n",
        "Finalmente, se llama a la función <code>calcular_vpn</code> con los valores proporcionados y se almacena el resultado en <code>vpn_proyecto</code>. Luego, se imprime el resultado formateado:\n",
        "\n",
        "```python\n",
        "print(f\"El Valor Presente Neto del proyecto es: $ {vpn_proyecto:.2f}\")\n",
        "```\n",
        "\n",
        "<p align=\"justify\">\n",
        "Si se ejecuta este código, se obtiene el Valor Presente Neto del proyecto calculado utilizando los flujos de efectivo proporcionados y la tasa de descuento especificada. El resultado se imprimirá en el formato adecuado, mostrando el VPN con  decimales."
      ],
      "metadata": {
        "id": "pPv7r_qbe0lH"
      }
    },
    {
      "cell_type": "markdown",
      "source": [
        " # **<font color=\"DeepPink\">Lambdas para transformaciones rápidas</font>**\n"
      ],
      "metadata": {
        "id": "YYDYfgY2SC_w"
      }
    },
    {
      "cell_type": "markdown",
      "source": [
        "<p align=\"justify\">\n",
        "A menudo se requieren transformaciones rápidas y anónimas de datos. Las funciones lambda son ideales para esto. Por ejemplo, al calcular la tasa de rendimiento anual compuesta (CAGR) de un activo, podríamos usar una lambda para simplificar el proceso:"
      ],
      "metadata": {
        "id": "mvWkpB6LSEbE"
      }
    },
    {
      "cell_type": "code",
      "source": [
        "cagr = lambda inicio, final, periodos: ((final / inicio) ** (1 / periodos) - 1) * 100\n",
        "\n",
        "inicio_precio = 150.25\n",
        "final_precio = 155.30\n",
        "periodos = 5\n",
        "\n",
        "tasa_cagr = cagr(inicio_precio, final_precio, periodos)\n",
        "print(f\"Tasa CAGR: {tasa_cagr:.2f}%\")"
      ],
      "metadata": {
        "colab": {
          "base_uri": "https://localhost:8080/"
        },
        "id": "lWKbUAAFa0iv",
        "outputId": "38f273a6-3b96-4200-c786-a5fbb368b7b1"
      },
      "execution_count": 22,
      "outputs": [
        {
          "output_type": "stream",
          "name": "stdout",
          "text": [
            "Tasa CAGR: 0.66%\n"
          ]
        }
      ]
    },
    {
      "cell_type": "markdown",
      "source": [
        "<p align=\"justify\">\n",
        "Ese fragmento de código define una función lambda llamada <code>cagr</code> (Compound Annual Growth Rate) que calcula la tasa de crecimiento anual compuesto entre un valor inicial y final en un período dado.\n",
        "<br><br>\n",
        "Luego, se utiliza una función lambda para calcular la tasa CAGR entre dos precios iniciales y finales a lo largo de un número de periodos específico, y finalmente se imprime el resultado en formato porcentual.\n",
        "<br><br>\n",
        "Aquí desarrollamos una explicación detallada del código:\n",
        "\n",
        "```python\n",
        "cagr = lambda inicio, final, periodos: ((final / inicio) ** (1 / periodos) - 1) * 100\n",
        "```\n",
        "\n",
        "<p align=\"justify\">\n",
        "Esta línea define una función lambda llamada <code>cagr</code> que toma tres argumentos: <code>inicio</code>, que representa el valor inicial; <code>final</code>, que representa el valor final; y <code>periodos</code>, que representa el número de períodos.\n",
        "<br><br>\n",
        "La fórmula <code>(final / inicio) ** (1 / periodos)</code> calcula la tasa de crecimiento anualizada entre el valor inicial y final en función del número de periodos. Luego, se resta 1 y se multiplica por 100 para convertir el resultado en porcentaje.\n",
        "<br><br>\n",
        "En resumen, esta función lambda calcula la tasa CAGR. Luego, se definen los valores de <code>inicio_precio</code>, <code>final_precio</code> y <code>periodos</code>:\n",
        "\n",
        "```python\n",
        "inicio_precio = 150.25\n",
        "final_precio = 155.30\n",
        "periodos = 5\n",
        "```\n",
        "\n",
        "<p align=\"justify\">\n",
        "Finalmente, se llama a la función lambda <code>cagr</code> con los valores proporcionados y se almacena el resultado en <code>tasa_cagr</code>. Luego, se imprime el resultado formateado en formato porcentual:\n",
        "\n",
        "```python\n",
        "print(f\"Tasa CAGR: {tasa_cagr:.2f}%\")\n",
        "```\n",
        "\n",
        "<p align=\"justify\">\n",
        "Si ejecutas este código, obtendrás la tasa CAGR calculada entre los precios iniciales y finales dados a lo largo del período especificado. El resultado se imprimirá en el formato adecuado, mostrando la tasa CAGR con dos decimales seguida del símbolo de porcentaje."
      ],
      "metadata": {
        "id": "EJ9PJ3WefpXw"
      }
    },
    {
      "cell_type": "markdown",
      "source": [
        " # **<font color=\"DeepPink\">Funciones de secuencias</font>**\n"
      ],
      "metadata": {
        "id": "JTR51lLSUWFs"
      }
    },
    {
      "cell_type": "markdown",
      "source": [
        " ## **<font color=\"DeepPink\">Enumeración: seguimiento de índices</font>**\n"
      ],
      "metadata": {
        "id": "3K7mOEc4PIep"
      }
    },
    {
      "cell_type": "markdown",
      "source": [
        "<p align=\"justify\">\n",
        "La función <code>enumerate()</code> nos permite recorrer una colección mientras realizamos un seguimiento de los índices de los elementos. Esto es útil cuando necesitamos acceder tanto al elemento como a su posición en la colección."
      ],
      "metadata": {
        "id": "9iu0h_CPPNrz"
      }
    },
    {
      "cell_type": "code",
      "source": [
        "empresas = ['Acme Inc.', 'XYZ Corp.', 'ABC Ltd.']\n",
        "\n",
        "list(enumerate(empresas))"
      ],
      "metadata": {
        "colab": {
          "base_uri": "https://localhost:8080/"
        },
        "id": "3nKSTTfpPUva",
        "outputId": "663b7cde-5bc5-4917-bec3-f0c1cbf9138a"
      },
      "execution_count": 4,
      "outputs": [
        {
          "output_type": "execute_result",
          "data": {
            "text/plain": [
              "[(0, 'Acme Inc.'), (1, 'XYZ Corp.'), (2, 'ABC Ltd.')]"
            ]
          },
          "metadata": {},
          "execution_count": 4
        }
      ]
    },
    {
      "cell_type": "markdown",
      "source": [
        "<p aling=\"justify\">\n",
        "La función <code>enumerate()</code> en Python se utiliza para recorrer una secuencia (como una lista) y obtener tanto los elementos como sus índices correspondientes. Al aplicar la función <code>enumerate()</code> a una secuencia, se devuelve un iterador que genera pares de índices y elementos en cada iteración.\n",
        "<br><br>\n",
        "El resultado de <code>enumerate()</code> se puede convertir en una lista utilizando la función <code>list()</code> para obtener una lista de tuplas que contienen índices y elementos.\n",
        "<br><br>\n",
        "Vamos a analizar la expresión <code>list(enumerate(empresas))</code>. Supongamos que <code>empresas</code> es una lista de nombres de empresas:\n",
        "\n",
        "```python\n",
        "empresas = ['Acme Inc.', 'XYZ Corp.', 'ABC Ltd.']\n",
        "```\n",
        "\n",
        "1. `enumerate(empresas)`: Esto aplicará la función `enumerate()` a la lista `empresas`. El resultado será un iterador que generará pares de índices y elementos en cada iteración. Por ejemplo, en la primera iteración, se generará el par `(0, 'Acme Inc.')`, en la segunda iteración `(1, 'XYZ Corp.')`, y así sucesivamente.\n",
        "\n",
        "2. `list(enumerate(empresas))`: Aquí, se envuelve el resultado de `enumerate(empresas)` con la función `list()`. Esto convierte el iterador generado por `enumerate()` en una lista de tuplas. En este caso, obtendrías una lista de tuplas que contiene los índices y los elementos de la lista `empresas`, como `[(0, 'Acme Inc.'), (1, 'XYZ Corp.'), (2, 'ABC Ltd.')]`.\n",
        "\n",
        "<p align=\"justify\">\n",
        "<code>list(enumerate(empresas))</code> se utiliza para crear una lista de tuplas que contiene los índices y los elementos de la lista <code>empresas</code>.\n",
        "<br><br>\n",
        "Cada tupla representa un par de índice y elemento en la secuencia original. Esto puede ser útil cuando deseas trabajar con ambos índices y elementos al mismo tiempo, por ejemplo, al recorrer y procesar elementos en un bucle <code>for</code>."
      ],
      "metadata": {
        "id": "VAuXEbpzPdUi"
      }
    },
    {
      "cell_type": "code",
      "source": [
        "for i, j in enumerate(empresas):\n",
        "    print(f\"Empresa {i+1}: {j}\")"
      ],
      "metadata": {
        "colab": {
          "base_uri": "https://localhost:8080/"
        },
        "id": "4HyKkkDqPtJB",
        "outputId": "323db98b-b668-479c-dbe5-e1e526d7e784"
      },
      "execution_count": 5,
      "outputs": [
        {
          "output_type": "stream",
          "name": "stdout",
          "text": [
            "Empresa 1: Acme Inc.\n",
            "Empresa 2: XYZ Corp.\n",
            "Empresa 3: ABC Ltd.\n"
          ]
        }
      ]
    },
    {
      "cell_type": "markdown",
      "source": [
        "Veamos cómo funciona este código:\n",
        "\n",
        "```python\n",
        "for i, j in enumerate(empresas):\n",
        "    print(f\"Empresa {i+1}: {j}\")\n",
        "```\n",
        "\n",
        "1. `for i, j in enumerate(empresas):`: Aquí, se inicia un bucle `for` que utiliza la función `enumerate()` para recorrer la lista `empresas`. En cada iteración, `enumerate()` genera un par de valores: el índice y el elemento correspondiente en la lista.\n",
        "\n",
        "2. `i, j`: En cada iteración, se desempaquetan los valores generados por `enumerate()` en las variables `i` y `j`. `i` contendrá el índice y `j` contendrá el elemento (nombre de la empresa).\n",
        "\n",
        "3. `print(f\"Empresa {i+1}: {j}\")`: Dentro del bucle, se imprime un mensaje utilizando una f-string. El mensaje muestra el índice más 1 (ya que los índices suelen empezar desde 0) y el nombre de la empresa correspondiente.\n"
      ],
      "metadata": {
        "id": "EeSNwdtnPtv6"
      }
    },
    {
      "cell_type": "markdown",
      "source": [
        "👀 Otro ejemplo:"
      ],
      "metadata": {
        "id": "mn4tQ40wVUg9"
      }
    },
    {
      "cell_type": "code",
      "source": [
        "activos = ['AAPL', 'GOOG', 'AMZN', 'MSFT']\n",
        "\n",
        "for i, j in enumerate(activos, start=1):\n",
        "    print(f\"Activo {i}: {j}\")"
      ],
      "metadata": {
        "colab": {
          "base_uri": "https://localhost:8080/"
        },
        "id": "4qVTbcxNVU_z",
        "outputId": "7af15ace-7c1d-491d-a0c8-035881711698"
      },
      "execution_count": 12,
      "outputs": [
        {
          "output_type": "stream",
          "name": "stdout",
          "text": [
            "Activo 1: AAPL\n",
            "Activo 2: GOOG\n",
            "Activo 3: AMZN\n",
            "Activo 4: MSFT\n"
          ]
        }
      ]
    },
    {
      "cell_type": "markdown",
      "source": [
        " ## **<font color=\"DeepPink\">Ordenar datos para analizarlos</font>**\n"
      ],
      "metadata": {
        "id": "QdHt-d-UUh4e"
      }
    },
    {
      "cell_type": "markdown",
      "source": [
        "<p align=\"justify\">\n",
        "Ordenar datos es crucial en el análisis de riesgo financiero. Imagina que tienes una lista de retornos de inversión y deseas identificar los activos más riesgosos. Utilizar la función <code>sorted()</code> nos permite ordenar los activos en función de sus retornos. Ejemplo:"
      ],
      "metadata": {
        "id": "6E7R9D9rUvze"
      }
    },
    {
      "cell_type": "code",
      "source": [
        "retornos = [0.08, -0.03, 0.12, -0.02, 0.10]\n",
        "\n",
        "activos_ordenados = sorted(activos, key=lambda activo: retornos[activos.index(activo)], reverse=True)\n",
        "print(activos_ordenados)"
      ],
      "metadata": {
        "colab": {
          "base_uri": "https://localhost:8080/"
        },
        "id": "0M2OBP83U_uO",
        "outputId": "be2551ce-43a3-4091-b497-f63fbdc17853"
      },
      "execution_count": 7,
      "outputs": [
        {
          "output_type": "stream",
          "name": "stdout",
          "text": [
            "['AMZN', 'AAPL', 'MSFT', 'GOOG']\n"
          ]
        }
      ]
    },
    {
      "cell_type": "markdown",
      "source": [
        "<p align=\"justify\">\n",
        "En este fragmento de código se realiza un ordenamiento de una lista de activos financieros en función de los valores de retorno asociados a esos activos. El objetivo es ordenar los activos de manera descendente según sus retornos y luego imprimir la lista resultante de activos ordenados.\n",
        "<br><br>\n",
        "A continuación, se explica cómo funciona el código:\n",
        "\n",
        "```python\n",
        "retornos = [0.08, -0.03, 0.12, -0.02, 0.10]\n",
        "```\n",
        "\n",
        "<p align=\"justify\">\n",
        "En esta línea, se define una lista llamada <code>retornos</code> que contiene los valores de retorno asociados a diferentes activos financieros. Cada valor en la lista representa el retorno correspondiente de un activo en un período específico.\n",
        "\n",
        "```python\n",
        "activos_ordenados = sorted(activos, key=lambda activo: retornos[activos.index(activo)], reverse=True)\n",
        "```\n",
        "\n",
        "- `sorted(activos, key=lambda activo: retornos[activos.index(activo)], reverse=True)`: Aquí, se utiliza la función `sorted` para ordenar la lista de activos. La función `key` se define como una función lambda que toma un activo como entrada y devuelve el valor de retorno correspondiente de ese activo. La función `index` se utiliza para obtener la posición del activo en la lista `activos` y, a continuación, se utiliza para buscar el valor de retorno correspondiente en la lista `retornos`.\n",
        "\n",
        "- `reverse=True`: Indica que el ordenamiento debe realizarse en orden descendente, es decir, de mayor a menor.\n",
        "\n",
        "<p align=\"justify\">\n",
        "Luego, la lista resultante de activos ordenados se almacena en la variable <code>activos_ordenados</code>.\n",
        "\n",
        "```python\n",
        "print(activos_ordenados)\n",
        "```\n",
        "\n",
        "<p align=\"justify\">\n",
        "Finalmente, se imprime la lista de activos ordenados utilizando la función <code>print()</code>.\n",
        "<br><br>\n",
        "En resumen, este código realiza un ordenamiento de activos financieros basado en sus valores de retorno. Los activos se ordenan de manera descendente según sus retornos y se imprime la lista resultante de activos ordenados.\n",
        "<br><br>\n",
        "Esto puede ser útil para identificar los activos con los mayores retornos y analizar su desempeño en un portafolio financiero."
      ],
      "metadata": {
        "id": "xrMhWfWZkHGt"
      }
    },
    {
      "cell_type": "markdown",
      "source": [
        " ## **<font color=\"DeepPink\">Combinar datos con Zip</font>**\n"
      ],
      "metadata": {
        "id": "2SlMDHLzVnZz"
      }
    },
    {
      "cell_type": "markdown",
      "source": [
        "<p align=\"justify\">\n",
        "La función <code>zip()</code> es una herramienta poderosa para combinar y analizar datos de diferentes fuentes.\n",
        "<br><br>\n",
        "Por ejemplo, en el análisis de diversificación de portafolios, podríamos combinar los retornos de activos individuales con los pesos asignados para calcular el rendimiento esperado del portafolio:"
      ],
      "metadata": {
        "id": "sj3MtcirVt9x"
      }
    },
    {
      "cell_type": "code",
      "source": [
        "retornos_activos = [0.08, 0.12, 0.10, 0.07]\n",
        "pesos_activos = [0.4, 0.3, 0.2, 0.1]\n",
        "\n",
        "rendimiento_portafolio = sum(retorno * peso for retorno, peso in zip(retornos_activos, pesos_activos))\n",
        "print(f\"Rendimiento esperado del portafolio: {rendimiento_portafolio:.2%}\")\n"
      ],
      "metadata": {
        "colab": {
          "base_uri": "https://localhost:8080/"
        },
        "id": "-kQwa6DfWpfU",
        "outputId": "13f92025-92e0-4c84-bf77-3a2315344d50"
      },
      "execution_count": 8,
      "outputs": [
        {
          "output_type": "stream",
          "name": "stdout",
          "text": [
            "Rendimiento esperado del portafolio: 9.50%\n"
          ]
        }
      ]
    },
    {
      "cell_type": "markdown",
      "source": [
        "<p align=\"justify\">\n",
        "En este fragmento de código se realiza un cálculo del rendimiento esperado de un portafolio financiero. Se utilizan los retornos esperados de activos individuales y sus respectivos pesos en el portafolio para calcular el rendimiento total esperado del portafolio.\n",
        "<br><br>\n",
        "A continuación, explicamos cómo funciona este código:\n",
        "\n",
        "```python\n",
        "retornos_activos = [0.08, 0.12, 0.10, 0.07]\n",
        "pesos_activos = [0.4, 0.3, 0.2, 0.1]\n",
        "```\n",
        "\n",
        "<p align=\"justify\">\n",
        "En estas líneas, se definen dos listas:\n",
        "\n",
        "\n",
        "- `retornos_activos` contiene los retornos esperados de diferentes activos en un portafolio. Cada valor en la lista representa el retorno esperado de un activo.\n",
        "- `pesos_activos` contiene los pesos asignados a cada activo en el portafolio. Cada valor en la lista representa el peso relativo de un activo en el portafolio.\n",
        "\n",
        "```python\n",
        "rendimiento_portafolio = sum(retorno * peso for retorno, peso in zip(retornos_activos, pesos_activos))\n",
        "```\n",
        "\n",
        "- `sum(retorno * peso for retorno, peso in zip(retornos_activos, pesos_activos))`: Se utiliza la función `sum` junto con una comprensión de lista para calcular el rendimiento esperado del portafolio. La comprensión de lista recorre los elementos de las listas `retornos_activos` y `pesos_activos` utilizando la función `zip`. En cada iteración, se multiplica el retorno de un activo por su peso correspondiente y se suma al resultado total.\n",
        "\n",
        "```python\n",
        "print(f\"Rendimiento esperado del portafolio: {rendimiento_portafolio:.2%}\")\n",
        "```\n",
        "\n",
        "<p align=\"justify\">\n",
        "Finalmente, se imprime el rendimiento esperado del portafolio utilizando la función <code>print()</code>. La cadena de formato <code>{rendimiento_portafolio:.2%}</code> formatea el resultado como un porcentaje con dos decimales.\n",
        "<br><br>\n",
        "En resumen, este código calcula el rendimiento esperado de un portafolio financiero utilizando los retornos esperados de activos individuales y sus respectivos pesos en el portafolio. El resultado se imprime en formato porcentual para mostrar el rendimiento esperado del portafolio.\n",
        "<br><br>\n",
        " Esto es útil para evaluar y comparar diferentes combinaciones de activos en un portafolio y tomar decisiones."
      ],
      "metadata": {
        "id": "QKEfS1bylFdb"
      }
    },
    {
      "cell_type": "markdown",
      "source": [
        " # **<font color=\"DeepPink\">Conclusiones</font>**"
      ],
      "metadata": {
        "id": "DPoHvfuiX-Fv"
      }
    },
    {
      "cell_type": "markdown",
      "source": [
        "<p align=\"justify\">\n",
        "Las funciones declaradas pueden adaptarse para abordar cambios en los requisitos o nuevos escenarios. A medida que surgen nuevos datos o se presentan nuevos desafíos financieros, las funciones pueden ajustarse y reutilizarse.\n",
        "<br><br>\n",
        "Las operaciones de secuencias, como enumerar, ordenar, combinar y revertir, son esenciales en el análisis financiero. Estas operaciones permiten a los profesionales de finanzas acceder, organizar y manipular datos de manera eficiente."
      ],
      "metadata": {
        "id": "I3zWjfp_X_Tt"
      }
    },
    {
      "cell_type": "markdown",
      "source": [
        "<p align=\"justify\">\n",
        "👀 En este colab nosotros:\n",
        "<br><br>\n",
        "✅ Declaramos de funciones.\n",
        "<br>\n",
        "✅ Vimos funciones lambdas.\n",
        "<br>\n",
        "✅ Vimos la función de secuencia <code>enumerate()</code>.\n",
        "<br>\n",
        "✅ Vimos la función de secuencia <code>sorted()</code>.\n",
        "<br>\n",
        "✅ Y por último vimos la función de secuencia <code>zip()</code>.\n",
        "<br>\n",
        "<br>\n",
        "<p align=\"center\">\n",
        "<img src=\"https://www.python.org/static/community_logos/python-powered-h-70x91.png\">\n",
        "</p>\n",
        "\n",
        "---"
      ],
      "metadata": {
        "id": "bJQIiSvgX_wl"
      }
    }
  ]
}