{
  "nbformat": 4,
  "nbformat_minor": 0,
  "metadata": {
    "colab": {
      "provenance": [],
      "toc_visible": true,
      "include_colab_link": true
    },
    "kernelspec": {
      "name": "python3",
      "display_name": "Python 3"
    },
    "language_info": {
      "name": "python"
    }
  },
  "cells": [
    {
      "cell_type": "markdown",
      "metadata": {
        "id": "view-in-github",
        "colab_type": "text"
      },
      "source": [
        "<a href=\"https://colab.research.google.com/github/cristiandarioortegayubro/pandito/blob/main/colab/01_python_002.ipynb\" target=\"_parent\"><img src=\"https://colab.research.google.com/assets/colab-badge.svg\" alt=\"Open In Colab\"/></a>"
      ]
    },
    {
      "cell_type": "markdown",
      "source": [
        "<h1 p align=\"center\">\n",
        "<b>\n",
        "<font color=\"DeepPink\">\n",
        "Saliendo de lo pandito\n",
        "</font>\n",
        "</h1>\n",
        "\n",
        "<p align=\"center\">\n",
        "<img src=\"https://github.com/cristiandarioortegayubro/BDS/blob/main/images/Logo%20BDS%20Horizontal%208.png?raw=true\" width=\"400\">\n",
        "</p>\n",
        "\n",
        "<p align=\"center\">\n",
        "<img src=\"https://github.com/cristiandarioortegayubro/pandito/blob/main/images/imagen-001.png?raw=true\" width=\"300\">\n",
        "</p>\n",
        "\n"
      ],
      "metadata": {
        "id": "iheuwam9e4CH"
      }
    },
    {
      "cell_type": "markdown",
      "source": [
        " # **<font color=\"DeepPink\">Python - Estructuras de datos</font>**"
      ],
      "metadata": {
        "id": "_o8tuKydjnRZ"
      }
    },
    {
      "cell_type": "markdown",
      "source": [
        "<p align=\"justify\">\n",
        "En este colab, vamos a desarrollar las estructuras de datos de Python. Conocer estas estructuras, es fundamental para el desarrollo de los contenidos propuestos. Por ese motivo, vamos a explayarnos en las estructuras de datos y en métodos usuales.\n",
        "</p>\n"
      ],
      "metadata": {
        "id": "0BN_orzexe6T"
      }
    },
    {
      "cell_type": "markdown",
      "source": [
        "<p>\n",
        "<font color=\"DeepPink\">\n",
        "\n",
        "👀 Antes que nada, verificamos la versión de Python con la cual estamos trabajando...\n",
        "\n",
        "</font>\n",
        "</p>"
      ],
      "metadata": {
        "id": "1rHe8QY0yHGg"
      }
    },
    {
      "cell_type": "code",
      "source": [
        "!python3 -V"
      ],
      "metadata": {
        "colab": {
          "base_uri": "https://localhost:8080/"
        },
        "id": "9lRU71cRx4gI",
        "outputId": "982eadd2-72cf-4c96-cea0-d643d7725957"
      },
      "execution_count": null,
      "outputs": [
        {
          "output_type": "stream",
          "name": "stdout",
          "text": [
            "Python 3.10.12\n"
          ]
        }
      ]
    },
    {
      "cell_type": "markdown",
      "source": [
        "## **<font color=\"DeepPink\">Listas: flexibilidad y versatilidad</font>**"
      ],
      "metadata": {
        "id": "mwFZCYnnyM2W"
      }
    },
    {
      "cell_type": "markdown",
      "source": [
        "<p align=\"justify\">\n",
        "Comenzamos con una de las estructuras de datos más versátiles de Python: las listas.\n",
        "<br><br>\n",
        "Una lista es una colección ordenada de elementos, que pueden ser de cualquier tipo de datos. Las listas nos permiten almacenar y acceder a múltiples valores en una sola variable.\n"
      ],
      "metadata": {
        "id": "FC8vUaLAy2Gm"
      }
    },
    {
      "cell_type": "code",
      "source": [
        "precios_acciones = [150.75, 155.20, 160.50, 156.80, 162.30]\n",
        "print(precios_acciones)"
      ],
      "metadata": {
        "colab": {
          "base_uri": "https://localhost:8080/"
        },
        "id": "EOQpL052zAS3",
        "outputId": "0763b303-4ea2-4bd7-a93a-6707d5812088"
      },
      "execution_count": null,
      "outputs": [
        {
          "output_type": "stream",
          "name": "stdout",
          "text": [
            "[150.75, 155.2, 160.5, 156.8, 162.3]\n"
          ]
        }
      ]
    },
    {
      "cell_type": "markdown",
      "source": [
        "<p align=\"justify\">\n",
        "En este fragmento de código se define una lista llamada <code>precios_acciones</code> que contiene una serie de precios de acciones. Luego, se imprime la lista completa de precios de acciones.\n",
        "<br><br>\n",
        "A continuación, explicamos cómo funciona este código:\n",
        "\n",
        "```python\n",
        "precios_acciones = [150.75, 155.20, 160.50, 156.80, 162.30]\n",
        "```\n",
        "\n",
        "<p align=\"justify\">\n",
        "En esta línea, se define una lista llamada <code>precios_acciones</code>. La lista contiene varios valores numéricos que representan los precios de acciones en diferentes momentos o períodos. Cada valor en la lista corresponde a un precio de acción específico.\n",
        "\n",
        "```python\n",
        "print(precios_acciones)\n",
        "```\n",
        "\n",
        "<p align=\"justify\">\n",
        "Esta línea utiliza la función <code>print</code> para mostrar la lista <code>precios_acciones</code> en la consola. Al ejecutar esta línea, verás que se imprime la lista completa de precios de acciones tal como se definió anteriormente.\n",
        "<br><br>\n",
        "Por ejemplo, si se ejecuta este código, se obtiene la siguiente salida:\n",
        "\n",
        "```\n",
        "[150.75, 155.20, 160.50, 156.80, 162.30]\n",
        "```\n",
        "\n",
        "<p align=\"justify\">\n",
        "Este tipo de estructura de datos, una lista en este caso, es útil para almacenar y manipular colecciones de valores relacionados, como precios de acciones en este ejemplo. Puedes acceder a los elementos individuales de la lista, realizar cálculos y análisis, y realizar operaciones en conjunto utilizando métodos y funciones disponibles para trabajar con listas."
      ],
      "metadata": {
        "id": "vgrG3VKVNG6h"
      }
    },
    {
      "cell_type": "markdown",
      "source": [
        "<p align=\"justify\">\n",
        "👀 A continuación, se desarrollan algunos métodos de las listas, acompañados de ejemplos relacionados con finanzas:"
      ],
      "metadata": {
        "id": "e27E6b66Okp9"
      }
    },
    {
      "cell_type": "markdown",
      "source": [
        "### **<font color=\"DeepPink\">Método <code>append()</code></font>**"
      ],
      "metadata": {
        "id": "ZgLJaJhZN2sE"
      }
    },
    {
      "cell_type": "markdown",
      "source": [
        "\n",
        "1. **`append()`**: Agrega un elemento al final de la lista.\n",
        "   Ejemplo en finanzas: Registrar precios diarios de una acción a lo largo del tiempo.\n",
        "   ```python\n",
        "   precios_accion = [150.75, 155.20, 160.50]\n",
        "\n",
        "   precios_accion.append(162.30)\n",
        "   precios_accion\n",
        "   ```\n",
        "\n"
      ],
      "metadata": {
        "id": "dPZmBr5GO-6O"
      }
    },
    {
      "cell_type": "code",
      "source": [
        "precios_accion = [150.75, 155.20, 160.50]\n",
        "\n",
        "precios_accion.append(162.30)\n",
        "precios_accion"
      ],
      "metadata": {
        "colab": {
          "base_uri": "https://localhost:8080/"
        },
        "id": "ZSvha1d9OlDM",
        "outputId": "a7024b3c-f885-4da5-e64e-49738c17628e"
      },
      "execution_count": 1,
      "outputs": [
        {
          "output_type": "execute_result",
          "data": {
            "text/plain": [
              "[150.75, 155.2, 160.5, 162.3]"
            ]
          },
          "metadata": {},
          "execution_count": 1
        }
      ]
    },
    {
      "cell_type": "markdown",
      "source": [
        "### **<font color=\"DeepPink\">Método <code>extend()</code></font>**"
      ],
      "metadata": {
        "id": "NLB57T9mQqxm"
      }
    },
    {
      "cell_type": "markdown",
      "source": [
        "2. **`extend()`**: Agrega múltiples elementos al final de la lista.\n",
        "   Ejemplo en finanzas: Agregar nuevos activos a una cartera existente.\n",
        "   ```python\n",
        "   cartera_activos = ['AAPL', 'GOOG']\n",
        "   nuevos_activos = ['AMZN', 'TSLA']\n",
        "\n",
        "   cartera_activos.extend(nuevos_activos)\n",
        "   cartera_activos\n",
        "   ```\n",
        "\n"
      ],
      "metadata": {
        "id": "M8jl76EOPO9U"
      }
    },
    {
      "cell_type": "code",
      "source": [
        "cartera_activos = ['AAPL', 'GOOG']\n",
        "nuevos_activos = ['AMZN', 'TSLA']\n",
        "\n",
        "cartera_activos.extend(nuevos_activos)\n",
        "cartera_activos"
      ],
      "metadata": {
        "colab": {
          "base_uri": "https://localhost:8080/"
        },
        "id": "bdNNd4OxPtvc",
        "outputId": "7f6f2510-65ce-4daf-d73e-78a70c7e4edb"
      },
      "execution_count": 2,
      "outputs": [
        {
          "output_type": "execute_result",
          "data": {
            "text/plain": [
              "['AAPL', 'GOOG', 'AMZN', 'TSLA']"
            ]
          },
          "metadata": {},
          "execution_count": 2
        }
      ]
    },
    {
      "cell_type": "markdown",
      "source": [
        "### **<font color=\"DeepPink\">Método <code>insert()</code></font>**"
      ],
      "metadata": {
        "id": "PVBfVkw1Qtcc"
      }
    },
    {
      "cell_type": "markdown",
      "source": [
        "3. **`insert()`**: Inserta un elemento en una posición específica de la lista.\n",
        "   Ejemplo en finanzas: Insertar un nuevo activo en una posición estratégica en una cartera.\n",
        "   ```python\n",
        "   cartera_activos.insert(2, 'MSFT')\n",
        "   cartera_activos\n",
        "   ```\n",
        "\n"
      ],
      "metadata": {
        "id": "XiD4Q-O4PuLF"
      }
    },
    {
      "cell_type": "code",
      "source": [
        "cartera_activos.insert(2, 'MSFT')\n",
        "cartera_activos"
      ],
      "metadata": {
        "colab": {
          "base_uri": "https://localhost:8080/"
        },
        "id": "YlA94e8IQON2",
        "outputId": "371b5f5c-d1aa-4b56-9f1e-6b7d6f8cedc3"
      },
      "execution_count": 3,
      "outputs": [
        {
          "output_type": "execute_result",
          "data": {
            "text/plain": [
              "['AAPL', 'GOOG', 'MSFT', 'AMZN', 'TSLA']"
            ]
          },
          "metadata": {},
          "execution_count": 3
        }
      ]
    },
    {
      "cell_type": "markdown",
      "source": [
        "### **<font color=\"DeepPink\">Método <code>remove()</code></font>**"
      ],
      "metadata": {
        "id": "rVjDUL3hQwcI"
      }
    },
    {
      "cell_type": "markdown",
      "source": [
        "4. **`remove()`**: Elimina el primer elemento con un valor específico de la lista.\n",
        "   Ejemplo en finanzas: Eliminar un activo de una cartera debido a un cambio de estrategia.\n",
        "   ```python\n",
        "   cartera_activos.remove('GOOG')\n",
        "   cartera_activos\n",
        "   ```\n",
        "\n"
      ],
      "metadata": {
        "id": "1SGlQ-10QOtA"
      }
    },
    {
      "cell_type": "code",
      "source": [
        "cartera_activos.remove('GOOG')\n",
        "cartera_activos"
      ],
      "metadata": {
        "colab": {
          "base_uri": "https://localhost:8080/"
        },
        "id": "4kZa9opZQ7a9",
        "outputId": "3bbe59f1-65da-44a2-debd-ccee14358341"
      },
      "execution_count": 4,
      "outputs": [
        {
          "output_type": "execute_result",
          "data": {
            "text/plain": [
              "['AAPL', 'MSFT', 'AMZN', 'TSLA']"
            ]
          },
          "metadata": {},
          "execution_count": 4
        }
      ]
    },
    {
      "cell_type": "markdown",
      "source": [
        "### **<font color=\"DeepPink\">Método <code>pop()</code></font>**"
      ],
      "metadata": {
        "id": "taDF50jSRFim"
      }
    },
    {
      "cell_type": "markdown",
      "source": [
        "5. **`pop()`**: Elimina y devuelve el elemento en una posición específica de la lista.\n",
        "   Ejemplo en finanzas: Vender un activo específico en una cartera.\n",
        "   ```python\n",
        "   activo_vendido = cartera_activos.pop(1)\n",
        "   activo_vendido\n",
        "   ```\n",
        "\n"
      ],
      "metadata": {
        "id": "swzXhx68Q8ZX"
      }
    },
    {
      "cell_type": "code",
      "source": [
        "activo_vendido = cartera_activos.pop(1)\n",
        "activo_vendido"
      ],
      "metadata": {
        "colab": {
          "base_uri": "https://localhost:8080/",
          "height": 37
        },
        "id": "WU0-F4HJRchY",
        "outputId": "9f41cd4b-22b4-43cb-f65e-98877ff69b44"
      },
      "execution_count": 5,
      "outputs": [
        {
          "output_type": "execute_result",
          "data": {
            "text/plain": [
              "'MSFT'"
            ],
            "application/vnd.google.colaboratory.intrinsic+json": {
              "type": "string"
            }
          },
          "metadata": {},
          "execution_count": 5
        }
      ]
    },
    {
      "cell_type": "markdown",
      "source": [
        "## **<font color=\"DeepPink\">Tuplas: inmutabilidad y seguridad</font>**"
      ],
      "metadata": {
        "id": "zZ0DjTs0zYFQ"
      }
    },
    {
      "cell_type": "markdown",
      "source": [
        "<p align=\"justify\">\n",
        "Las tuplas son similares a las listas, pero con una diferencia fundamental: son inmutables, lo que significa que no se pueden modificar después de la creación.\n",
        "<br><br>\n",
        "Las tuplas son ideales para almacenar datos que no deben cambiar, como fechas o coordenadas.\n"
      ],
      "metadata": {
        "id": "bEejTzUWzd1E"
      }
    },
    {
      "cell_type": "code",
      "source": [
        "fechas_inversion = ('2023-08-01', '2023-08-07', '2023-08-14')\n",
        "print(fechas_inversion)"
      ],
      "metadata": {
        "colab": {
          "base_uri": "https://localhost:8080/"
        },
        "id": "OKx_w0S3zzor",
        "outputId": "84b50420-08f1-4158-973b-4a3b7c28ea50"
      },
      "execution_count": null,
      "outputs": [
        {
          "output_type": "stream",
          "name": "stdout",
          "text": [
            "('2023-08-01', '2023-08-07', '2023-08-14')\n"
          ]
        }
      ]
    },
    {
      "cell_type": "markdown",
      "source": [
        "### **<font color=\"DeepPink\">Empaquetado</font>**"
      ],
      "metadata": {
        "id": "0RL33_dY8kJ8"
      }
    },
    {
      "cell_type": "markdown",
      "source": [
        "<p align=\"justify\">\n",
        "Ahora vamos a empaquetar y desempaquetar una tupla...\n",
        "</p>\n"
      ],
      "metadata": {
        "id": "Byh0_xz28zfz"
      }
    },
    {
      "cell_type": "code",
      "source": [
        "precios = 340.4 , 342.8 , 343.9, 342.5, 341.7, 342.1, 343.9\n",
        "precios"
      ],
      "metadata": {
        "id": "k7II989O8r00",
        "colab": {
          "base_uri": "https://localhost:8080/"
        },
        "outputId": "1c605965-ff9b-458c-e065-45af82526673"
      },
      "execution_count": 26,
      "outputs": [
        {
          "output_type": "execute_result",
          "data": {
            "text/plain": [
              "(340.4, 342.8, 343.9, 342.5, 341.7, 342.1, 343.9)"
            ]
          },
          "metadata": {},
          "execution_count": 26
        }
      ]
    },
    {
      "cell_type": "markdown",
      "source": [
        "### **<font color=\"DeepPink\">Desempaquetado</font>**\n"
      ],
      "metadata": {
        "id": "GgiBwYUH84xV"
      }
    },
    {
      "cell_type": "code",
      "source": [
        "dia01, dia02, dia03, dia04, dia05, dia06, dia07 = precios"
      ],
      "metadata": {
        "id": "JBO70kSe9BX0"
      },
      "execution_count": 27,
      "outputs": []
    },
    {
      "cell_type": "code",
      "source": [
        "print(f\"Precios en la semana \\n primer dia  $ {dia01:.2f} \\n segundo dia $ {dia02:.2f}\")"
      ],
      "metadata": {
        "colab": {
          "base_uri": "https://localhost:8080/"
        },
        "id": "s8nxnuYx9FaV",
        "outputId": "4b47a852-62ea-4812-d518-3485417f8fbe"
      },
      "execution_count": 28,
      "outputs": [
        {
          "output_type": "stream",
          "name": "stdout",
          "text": [
            "Precios en la semana \n",
            " primer dia  $ 340.40 \n",
            " segundo dia $ 342.80\n"
          ]
        }
      ]
    },
    {
      "cell_type": "markdown",
      "source": [
        "## **<font color=\"DeepPink\">Diccionarios: asociación de Claves y Valores</font>**"
      ],
      "metadata": {
        "id": "WTblAgGT0-8s"
      }
    },
    {
      "cell_type": "markdown",
      "source": [
        "<p align=\"justify\">\n",
        "Los diccionarios son estructuras que permiten almacenar datos en pares clave-valor. Son ideales para representar datos estructurados y asociativos, como información de empresas y sus respectivos precios."
      ],
      "metadata": {
        "id": "OYuhHMT51Eh8"
      }
    },
    {
      "cell_type": "code",
      "source": [
        "empresa_precios = {\n",
        "    'Acme Inc.': 150.75,\n",
        "    'XYZ Corp.': 155.20,\n",
        "    'ABC Ltd.': 160.50}\n",
        "\n",
        "print(empresa_precios)"
      ],
      "metadata": {
        "colab": {
          "base_uri": "https://localhost:8080/"
        },
        "id": "jDubqHPN1M93",
        "outputId": "1740c582-96fd-4206-dcdb-3c4142354d0d"
      },
      "execution_count": null,
      "outputs": [
        {
          "output_type": "stream",
          "name": "stdout",
          "text": [
            "{'Acme Inc.': 150.75, 'XYZ Corp.': 155.2, 'ABC Ltd.': 160.5}\n"
          ]
        }
      ]
    },
    {
      "cell_type": "markdown",
      "source": [
        "<p align=\"justify\">\n",
        "Este fragmento de código crea un diccionario llamado <code>empresa_precios</code> que relaciona el nombre de una empresa con su respectivo precio.\n",
        "<br><br>\n",
        "Luego, imprime este diccionario completo. A continuación, te explico cómo funciona este código:\n",
        "\n",
        "```python\n",
        "empresa_precios = {\n",
        "    'Acme Inc.': 150.75,\n",
        "    'XYZ Corp.': 155.20,\n",
        "    'ABC Ltd.': 160.50}\n",
        "```\n",
        "\n",
        "<p align=\"justify\">\n",
        "En estas líneas, se crea un diccionario llamado <code>empresa_precios</code>. Cada elemento del diccionario consiste en una clave (nombre de la empresa) y un valor (precio de la acción de la empresa). Los elementos están separados por comas y se encuentran dentro de llaves <code>{ }</code>.\n",
        "\n",
        "- `'Acme Inc.'`, `'XYZ Corp.'` y `'ABC Ltd.'` son claves (o keys) que representan los nombres de las empresas.\n",
        "- `150.75`, `155.20` y `160.50` son valores correspondientes a los precios de las acciones de las respectivas empresas.\n",
        "\n",
        "<p align=\"justify\">\n",
        "Los diccionarios son estructuras de datos en Python que permiten almacenar pares clave-valor. Cada clave es única y se utiliza para acceder al valor asociado. En este caso, las claves son los nombres de las empresas y los valores son los precios de las acciones.\n",
        "\n",
        "```python\n",
        "print(empresa_precios)\n",
        "```\n",
        "\n",
        "<p align=\"justify\">\n",
        "Esta línea utiliza la función <code>print</code> para mostrar el diccionario <code>empresa_precios</code> en la consola. Al ejecutar este código, verás que se imprime el diccionario completo tal como se definió anteriormente.\n",
        "<br><br>\n",
        "Por ejemplo, si ejecutas el código, obtendrás la siguiente salida:\n",
        "\n",
        "```\n",
        "{'Acme Inc.': 150.75, 'XYZ Corp.': 155.20, 'ABC Ltd.': 160.50}\n",
        "```\n",
        "\n"
      ],
      "metadata": {
        "id": "W-mocqDSh4cu"
      }
    },
    {
      "cell_type": "markdown",
      "source": [
        "<p align=\"justify\">\n",
        "👀 A continuación, se desarrollan algunos métodos de los diccionarios, acompañados de ejemplos relacionados con finanzas:"
      ],
      "metadata": {
        "id": "G29G2eJoSlFE"
      }
    },
    {
      "cell_type": "markdown",
      "source": [
        "### **<font color=\"DeepPink\">Método <code>get()</code></font>**"
      ],
      "metadata": {
        "id": "OtavOOGnSrWb"
      }
    },
    {
      "cell_type": "markdown",
      "source": [
        "\n",
        "1. **dict.get(clave, valor_predeterminado)**: Devuelve el valor asociado con una clave dada. Si la clave no existe, devuelve un valor predeterminado.\n",
        "\n",
        "```python\n",
        "cotizaciones = {'AAPL': 150.25, 'GOOG': 2500.60, 'AMZN': 3500.20}\n",
        "\n",
        "precio_aapl = cotizaciones.get('AAPL', 0)  # Obtener el precio de AAPL, o 0 si no existe\n",
        "print(f\"Precio de AAPL: ${precio_aapl:.2f}\")\n",
        "```\n"
      ],
      "metadata": {
        "id": "dyqKVsJkSaqy"
      }
    },
    {
      "cell_type": "code",
      "source": [
        "cotizaciones = {'AAPL': 150.25, 'GOOG': 2500.60, 'AMZN': 3500.20}\n",
        "\n",
        "precio_aapl = cotizaciones.get('AAPL', 0)  # Obtener el precio de AAPL, o 0 si no existe\n",
        "print(f\"Precio de AAPL: $ {precio_aapl:.2f}\")"
      ],
      "metadata": {
        "colab": {
          "base_uri": "https://localhost:8080/"
        },
        "id": "7hA4qOjnS3h1",
        "outputId": "2c70b824-9c44-4c14-c1d0-574d592c8b85"
      },
      "execution_count": 7,
      "outputs": [
        {
          "output_type": "stream",
          "name": "stdout",
          "text": [
            "Precio de AAPL: $ 150.25\n"
          ]
        }
      ]
    },
    {
      "cell_type": "markdown",
      "source": [
        "### **<font color=\"DeepPink\">Método <code>keys()</code></font>**"
      ],
      "metadata": {
        "id": "yQzxJxz8S4CE"
      }
    },
    {
      "cell_type": "markdown",
      "source": [
        "\n",
        "2. **dict.keys()**: Devuelve una lista de todas las claves en el diccionario.\n",
        "\n",
        "```python\n",
        "cotizaciones = {'AAPL': 150.25, 'GOOG': 2500.60, 'AMZN': 3500.20}\n",
        "\n",
        "activos = cotizaciones.keys()\n",
        "print(f\"Activos en cartera: {', '.join(activos)}\")\n",
        "```\n",
        "\n"
      ],
      "metadata": {
        "id": "x6svBcOTS4ma"
      }
    },
    {
      "cell_type": "code",
      "source": [
        "cotizaciones = {'AAPL': 150.25, 'GOOG': 2500.60, 'AMZN': 3500.20}\n",
        "\n",
        "activos = cotizaciones.keys()\n",
        "print(f\"Activos en cartera: {', '.join(activos)}\")"
      ],
      "metadata": {
        "colab": {
          "base_uri": "https://localhost:8080/"
        },
        "id": "jcNtBJUwTSsF",
        "outputId": "4b306512-9068-4d87-d2a5-6b20b6bb1171"
      },
      "execution_count": 8,
      "outputs": [
        {
          "output_type": "stream",
          "name": "stdout",
          "text": [
            "Activos en cartera: AAPL, GOOG, AMZN\n"
          ]
        }
      ]
    },
    {
      "cell_type": "markdown",
      "source": [
        "### **<font color=\"DeepPink\">Método <code>values()</code></font>**"
      ],
      "metadata": {
        "id": "3IiE7GGjTTJU"
      }
    },
    {
      "cell_type": "markdown",
      "source": [
        "3. **dict.values()**: Devuelve una lista de todos los valores en el diccionario.\n",
        "\n",
        "```python\n",
        "cotizaciones = {'AAPL': 150.25, 'GOOG': 2500.60, 'AMZN': 3500.20}\n",
        "\n",
        "precios = cotizaciones.values()\n",
        "print(f\"Precios en cartera: {', '.join(map(str, precios))}\")\n",
        "```\n",
        "\n"
      ],
      "metadata": {
        "id": "nLjLxjkDTTqv"
      }
    },
    {
      "cell_type": "code",
      "source": [
        "cotizaciones = {'AAPL': 150.25, 'GOOG': 2500.60, 'AMZN': 3500.20}\n",
        "\n",
        "precios = cotizaciones.values()\n",
        "print(f\"Precios en cartera: {', '.join(map(str, precios))}\")"
      ],
      "metadata": {
        "colab": {
          "base_uri": "https://localhost:8080/"
        },
        "id": "1p7sZoc0UNT4",
        "outputId": "879b4996-226e-4904-d90b-a301eaf353d7"
      },
      "execution_count": 9,
      "outputs": [
        {
          "output_type": "stream",
          "name": "stdout",
          "text": [
            "Precios en cartera: 150.25, 2500.6, 3500.2\n"
          ]
        }
      ]
    },
    {
      "cell_type": "markdown",
      "source": [
        "### **<font color=\"DeepPink\">Método <code>items()</code></font>**"
      ],
      "metadata": {
        "id": "xLblcgUyUN0J"
      }
    },
    {
      "cell_type": "markdown",
      "source": [
        "4. **dict.items()**: Devuelve una lista de tuplas (clave, valor) para cada par en el diccionario.\n",
        "\n",
        "```python\n",
        "cotizaciones = {'AAPL': 150.25, 'GOOG': 2500.60, 'AMZN': 3500.20}\n",
        "\n",
        "items = cotizaciones.items()\n",
        "print(f\"Items: {', '.join(map(str, items))}\")\n",
        "```\n",
        "\n"
      ],
      "metadata": {
        "id": "lrm72wqSUOy5"
      }
    },
    {
      "cell_type": "code",
      "source": [
        "cotizaciones = {'AAPL': 150.25, 'GOOG': 2500.60, 'AMZN': 3500.20}\n",
        "\n",
        "items = cotizaciones.items()\n",
        "print(f\"Items: {', '.join(map(str, items))}\")"
      ],
      "metadata": {
        "colab": {
          "base_uri": "https://localhost:8080/"
        },
        "id": "c-GYergEUqOY",
        "outputId": "d64c63ef-4bbb-4af4-9afd-611e2fbf6508"
      },
      "execution_count": 14,
      "outputs": [
        {
          "output_type": "stream",
          "name": "stdout",
          "text": [
            "Items: ('AAPL', 150.25), ('GOOG', 2500.6), ('AMZN', 3500.2)\n"
          ]
        }
      ]
    },
    {
      "cell_type": "markdown",
      "source": [
        "### **<font color=\"DeepPink\">Método <code>pop()</code></font>**"
      ],
      "metadata": {
        "id": "_yqqv3nVUqu5"
      }
    },
    {
      "cell_type": "markdown",
      "source": [
        "5. **dict.pop(clave, valor_predeterminado)**: Elimina la clave y devuelve su valor. Si la clave no existe, devuelve un valor predeterminado.\n",
        "\n",
        "```python\n",
        "cotizaciones = {'AAPL': 150.25, 'GOOG': 2500.60, 'AMZN': 3500.20}\n",
        "\n",
        "precio_amzn = cotizaciones.pop('AMZN', 0)  # Eliminar AMZN y obtener su precio, o 0 si no existe\n",
        "print(f\"Precio eliminado de AMZN: ${precio_amzn:.2f}\")\n",
        "```\n"
      ],
      "metadata": {
        "id": "vVjMZGboVud2"
      }
    },
    {
      "cell_type": "code",
      "source": [
        "cotizaciones = {'AAPL': 150.25, 'GOOG': 2500.60, 'AMZN': 3500.20}\n",
        "\n",
        "precio_amzn = cotizaciones.pop('AMZN', 0)\n",
        "print(f\"Precio eliminado de AMZN: $ {precio_amzn:.2f}\")"
      ],
      "metadata": {
        "colab": {
          "base_uri": "https://localhost:8080/"
        },
        "id": "vJCCTn2JVvZw",
        "outputId": "31a4e7ef-0df9-4369-8787-081d83d6be0e"
      },
      "execution_count": 16,
      "outputs": [
        {
          "output_type": "stream",
          "name": "stdout",
          "text": [
            "Precio eliminado de AMZN: $ 3500.20\n"
          ]
        }
      ]
    },
    {
      "cell_type": "markdown",
      "source": [
        "### **<font color=\"DeepPink\">Método <code>update()</code></font>**"
      ],
      "metadata": {
        "id": "QSH4wYN7WciY"
      }
    },
    {
      "cell_type": "markdown",
      "source": [
        "\n",
        "6. **dict.update(otro_diccionario)**: Fusiona otro diccionario en el diccionario actual.\n",
        "\n",
        "```python\n",
        "cotizaciones = {'AAPL': 150.25, 'GOOG': 2500.60}\n",
        "cotizaciones_nuevas = {'AMZN': 3500.20, 'MSFT': 300.50}\n",
        "\n",
        "cotizaciones.update(cotizaciones_nuevas)\n",
        "print(f\"Cotizaciones actualizadas: {cotizaciones}\")\n",
        "```"
      ],
      "metadata": {
        "id": "08roa3-oUrU_"
      }
    },
    {
      "cell_type": "code",
      "source": [
        "cotizaciones = {'AAPL': 150.25, 'GOOG': 2500.60}\n",
        "cotizaciones_nuevas = {'AMZN': 3500.20, 'MSFT': 300.50}\n",
        "\n",
        "cotizaciones.update(cotizaciones_nuevas)\n",
        "print(f\"Cotizaciones actualizadas: {cotizaciones}\")"
      ],
      "metadata": {
        "colab": {
          "base_uri": "https://localhost:8080/"
        },
        "id": "9_zrBGKoWl3m",
        "outputId": "25e8b059-f086-4db2-c337-c36afac02f44"
      },
      "execution_count": 17,
      "outputs": [
        {
          "output_type": "stream",
          "name": "stdout",
          "text": [
            "Cotizaciones actualizadas: {'AAPL': 150.25, 'GOOG': 2500.6, 'AMZN': 3500.2, 'MSFT': 300.5}\n"
          ]
        }
      ]
    },
    {
      "cell_type": "markdown",
      "source": [
        "## **<font color=\"DeepPink\">Conjuntos: almacenamiento de elementos únicos</font>**"
      ],
      "metadata": {
        "id": "6hbh5cwu1liW"
      }
    },
    {
      "cell_type": "markdown",
      "source": [
        "<p align=\"justify\">\n",
        "Los conjuntos son colecciones de elementos únicos y desordenados. Son ideales para eliminar duplicados y verificar la pertenencia de elementos en un conjunto de datos.\n"
      ],
      "metadata": {
        "id": "VmGmlpaW1w4Q"
      }
    },
    {
      "cell_type": "code",
      "source": [
        "sectores_empresariales = {'Tecnología', 'Finanzas', 'Energía'}\n",
        "print(sectores_empresariales)"
      ],
      "metadata": {
        "colab": {
          "base_uri": "https://localhost:8080/"
        },
        "id": "NKCNZVls157X",
        "outputId": "2ffba50c-1990-4759-a39b-e8b3c642fe15"
      },
      "execution_count": null,
      "outputs": [
        {
          "output_type": "stream",
          "name": "stdout",
          "text": [
            "{'Finanzas', 'Energía', 'Tecnología'}\n"
          ]
        }
      ]
    },
    {
      "cell_type": "markdown",
      "source": [
        "### **<font color=\"DeepPink\">Método <code>add()</code></font>**"
      ],
      "metadata": {
        "id": "oFwHcpwjWxeN"
      }
    },
    {
      "cell_type": "markdown",
      "source": [
        "\n",
        "1. **add(elemento)**: Agrega un elemento al conjunto si no está presente.\n",
        "\n",
        "   Ejemplo en finanzas:\n",
        "   ```python\n",
        "   activos = {'AAPL', 'GOOG', 'AMZN'}\n",
        "\n",
        "   activos.add('TSLA')\n",
        "   activos\n",
        "   ```\n",
        "\n"
      ],
      "metadata": {
        "id": "pAWuoTieWyOO"
      }
    },
    {
      "cell_type": "code",
      "source": [
        "activos = {'AAPL', 'GOOG', 'AMZN'}\n",
        "\n",
        "activos.add('TSLA')\n",
        "activos"
      ],
      "metadata": {
        "colab": {
          "base_uri": "https://localhost:8080/"
        },
        "id": "Ra8rwMPyWyw7",
        "outputId": "7621b69c-76e8-431a-c612-4d3241b3fdbf"
      },
      "execution_count": 18,
      "outputs": [
        {
          "output_type": "execute_result",
          "data": {
            "text/plain": [
              "{'AAPL', 'AMZN', 'GOOG', 'TSLA'}"
            ]
          },
          "metadata": {},
          "execution_count": 18
        }
      ]
    },
    {
      "cell_type": "markdown",
      "source": [
        "### **<font color=\"DeepPink\">Método <code>remove()</code></font>**"
      ],
      "metadata": {
        "id": "iqQUxGb0XZv_"
      }
    },
    {
      "cell_type": "markdown",
      "source": [
        "2. **remove(elemento)**: Elimina un elemento del conjunto si está presente, de lo contrario, genera un error.\n",
        "\n",
        "   Ejemplo en finanzas:\n",
        "   ```python\n",
        "   activos = {'AAPL', 'GOOG', 'AMZN'}\n",
        "\n",
        "   activos.remove('GOOG')\n",
        "   activos\n",
        "   ```\n",
        "\n"
      ],
      "metadata": {
        "id": "gFx5L8wTXaQH"
      }
    },
    {
      "cell_type": "code",
      "source": [
        "activos = {'AAPL', 'GOOG', 'AMZN'}\n",
        "\n",
        "activos.remove('GOOG')\n",
        "activos"
      ],
      "metadata": {
        "colab": {
          "base_uri": "https://localhost:8080/"
        },
        "id": "WUsIZdUVX1Fy",
        "outputId": "f89abd46-2195-4ba4-aa52-a20a068bbe23"
      },
      "execution_count": 19,
      "outputs": [
        {
          "output_type": "execute_result",
          "data": {
            "text/plain": [
              "{'AAPL', 'AMZN'}"
            ]
          },
          "metadata": {},
          "execution_count": 19
        }
      ]
    },
    {
      "cell_type": "markdown",
      "source": [
        "### **<font color=\"DeepPink\">Método <code>discard()</code></font>**"
      ],
      "metadata": {
        "id": "qju72I50X1iU"
      }
    },
    {
      "cell_type": "markdown",
      "source": [
        "3. **discard(elemento)**: Elimina un elemento del conjunto si está presente, pero no genera un error si no se encuentra.\n",
        "\n",
        "   Ejemplo en finanzas:\n",
        "   ```python\n",
        "   activos = {'AAPL', 'GOOG', 'AMZN'}\n",
        "\n",
        "   activos.discard('TSLA')\n",
        "   activos\n",
        "   ```\n",
        "\n",
        "\n"
      ],
      "metadata": {
        "id": "yVWMw0GgX2Hg"
      }
    },
    {
      "cell_type": "code",
      "source": [
        "activos = {'AAPL', 'GOOG', 'AMZN'}\n",
        "\n",
        "activos.discard('TSLA')\n",
        "activos"
      ],
      "metadata": {
        "colab": {
          "base_uri": "https://localhost:8080/"
        },
        "id": "r_2VXGvWYOwz",
        "outputId": "fa49f0e4-ae31-42cf-843f-0d36b0c0529c"
      },
      "execution_count": 20,
      "outputs": [
        {
          "output_type": "execute_result",
          "data": {
            "text/plain": [
              "{'AAPL', 'AMZN', 'GOOG'}"
            ]
          },
          "metadata": {},
          "execution_count": 20
        }
      ]
    },
    {
      "cell_type": "markdown",
      "source": [
        "### **<font color=\"DeepPink\">Método <code>union()</code></font>**"
      ],
      "metadata": {
        "id": "JAKl6URzYPTr"
      }
    },
    {
      "cell_type": "markdown",
      "source": [
        "4. **union(otro_conjunto)**: Retorna un nuevo conjunto con todos los elementos únicos de ambos conjuntos.\n",
        "\n",
        "   Ejemplo en finanzas:\n",
        "   ```python\n",
        "   activos1 = {'AAPL', 'GOOG', 'AMZN'}\n",
        "   activos2 = {'GOOG', 'TSLA', 'NFLX'}\n",
        "\n",
        "   activos_totales = activos1.union(activos2)\n",
        "   activos_totales\n",
        "   ```\n",
        "\n"
      ],
      "metadata": {
        "id": "v51JeDx0YP0-"
      }
    },
    {
      "cell_type": "code",
      "source": [
        "activos1 = {'AAPL', 'GOOG', 'AMZN'}\n",
        "activos2 = {'GOOG', 'TSLA', 'NFLX'}\n",
        "\n",
        "activos_totales = activos1.union(activos2)\n",
        "activos_totales"
      ],
      "metadata": {
        "colab": {
          "base_uri": "https://localhost:8080/"
        },
        "id": "fGbtu5xzYkuM",
        "outputId": "3355680d-3d2e-4a66-f8f5-eb05503ca81e"
      },
      "execution_count": 21,
      "outputs": [
        {
          "output_type": "execute_result",
          "data": {
            "text/plain": [
              "{'AAPL', 'AMZN', 'GOOG', 'NFLX', 'TSLA'}"
            ]
          },
          "metadata": {},
          "execution_count": 21
        }
      ]
    },
    {
      "cell_type": "markdown",
      "source": [
        "### **<font color=\"DeepPink\">Método <code>intersection()</code></font>**"
      ],
      "metadata": {
        "id": "05XQrmtaYlHe"
      }
    },
    {
      "cell_type": "markdown",
      "source": [
        "5. **intersection(otro_conjunto)**: Retorna un nuevo conjunto con los elementos comunes entre ambos conjuntos.\n",
        "\n",
        "   Ejemplo en finanzas:\n",
        "   ```python\n",
        "   cartera1 = {'AAPL', 'GOOG', 'AMZN'}\n",
        "   cartera2 = {'GOOG', 'TSLA', 'NFLX'}\n",
        "\n",
        "   activos_comunes = cartera1.intersection(cartera2)\n",
        "   activos_comunes\n",
        "   ```\n",
        "\n"
      ],
      "metadata": {
        "id": "h-Mr9LUNYlwx"
      }
    },
    {
      "cell_type": "code",
      "source": [
        "cartera1 = {'AAPL', 'GOOG', 'AMZN'}\n",
        "cartera2 = {'GOOG', 'TSLA', 'NFLX'}\n",
        "\n",
        "activos_comunes = cartera1.intersection(cartera2)\n",
        "activos_comunes"
      ],
      "metadata": {
        "colab": {
          "base_uri": "https://localhost:8080/"
        },
        "id": "NGa7uYJJZBv-",
        "outputId": "f7338c47-9dde-4482-e360-095c887a4071"
      },
      "execution_count": 22,
      "outputs": [
        {
          "output_type": "execute_result",
          "data": {
            "text/plain": [
              "{'GOOG'}"
            ]
          },
          "metadata": {},
          "execution_count": 22
        }
      ]
    },
    {
      "cell_type": "markdown",
      "source": [
        "### **<font color=\"DeepPink\">Método <code>difference()</code></font>**"
      ],
      "metadata": {
        "id": "qYC5cQBwZCO2"
      }
    },
    {
      "cell_type": "markdown",
      "source": [
        "6. **difference(otro_conjunto)**: Retorna un nuevo conjunto con los elementos que están en el conjunto original pero no en el otro conjunto.\n",
        "\n",
        "   Ejemplo en finanzas:\n",
        "   ```python\n",
        "   activos_portafolio = {'AAPL', 'GOOG', 'AMZN', 'TSLA'}\n",
        "   activos_excluidos = {'AAPL', 'TSLA'}\n",
        "\n",
        "   activos_restantes = activos_portafolio.difference(activos_excluidos)\n",
        "   activos_restantes\n",
        "   ```\n",
        "\n"
      ],
      "metadata": {
        "id": "Lz8uvbjoZC0k"
      }
    },
    {
      "cell_type": "code",
      "source": [
        "activos_portafolio = {'AAPL', 'GOOG', 'AMZN', 'TSLA'}\n",
        "activos_excluidos = {'AAPL', 'TSLA'}\n",
        "\n",
        "activos_restantes = activos_portafolio.difference(activos_excluidos)\n",
        "activos_restantes"
      ],
      "metadata": {
        "colab": {
          "base_uri": "https://localhost:8080/"
        },
        "id": "QF46mVMgZcsh",
        "outputId": "fc3fdbc4-db80-4391-9c14-dff954f7ee19"
      },
      "execution_count": 23,
      "outputs": [
        {
          "output_type": "execute_result",
          "data": {
            "text/plain": [
              "{'AMZN', 'GOOG'}"
            ]
          },
          "metadata": {},
          "execution_count": 23
        }
      ]
    },
    {
      "cell_type": "markdown",
      "source": [
        "### **<font color=\"DeepPink\">Método <code>issubset()</code></font>**"
      ],
      "metadata": {
        "id": "FdNP3WbyZdK-"
      }
    },
    {
      "cell_type": "markdown",
      "source": [
        "7. **issubset(otro_conjunto)**: Verifica si el conjunto es un subconjunto del otro conjunto.\n",
        "\n",
        "   Ejemplo en finanzas:\n",
        "   ```python\n",
        "   activos_portafolio = {'AAPL', 'GOOG', 'AMZN', 'TSLA'}\n",
        "   activos_favoritos = {'AAPL', 'GOOG'}\n",
        "\n",
        "   es_subconjunto = activos_favoritos.issubset(activos_portafolio)\n",
        "   es_subconjunto\n",
        "   ```\n",
        "\n"
      ],
      "metadata": {
        "id": "_peDu3b9Zdq8"
      }
    },
    {
      "cell_type": "code",
      "source": [
        "activos_portafolio = {'AAPL', 'GOOG', 'AMZN', 'TSLA'}\n",
        "activos_favoritos = {'AAPL', 'GOOG'}\n",
        "\n",
        "es_subconjunto = activos_favoritos.issubset(activos_portafolio)\n",
        "es_subconjunto"
      ],
      "metadata": {
        "colab": {
          "base_uri": "https://localhost:8080/"
        },
        "id": "bPLS1P-8Z3do",
        "outputId": "d7220fec-18d3-4156-f30a-4f007fc1af4c"
      },
      "execution_count": 24,
      "outputs": [
        {
          "output_type": "execute_result",
          "data": {
            "text/plain": [
              "True"
            ]
          },
          "metadata": {},
          "execution_count": 24
        }
      ]
    },
    {
      "cell_type": "markdown",
      "source": [
        "### **<font color=\"DeepPink\">Método <code>issuperset()</code></font>**"
      ],
      "metadata": {
        "id": "DhAf_qATZ39q"
      }
    },
    {
      "cell_type": "markdown",
      "source": [
        "8. **issuperset(otro_conjunto)**: Verifica si el conjunto es un superconjunto del otro conjunto.\n",
        "\n",
        "   Ejemplo en finanzas:\n",
        "   ```python\n",
        "   activos_portafolio = {'AAPL', 'GOOG', 'AMZN', 'TSLA'}\n",
        "   activos_favoritos = {'AAPL', 'GOOG'}\n",
        "\n",
        "   es_superconjunto = activos_portafolio.issuperset(activos_favoritos)\n",
        "   es_superconjunto\n",
        "   ```"
      ],
      "metadata": {
        "id": "N9tkqxnHZ4-y"
      }
    },
    {
      "cell_type": "code",
      "source": [
        "activos_portafolio = {'AAPL', 'GOOG', 'AMZN', 'TSLA'}\n",
        "activos_favoritos = {'AAPL', 'GOOG'}\n",
        "\n",
        "es_superconjunto = activos_portafolio.issuperset(activos_favoritos)\n",
        "es_superconjunto"
      ],
      "metadata": {
        "colab": {
          "base_uri": "https://localhost:8080/"
        },
        "id": "K6iHtXYdaV-z",
        "outputId": "cdb58a59-fb3c-4217-a33d-c7898b7c156d"
      },
      "execution_count": 25,
      "outputs": [
        {
          "output_type": "execute_result",
          "data": {
            "text/plain": [
              "True"
            ]
          },
          "metadata": {},
          "execution_count": 25
        }
      ]
    },
    {
      "cell_type": "markdown",
      "source": [
        "## **<font color=\"DeepPink\">Indexación y selección de datos</font>**"
      ],
      "metadata": {
        "id": "OHmV39_r2lL9"
      }
    },
    {
      "cell_type": "markdown",
      "source": [
        "<p align=\"justify\">\n",
        "A través de la indexación, podemos acceder y manipular datos en estas estructuras.\n",
        "<br><br>\n",
        "Desde la selección de elementos individuales hasta la aplicación de operaciones en lotes, las capacidades de indexación de Python permiten a los analistas extraer información relevante y realizar cálculos significativos.\n"
      ],
      "metadata": {
        "id": "EJnM4G1S2roN"
      }
    },
    {
      "cell_type": "code",
      "source": [
        "# Acceso a elementos en una lista\n",
        "primer_precio = precios_acciones[0]"
      ],
      "metadata": {
        "id": "0eOrPCNd20PG"
      },
      "execution_count": null,
      "outputs": []
    },
    {
      "cell_type": "code",
      "source": [
        "primer_precio"
      ],
      "metadata": {
        "colab": {
          "base_uri": "https://localhost:8080/"
        },
        "id": "hk84YnGe25wc",
        "outputId": "4fe6b9e8-c241-40a7-eac9-8847705caa46"
      },
      "execution_count": null,
      "outputs": [
        {
          "output_type": "execute_result",
          "data": {
            "text/plain": [
              "150.75"
            ]
          },
          "metadata": {},
          "execution_count": 9
        }
      ]
    },
    {
      "cell_type": "code",
      "source": [
        "# Acceso a valores de un diccionario\n",
        "precio_acme = empresa_precios['Acme Inc.']"
      ],
      "metadata": {
        "id": "xGWJD8q_28Xp"
      },
      "execution_count": null,
      "outputs": []
    },
    {
      "cell_type": "code",
      "source": [
        "precio_acme"
      ],
      "metadata": {
        "colab": {
          "base_uri": "https://localhost:8080/"
        },
        "id": "j2gx4sz93CD6",
        "outputId": "3e0e7180-7713-449d-aa62-421aa7d916d0"
      },
      "execution_count": null,
      "outputs": [
        {
          "output_type": "execute_result",
          "data": {
            "text/plain": [
              "150.75"
            ]
          },
          "metadata": {},
          "execution_count": 11
        }
      ]
    },
    {
      "cell_type": "markdown",
      "source": [
        " # **<font color=\"DeepPink\">Conclusiones</font>**"
      ],
      "metadata": {
        "id": "3QwPNX4wxlIg"
      }
    },
    {
      "cell_type": "markdown",
      "source": [
        "<p align=\"justify\">\n",
        "👀 En este colab nosotros:\n",
        "<br><br>\n",
        "✅ Definimos Estructuras de datos.\n",
        "<br>\n",
        "✅ Vemos las Listas.\n",
        "<br>\n",
        "✅ Vemos las Tuplas.\n",
        "<br>\n",
        "✅ Vemos los Diccionarios.\n",
        "<br>\n",
        "✅ Vemos los Conjuntos.\n",
        "<br>\n",
        "✅ Indexamos y seleccionamos datos.\n",
        "<br>\n",
        "<br>\n",
        "<p align=\"center\">\n",
        "<img src=\"https://www.python.org/static/community_logos/python-powered-h-70x91.png\">\n",
        "</p>\n",
        "\n",
        "---"
      ],
      "metadata": {
        "id": "EHjYJsPfxmzP"
      }
    }
  ]
}