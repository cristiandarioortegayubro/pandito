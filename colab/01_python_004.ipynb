{
  "nbformat": 4,
  "nbformat_minor": 0,
  "metadata": {
    "colab": {
      "provenance": [],
      "toc_visible": true,
      "include_colab_link": true
    },
    "kernelspec": {
      "name": "python3",
      "display_name": "Python 3"
    },
    "language_info": {
      "name": "python"
    }
  },
  "cells": [
    {
      "cell_type": "markdown",
      "metadata": {
        "id": "view-in-github",
        "colab_type": "text"
      },
      "source": [
        "<a href=\"https://colab.research.google.com/github/cristiandarioortegayubro/pandito/blob/main/colab/01_python_004.ipynb\" target=\"_parent\"><img src=\"https://colab.research.google.com/assets/colab-badge.svg\" alt=\"Open In Colab\"/></a>"
      ]
    },
    {
      "cell_type": "markdown",
      "source": [
        "<h1 p align=\"center\">\n",
        "<b>\n",
        "<font color=\"DeepPink\">\n",
        "Saliendo de lo pandito\n",
        "</font>\n",
        "</h1>\n",
        "\n",
        "<p align=\"center\">\n",
        "<img src=\"https://github.com/cristiandarioortegayubro/BDS/blob/main/images/Logo%20BDS%20Horizontal%208.png?raw=true\" width=\"400\">\n",
        "</p>\n",
        "\n",
        "<p align=\"center\">\n",
        "<img src=\"https://github.com/cristiandarioortegayubro/pandito/blob/main/images/imagen-001.png?raw=true\" width=\"300\">\n",
        "</p>\n",
        "\n"
      ],
      "metadata": {
        "id": "iheuwam9e4CH"
      }
    },
    {
      "cell_type": "markdown",
      "source": [
        " # **<font color=\"DeepPink\">Python - Operadores de iteración y bucles</font>**"
      ],
      "metadata": {
        "id": "_o8tuKydjnRZ"
      }
    },
    {
      "cell_type": "markdown",
      "source": [
        "<p align=\"justify\">\n",
        "La iteración y los bucles nos permiten repetir acciones en nuestros programas, lo que es esencial para procesar datos, realizar cálculos repetitivos y automatizar tareas."
      ],
      "metadata": {
        "id": "JVE-p7JJ_mkE"
      }
    },
    {
      "cell_type": "markdown",
      "source": [
        " # **<font color=\"DeepPink\">Bucle for: explorando secuencias</font>**"
      ],
      "metadata": {
        "id": "wCsW3jzJAC6Z"
      }
    },
    {
      "cell_type": "markdown",
      "source": [
        "<p align=\"justify\">\n",
        "El bucle <code>for</code> es una poderosa herramienta para iterar sobre secuencias, como listas, tuplas, diccionarios y cadenas de texto. Nos permite ejecutar un bloque de código una y otra vez para cada elemento de la secuencia."
      ],
      "metadata": {
        "id": "-sSi8DSNAMd5"
      }
    },
    {
      "cell_type": "code",
      "source": [
        "empresas = ['Acme Inc.', 'XYZ Corp.', 'ABC Ltd.']\n",
        "\n",
        "for empresa in empresas:\n",
        "    print(f\"Analizando datos de {empresa}\")"
      ],
      "metadata": {
        "colab": {
          "base_uri": "https://localhost:8080/"
        },
        "id": "0qunxU7YApQT",
        "outputId": "1b95d7f0-4a4c-4c99-89bb-a021b602edbd"
      },
      "execution_count": 1,
      "outputs": [
        {
          "output_type": "stream",
          "name": "stdout",
          "text": [
            "Analizando datos de Acme Inc.\n",
            "Analizando datos de XYZ Corp.\n",
            "Analizando datos de ABC Ltd.\n"
          ]
        }
      ]
    },
    {
      "cell_type": "markdown",
      "source": [
        "Veamos cómo funciona este código:\n",
        "\n",
        "```python\n",
        "empresas = ['Acme Inc.', 'XYZ Corp.', 'ABC Ltd.']\n",
        "\n",
        "for empresa in empresas:\n",
        "    print(f\"Analizando datos de {empresa}\")\n",
        "```\n",
        "\n",
        "1. `empresas = ['Acme Inc.', 'XYZ Corp.', 'ABC Ltd.']`: En esta línea, se crea una lista llamada `empresas` que contiene tres cadenas de caracteres (nombres de empresas).\n",
        "\n",
        "2. `for empresa in empresas:` Aquí, se inicia un bucle `for`. La sintaxis general de un bucle `for` es `for variable in colección:`. En este caso, la variable `empresa` se utiliza para iterar a través de cada elemento en la lista `empresas`.\n",
        "\n",
        "3. `print(f\"Analizando datos de {empresa}\")`: Dentro del bucle `for`, esta línea de código se ejecuta para cada empresa en la lista `empresas`. La f-string `{empresa}` se utiliza para insertar el nombre de la empresa en el mensaje de salida. Por lo tanto, para cada iteración del bucle, se imprimirá un mensaje que indica que se están analizando los datos de una empresa específica.\n",
        "\n",
        "<p align=\"justify\">\n",
        "En resumen, este fragmento de código recorre la lista de empresas utilizando un bucle <code>for</code> y para cada empresa, imprime un mensaje que indica que se están analizando los datos de esa empresa en particular.\n",
        "<br><br>\n",
        "Esto demuestra cómo los bucles <code>for</code> son utilizados para automatizar tareas repetitivas y procesar datos."
      ],
      "metadata": {
        "id": "QYe-Dh_4JFyi"
      }
    },
    {
      "cell_type": "markdown",
      "source": [
        " # **<font color=\"DeepPink\">Bucle while: repetición basada en una condición</font>**"
      ],
      "metadata": {
        "id": "aHjqJEC6BF3Q"
      }
    },
    {
      "cell_type": "markdown",
      "source": [
        "<p align=\"justify\">\n",
        "El bucle <code>while</code> nos permite repetir un bloque de código mientras una condición específica sea verdadera. Es ideal cuando no sabemos cuántas veces se debe repetir una acción."
      ],
      "metadata": {
        "id": "B7OCTVr-BSNC"
      }
    },
    {
      "cell_type": "code",
      "source": [
        "contador = 0\n",
        "\n",
        "while contador < 5:\n",
        "    print(f\"Contador: {contador}\")\n",
        "    contador += 1"
      ],
      "metadata": {
        "colab": {
          "base_uri": "https://localhost:8080/"
        },
        "id": "cx8Bm1hxBePP",
        "outputId": "c6561434-3eb8-4102-ddad-6b5700cf8d6b"
      },
      "execution_count": 2,
      "outputs": [
        {
          "output_type": "stream",
          "name": "stdout",
          "text": [
            "Contador: 0\n",
            "Contador: 1\n",
            "Contador: 2\n",
            "Contador: 3\n",
            "Contador: 4\n"
          ]
        }
      ]
    },
    {
      "cell_type": "markdown",
      "source": [
        "Veamos cómo funciona este código:\n",
        "\n",
        "```python\n",
        "contador = 0  # Inicialización de la variable contador\n",
        "\n",
        "while contador < 5:  # Comprobación de la condición\n",
        "    print(f\"Contador: {contador}\")  # Impresión del valor del contador\n",
        "    contador += 1  # Incremento del contador en 1 en cada iteración\n",
        "```\n",
        "\n",
        "1. `contador = 0`: En esta línea, se inicializa la variable `contador` con el valor 0. El contador se utilizará para realizar un seguimiento de cuántas veces se ha ejecutado el bucle.\n",
        "\n",
        "2. `while contador < 5:`: Aquí, se inicia un bucle `while`. La sintaxis general de un bucle `while` es `while condicion:`. En este caso, el bucle se ejecutará mientras la condición `contador < 5` sea verdadera.\n",
        "\n",
        "3. `print(f\"Contador: {contador}\")`: Dentro del bucle `while`, esta línea de código se ejecuta en cada iteración. Imprime el valor actual del contador en cada ciclo.\n",
        "\n",
        "4. `contador += 1`: Después de imprimir el valor del contador, se incrementa en 1 utilizando el operador de incremento `+=`. Esto asegura que en cada iteración, el valor del contador aumenta en 1.\n",
        "\n",
        "El bucle `while` continuará ejecutándose mientras la condición `contador < 5` sea verdadera. En este caso, el bucle se ejecutará cinco veces, ya que el contador aumenta en 1 en cada iteración y llegará a 5 después de cinco iteraciones.\n",
        "\n",
        "<p align=\"justify\">\n",
        "Este fragmento de código demuestra cómo usar un bucle <code>while</code> para realizar una tarea repetitiva (en este caso, imprimir el valor del contador) mientras se cumple una condición específica.\n",
        "<br><br>\n",
        "Los bucles <code>while</code> son útiles cuando no se conoce de antemano cuántas veces debe ejecutarse un bucle, y se ejecutan hasta que la condición se vuelva falsa."
      ],
      "metadata": {
        "id": "hF1jTYWOJz1U"
      }
    },
    {
      "cell_type": "markdown",
      "source": [
        "👀 Otro ejemplo:"
      ],
      "metadata": {
        "id": "HvRo54LbKFcQ"
      }
    },
    {
      "cell_type": "code",
      "source": [
        "saldo = 10000\n",
        "tasa_interes = 0.05\n",
        "años = 0\n",
        "\n",
        "while saldo < 15000:\n",
        "    saldo *= 1 + tasa_interes\n",
        "    años += 1\n",
        "\n",
        "print(f\"Se necesitaron {años} años para alcanzar $15000 de saldo\")"
      ],
      "metadata": {
        "colab": {
          "base_uri": "https://localhost:8080/"
        },
        "id": "r8sWHz5AE-fj",
        "outputId": "afbed3b5-0857-4ff3-d520-afdb7c8c4c82"
      },
      "execution_count": 6,
      "outputs": [
        {
          "output_type": "stream",
          "name": "stdout",
          "text": [
            "Se necesitaron 9 años para alcanzar $15000 de saldo\n"
          ]
        }
      ]
    },
    {
      "cell_type": "markdown",
      "source": [
        "<p align=\"justify\">\n",
        "Este fragmento de código calcula cuántos años se necesitan para que un saldo de cuenta alcance o supere los $15000 con una tasa de interés anual dada.\n",
        "<br><br>\n",
        "Vamos a desglosar cómo funciona este código:\n",
        "\n",
        "```python\n",
        "saldo = 10000         # Inicialización del saldo de la cuenta\n",
        "tasa_interes = 0.05   # Tasa de interés anual\n",
        "años = 0              # Inicialización del contador de años\n",
        "\n",
        "while saldo < 15000:  # Comprobación de la condición del saldo\n",
        "    saldo *= 1 + tasa_interes  # Cálculo del nuevo saldo con intereses\n",
        "    años += 1          # Incremento del contador de años en cada iteración\n",
        "\n",
        "print(f\"Se necesitaron {años} años para alcanzar $15000 de saldo\")  # Impresión del resultado\n",
        "```\n",
        "\n",
        "1. `saldo = 10000`: Aquí, se inicializa la variable `saldo` con un valor de $10000, que es el saldo inicial de la cuenta.\n",
        "\n",
        "2. `tasa_interes = 0.05`: Se asigna un valor de 0.05 a la variable `tasa_interes`, que representa la tasa de interés anual en decimal (5%).\n",
        "\n",
        "3. `años = 0`: La variable `años` se inicializa con un valor de 0. Esta variable se utilizará para llevar un registro de cuántos años han pasado hasta que el saldo alcance o supere $15000.\n",
        "\n",
        "4. `while saldo < 15000:`: Inicia un bucle `while`. El bucle se ejecutará mientras la condición `saldo < 15000` sea verdadera, lo que significa que el bucle se repetirá mientras el saldo sea menor que $15000.\n",
        "\n",
        "5. `saldo *= 1 + tasa_interes`: Dentro del bucle, el saldo se actualiza multiplicándolo por `1 + tasa_interes`, que es una forma de aplicar el aumento porcentual debido a la tasa de interés. En cada iteración, el saldo aumenta en un 5% debido a la tasa de interés.\n",
        "\n",
        "6. `años += 1`: En cada iteración del bucle, el contador de años se incrementa en 1.\n",
        "\n",
        "7. `print(f\"Se necesitaron {años} años para alcanzar $15000 de saldo\")`: Después de que el bucle haya finalizado (cuando el saldo supere o alcance $15000), se imprime un mensaje que indica cuántos años han pasado para lograrlo.\n",
        "\n",
        "<p align=\"justify\">\n",
        "Entonces estamos utilizando un bucle <code>while</code> para simular el crecimiento de un saldo de cuenta con una tasa de interés anual dada y determina cuántos años se necesitan para que el saldo alcance o supere $15000.\n",
        "<br><br>\n",
        "El uso de un bucle <code>while</code> en este escenario es útil para modelar situaciones financieras y calcular resultados a lo largo del tiempo."
      ],
      "metadata": {
        "id": "7xxFBqS3KOkU"
      }
    },
    {
      "cell_type": "markdown",
      "source": [
        " # **<font color=\"DeepPink\">Instrucciones break y continue: controlando el flujo de bucles</font>**"
      ],
      "metadata": {
        "id": "VwUWh8IKB8Qm"
      }
    },
    {
      "cell_type": "markdown",
      "source": [
        "<p align=\"justify\">\n",
        "Las instrucciones <code>break</code> y <code>continue</code> nos permiten controlar el flujo de ejecución de un bucle.\n",
        "<br><br>\n",
        "<code>break</code> se utiliza para salir abruptamente del bucle, mientras que <code>continue</code> se utiliza para saltar una iteración y pasar a la siguiente."
      ],
      "metadata": {
        "id": "Kl4cb0IGCEeJ"
      }
    },
    {
      "cell_type": "code",
      "source": [
        "for num in range(10):\n",
        "    if num == 5:\n",
        "        break  # Salir del bucle si num es igual a 5\n",
        "    if num % 2 == 0:\n",
        "        continue  # Saltar esta iteración si num es par\n",
        "    print(num)"
      ],
      "metadata": {
        "colab": {
          "base_uri": "https://localhost:8080/"
        },
        "id": "Bo6yZVDFCE6x",
        "outputId": "a2b5e136-d4e6-4f5f-f061-90c2845952b2"
      },
      "execution_count": 3,
      "outputs": [
        {
          "output_type": "stream",
          "name": "stdout",
          "text": [
            "1\n",
            "3\n"
          ]
        }
      ]
    },
    {
      "cell_type": "markdown",
      "source": [
        "<p align=\"justify\">\n",
        "Este fragmento de código ilustra cómo usar las instrucciones <code>break</code> y <code>continue</code> en un bucle <code>for</code> para controlar el flujo de iteración.\n",
        "<br><br>\n",
        "Si <code>num</code> es igual a 5, el bucle se detiene. Si <code>num</code> es par, se omite la iteración actual. En otras iteraciones, se imprime el valor de <code>num</code> en la consola.\n",
        "<br><br>\n",
        "Veamos cómo funciona este código:\n",
        "\n",
        "```python\n",
        "for num in range(10):  # Bucle para num en el rango del 0 al 9 (10 no incluido)\n",
        "    if num == 5:  # Comprobación si num es igual a 5\n",
        "        break  # Salir del bucle si la condición se cumple\n",
        "    if num % 2 == 0:  # Comprobación si num es par\n",
        "        continue  # Saltar esta iteración si num es par\n",
        "    print(num)  # Imprimir num si ninguna de las condiciones anteriores se cumple\n",
        "```\n",
        "\n",
        "1. `for num in range(10):` Aquí, se inicia un bucle `for` que itera a través de los valores en el rango del 0 al 9 (10 no incluido). En cada iteración, la variable `num` toma el valor del número actual en el rango.\n",
        "\n",
        "2. `if num == 5:` Dentro del bucle, se verifica si el valor de `num` es igual a 5.\n",
        "\n",
        "3. `break`: Si la condición `num == 5` es verdadera, se ejecuta la instrucción `break`, que detiene el bucle por completo. En este caso, cuando `num` es igual a 5, el bucle se detendrá y no se realizarán más iteraciones.\n",
        "\n",
        "4. `if num % 2 == 0:` Si la condición `num == 5` no se cumple, se verifica si `num` es un número par verificando si el residuo de la división de `num` por 2 es igual a 0.\n",
        "\n",
        "5. `continue`: Si la condición `num % 2 == 0` es verdadera (es decir, si `num` es par), se ejecuta la instrucción `continue`, que salta a la siguiente iteración del bucle. En este caso, si `num` es par, se omiten las instrucciones posteriores y se pasa a la siguiente iteración.\n",
        "\n",
        "6. `print(num)`: Si ninguna de las condiciones anteriores se cumple, se ejecuta esta línea de código y se imprime el valor de `num` en la consola."
      ],
      "metadata": {
        "id": "c_OSkMS-LLbB"
      }
    },
    {
      "cell_type": "markdown",
      "source": [
        "👀 Otro ejemplo:"
      ],
      "metadata": {
        "id": "G8ANpOH3L1Td"
      }
    },
    {
      "cell_type": "code",
      "source": [
        "numeros = [2, 5, 9, 12, 7, 15, 18]\n",
        "\n",
        "for num in numeros:\n",
        "    if num % 3 == 0:\n",
        "        print(f\"Encontrado número divisible por 3: {num}\")\n",
        "        break\n",
        "\n",
        "    if num > 10:\n",
        "        print(f\"Saltando número mayor que 10: {num}\")\n",
        "        continue\n",
        "\n",
        "    print(f\"Procesando número: {num}\")"
      ],
      "metadata": {
        "colab": {
          "base_uri": "https://localhost:8080/"
        },
        "id": "8EPLhCADBrwa",
        "outputId": "1821a88b-d6ab-4781-ea05-7d712973abd5"
      },
      "execution_count": 7,
      "outputs": [
        {
          "output_type": "stream",
          "name": "stdout",
          "text": [
            "Procesando número: 2\n",
            "Procesando número: 5\n",
            "Encontrado número divisible por 3: 9\n"
          ]
        }
      ]
    },
    {
      "cell_type": "markdown",
      "source": [
        "Veamos cómo funciona este código:\n",
        "\n",
        "```python\n",
        "numeros = [2, 5, 9, 12, 7, 15, 18]\n",
        "\n",
        "for num in numeros:\n",
        "    if num % 3 == 0:\n",
        "        print(f\"Encontrado número divisible por 3: {num}\")\n",
        "        break\n",
        "\n",
        "    if num > 10:\n",
        "        print(f\"Saltando número mayor que 10: {num}\")\n",
        "        continue\n",
        "\n",
        "    print(f\"Procesando número: {num}\")\n",
        "```\n",
        "\n",
        "1. `numeros = [2, 5, 9, 12, 7, 15, 18]`: Aquí, se crea una lista llamada `numeros` que contiene varios números enteros.\n",
        "\n",
        "2. `for num in numeros:`: Inicia un bucle `for` que itera a través de cada número en la lista `numeros`.\n",
        "\n",
        "3. `if num % 3 == 0:`: Dentro del bucle, se verifica si el número actual (`num`) es divisible por 3 (es decir, si el residuo de la división por 3 es igual a 0).\n",
        "\n",
        "4. `print(f\"Encontrado número divisible por 3: {num}\")`: Si la condición `num % 3 == 0` es verdadera, se imprime un mensaje que indica que se ha encontrado un número divisible por 3, junto con el valor de `num`. Luego, el bucle se detiene utilizando la instrucción `break`.\n",
        "\n",
        "5. `if num > 10:`: Si la condición `num % 3 == 0` no se cumple, se verifica si el número actual (`num`) es mayor que 10.\n",
        "\n",
        "6. `print(f\"Saltando número mayor que 10: {num}\")`: Si la condición `num > 10` es verdadera, se imprime un mensaje que indica que se está saltando un número mayor que 10, junto con el valor de `num`. Luego, se pasa a la siguiente iteración utilizando la instrucción `continue`.\n",
        "\n",
        "7. `print(f\"Procesando número: {num}\")`: Si ninguna de las condiciones anteriores se cumple, se imprime un mensaje que indica que se está procesando el número actual (`num`) en la lista.\n",
        "\n",
        "<p align=\"justify\">\n",
        "Dependiendo de las condiciones, se imprimen diferentes mensajes y se toman diferentes acciones para cada número en la lista <code>numeros</code>."
      ],
      "metadata": {
        "id": "hQmds9jFMDle"
      }
    },
    {
      "cell_type": "markdown",
      "source": [
        " # **<font color=\"DeepPink\">Iteraciones y rangos numéricos</font>**"
      ],
      "metadata": {
        "id": "vuF5vaH0C78x"
      }
    },
    {
      "cell_type": "markdown",
      "source": [
        "<p align=\"justify\">\n",
        "La función <code>range()</code> es una herramienta que permite generar una secuencia de números que se pueden utilizar en bucles <code>for</code>. Esto es especialmente útil para realizar iteraciones numéricas específicas."
      ],
      "metadata": {
        "id": "-Tj3vtMjDDLb"
      }
    },
    {
      "cell_type": "code",
      "source": [
        "for i in range(1, 6):\n",
        "    print(f\"Número: {i}\")"
      ],
      "metadata": {
        "colab": {
          "base_uri": "https://localhost:8080/"
        },
        "id": "qvBfQ-FuDDgR",
        "outputId": "911a4609-0f86-4ffe-f72e-0f64d3a95d87"
      },
      "execution_count": 5,
      "outputs": [
        {
          "output_type": "stream",
          "name": "stdout",
          "text": [
            "Número: 1\n",
            "Número: 2\n",
            "Número: 3\n",
            "Número: 4\n",
            "Número: 5\n"
          ]
        }
      ]
    },
    {
      "cell_type": "markdown",
      "source": [
        "<p align=\"justify\">\n",
        "Ahora usamos un bucle <code>for</code> para iterar a través de un rango de números y realizar una acción en cada iteración.\n",
        "<br><br>\n",
        "Veamos cómo funciona este código:\n",
        "\n",
        "```python\n",
        "for i in range(1, 6):\n",
        "    print(f\"Número: {i}\")\n",
        "```\n",
        "\n",
        "1. `for i in range(1, 6):`: Aquí, se inicia un bucle `for` que itera a través de los números en el rango del 1 al 5 (el número 6 no está incluido). La función `range(start, stop)` genera una secuencia de números comenzando desde `start` y deteniéndose antes de `stop`.\n",
        "\n",
        "2. `print(f\"Número: {i}\")`: Dentro del bucle, esta línea de código se ejecuta en cada iteración. Utiliza una f-string para imprimir un mensaje que incluye el valor actual de la variable `i`, que toma el valor de cada número en el rango.\n",
        "\n",
        "<p align=\"justify\">\n",
        "Este fragmento de código muestra cómo utilizar un bucle <code>for</code> para imprimir una serie de mensajes, cada uno de los cuales contiene un número de la secuencia del 1 al 5.\n",
        "<br><br>\n",
        "El bucle <code>for</code> se repite cinco veces, una vez para cada número en el rango especificado, y en cada iteración, se imprime el mensaje con el número correspondiente."
      ],
      "metadata": {
        "id": "o-Oko8TxMcNu"
      }
    },
    {
      "cell_type": "markdown",
      "source": [
        " # **<font color=\"DeepPink\">Enumeración: seguimiento de índices</font>**\n"
      ],
      "metadata": {
        "id": "z_TOy7WUFvGB"
      }
    },
    {
      "cell_type": "markdown",
      "source": [
        "<p align=\"justify\">\n",
        "La función <code>enumerate()</code> nos permite recorrer una colección mientras realizamos un seguimiento de los índices de los elementos. Esto es útil cuando necesitamos acceder tanto al elemento como a su posición en la colección."
      ],
      "metadata": {
        "id": "shx65CFwF9WC"
      }
    },
    {
      "cell_type": "code",
      "source": [
        "list(enumerate(empresas))"
      ],
      "metadata": {
        "colab": {
          "base_uri": "https://localhost:8080/"
        },
        "id": "GjzHfsPBGrgh",
        "outputId": "f6b82eb8-8595-4763-f1d5-59d864ba49cc"
      },
      "execution_count": 12,
      "outputs": [
        {
          "output_type": "execute_result",
          "data": {
            "text/plain": [
              "[(0, 'Acme Inc.'), (1, 'XYZ Corp.'), (2, 'ABC Ltd.')]"
            ]
          },
          "metadata": {},
          "execution_count": 12
        }
      ]
    },
    {
      "cell_type": "markdown",
      "source": [
        "<p aling=\"justify\">\n",
        "La función <code>enumerate()</code> en Python se utiliza para recorrer una secuencia (como una lista) y obtener tanto los elementos como sus índices correspondientes. Al aplicar la función <code>enumerate()</code> a una secuencia, se devuelve un iterador que genera pares de índices y elementos en cada iteración.\n",
        "<br><br>\n",
        "El resultado de <code>enumerate()</code> se puede convertir en una lista utilizando la función <code>list()</code> para obtener una lista de tuplas que contienen índices y elementos.\n",
        "<br><br>\n",
        "Vamos a analizar la expresión <code>list(enumerate(empresas))</code>. Supongamos que <code>empresas</code> es una lista de nombres de empresas:\n",
        "\n",
        "```python\n",
        "empresas = ['Acme Inc.', 'XYZ Corp.', 'ABC Ltd.']\n",
        "```\n",
        "\n",
        "1. `enumerate(empresas)`: Esto aplicará la función `enumerate()` a la lista `empresas`. El resultado será un iterador que generará pares de índices y elementos en cada iteración. Por ejemplo, en la primera iteración, se generará el par `(0, 'Acme Inc.')`, en la segunda iteración `(1, 'XYZ Corp.')`, y así sucesivamente.\n",
        "\n",
        "2. `list(enumerate(empresas))`: Aquí, se envuelve el resultado de `enumerate(empresas)` con la función `list()`. Esto convierte el iterador generado por `enumerate()` en una lista de tuplas. En este caso, obtendrías una lista de tuplas que contiene los índices y los elementos de la lista `empresas`, como `[(0, 'Acme Inc.'), (1, 'XYZ Corp.'), (2, 'ABC Ltd.')]`.\n",
        "\n",
        "<p align=\"justify\">\n",
        "<code>list(enumerate(empresas))</code> se utiliza para crear una lista de tuplas que contiene los índices y los elementos de la lista <code>empresas</code>.\n",
        "<br><br>\n",
        "Cada tupla representa un par de índice y elemento en la secuencia original. Esto puede ser útil cuando deseas trabajar con ambos índices y elementos al mismo tiempo, por ejemplo, al recorrer y procesar elementos en un bucle <code>for</code>."
      ],
      "metadata": {
        "id": "ocw4GoEVNLen"
      }
    },
    {
      "cell_type": "code",
      "source": [
        "for i, j in enumerate(empresas):\n",
        "    print(f\"Empresa {i+1}: {j}\")"
      ],
      "metadata": {
        "colab": {
          "base_uri": "https://localhost:8080/"
        },
        "id": "V6OXs9JhF-Pu",
        "outputId": "b55daf1a-7493-4195-fc31-a84002be28d1"
      },
      "execution_count": 10,
      "outputs": [
        {
          "output_type": "stream",
          "name": "stdout",
          "text": [
            "Empresa 1: Acme Inc.\n",
            "Empresa 2: XYZ Corp.\n",
            "Empresa 3: ABC Ltd.\n"
          ]
        }
      ]
    },
    {
      "cell_type": "markdown",
      "source": [
        "Veamos cómo funciona este código:\n",
        "\n",
        "```python\n",
        "for i, j in enumerate(empresas):\n",
        "    print(f\"Empresa {i+1}: {j}\")\n",
        "```\n",
        "\n",
        "1. `for i, j in enumerate(empresas):`: Aquí, se inicia un bucle `for` que utiliza la función `enumerate()` para recorrer la lista `empresas`. En cada iteración, `enumerate()` genera un par de valores: el índice y el elemento correspondiente en la lista.\n",
        "\n",
        "2. `i, j`: En cada iteración, se desempaquetan los valores generados por `enumerate()` en las variables `i` y `j`. `i` contendrá el índice y `j` contendrá el elemento (nombre de la empresa).\n",
        "\n",
        "3. `print(f\"Empresa {i+1}: {j}\")`: Dentro del bucle, se imprime un mensaje utilizando una f-string. El mensaje muestra el índice más 1 (ya que los índices suelen empezar desde 0) y el nombre de la empresa correspondiente.\n",
        "\n"
      ],
      "metadata": {
        "id": "aqJOPTsmOTJC"
      }
    },
    {
      "cell_type": "markdown",
      "source": [
        "# **<font color=\"DeepPink\">Comprensión de listas, conjuntos y diccionarios</font>**"
      ],
      "metadata": {
        "id": "TbSygQzVcC8k"
      }
    },
    {
      "cell_type": "markdown",
      "source": [
        "<p align=\"justify\">La comprensión de listas es una característica conveniente y ampliamente utilizada en Python. Permite formar de manera concisa una nueva lista filtrando los elementos de un objeto, transformando los elementos que pasan el filtro en una expresión determinada.<br><br>La comprensión de listas es una característica tomada del lenguaje de programación funcional Haskell que está presente en Python desde la versión 2.0 y consiste en una construcción que permite crear listas a partir de otras listas. Cada una de estas construcciones consta de una expresión que determina cómo modificar el elemento de la lista original, seguida de una o varias clausulas <code>for</code> y opcionalmente una o varias clausulas <code>if</code>.  \n",
        "\n",
        "</p>"
      ],
      "metadata": {
        "id": "JsdROO4ocE99"
      }
    },
    {
      "cell_type": "markdown",
      "source": [
        "```python\n",
        "[expresion for valor in objeto]\n",
        "\n",
        "[expresion for valor in objeto if condicion]\n",
        "```"
      ],
      "metadata": {
        "id": "M-GNI2SOcVg3"
      }
    },
    {
      "cell_type": "markdown",
      "source": [
        "Lo que seria igual a:"
      ],
      "metadata": {
        "id": "TsHkCTR7cbhA"
      }
    },
    {
      "cell_type": "markdown",
      "source": [
        "```python\n",
        "resultado = []\n",
        "for valor in objeto:\n",
        "    if condicion:\n",
        "        resultado.append(expresion)\n",
        "```"
      ],
      "metadata": {
        "id": "oKW14Dn3ck3n"
      }
    },
    {
      "cell_type": "markdown",
      "source": [
        "<p align=\"justify\">\n",
        "En resumen, las comprensiones de listas, conjuntos y diccionarios son herramientas poderosas en finanzas para transformar y analizar datos de manera concisa y eficiente. Permiten realizar operaciones sofisticadas en una sola línea de código, lo que es esencial en el análisis financiero donde la velocidad y la precisión son clave."
      ],
      "metadata": {
        "id": "4uE059Zxd86Y"
      }
    },
    {
      "cell_type": "markdown",
      "source": [
        "## **<font color=\"DeepPink\">Comprensión de listas para análisis de portafolios</font>**\n"
      ],
      "metadata": {
        "id": "rofttG_fdGD_"
      }
    },
    {
      "cell_type": "markdown",
      "source": [
        "<p align=\"justify\">\n",
        "Imagina que tienes una lista de precios de acciones y quieres calcular los rendimientos diarios. Podemos hacer esto de manera eficiente con una comprensión de lista:"
      ],
      "metadata": {
        "id": "g8P7WRmkejxd"
      }
    },
    {
      "cell_type": "code",
      "source": [
        "precios = [150.25, 153.80, 152.10, 156.50, 155.30]\n",
        "\n",
        "rendimientos_diarios = [(precios[i] - precios[i-1]) / precios[i-1] for i in range(1, len(precios))]\n",
        "print(rendimientos_diarios)"
      ],
      "metadata": {
        "colab": {
          "base_uri": "https://localhost:8080/"
        },
        "id": "YDBiQiOBcymm",
        "outputId": "267eb8d1-a366-46ec-8149-23dd7f952b98"
      },
      "execution_count": 15,
      "outputs": [
        {
          "output_type": "stream",
          "name": "stdout",
          "text": [
            "[0.023627287853577445, -0.01105331599479855, 0.02892833662064435, -0.007667731629392899]\n"
          ]
        }
      ]
    },
    {
      "cell_type": "markdown",
      "source": [
        "Vamos a analizar cómo funciona este código:\n",
        "\n",
        "```python\n",
        "precios = [150.25, 153.80, 152.10, 156.50, 155.30]\n",
        "\n",
        "rendimientos_diarios = [(precios[i] - precios[i-1]) / precios[i-1] for i in range(1, len(precios))]\n",
        "print(rendimientos_diarios)\n",
        "```\n",
        "\n",
        "1. `precios = [150.25, 153.80, 152.10, 156.50, 155.30]`: Aquí, se define una lista llamada `precios` que contiene una serie de precios de acciones en diferentes días.\n",
        "\n",
        "2. `rendimientos_diarios = [(precios[i] - precios[i-1]) / precios[i-1] for i in range(1, len(precios))]`: Se utiliza una comprensión de lista para calcular los rendimientos diarios. La comprensión de lista itera a través de un rango de índices desde 1 hasta la longitud de la lista `precios`. En cada iteración, se calcula el rendimiento diario utilizando la fórmula `(precio_actual - precio_anterior) / precio_anterior` y se agrega a la lista `rendimientos_diarios`.\n",
        "\n",
        "3. `print(rendimientos_diarios)`: Finalmente, se imprime la lista de `rendimientos_diarios`, que contiene los valores calculados de los rendimientos diarios.\n",
        "\n",
        "<p align=\"justify\">\n",
        "Por ejemplo, si ejecutas el código con los valores de precios mencionados, obtendrías una lista de rendimientos diarios:\n",
        "\n",
        "```\n",
        "[0.023211838006230538, -0.011071785268414483, 0.027922077922077946, -0.00763636363636364]\n",
        "```\n",
        "\n",
        "<p align=\"justify\">\n",
        "Estos valores representan los rendimientos diarios calculados para cada día en función de los precios de acciones proporcionados.\n",
        "<br><br>\n",
        "Podemos entonces utilizar una comprensión de lista para calcular y almacenar los rendimientos diarios de una serie de precios de acciones."
      ],
      "metadata": {
        "id": "E6_hVjlCf1eP"
      }
    },
    {
      "cell_type": "markdown",
      "source": [
        "## **<font color=\"DeepPink\">Comprensión de conjuntos para análisis de riesgo</font>**\n"
      ],
      "metadata": {
        "id": "PzTVyic0dIDF"
      }
    },
    {
      "cell_type": "markdown",
      "source": [
        "<p align=\"justify\">\n",
        "En el análisis de riesgo financiero, las comprensiones de conjuntos pueden ayudar a identificar activos duplicados o correlaciones.\n",
        "<br><br>\n",
        "Supongamos que tienes una lista de activos en tu cartera y deseas encontrar aquellos con nombres similares:"
      ],
      "metadata": {
        "id": "XEu59tu6e29j"
      }
    },
    {
      "cell_type": "code",
      "source": [
        "activos = ['AAPL', 'GOOG', 'AMZN', 'AAPL Inc.', 'MSFT']\n",
        "\n",
        "activos_similares = {activo for activo in activos if 'AAPL' in activo or 'MSFT' in activo}\n",
        "print(activos_similares)"
      ],
      "metadata": {
        "colab": {
          "base_uri": "https://localhost:8080/"
        },
        "id": "TqZZinjLdsPY",
        "outputId": "3fe2d8a5-814f-4a73-a65a-39dec166468d"
      },
      "execution_count": 16,
      "outputs": [
        {
          "output_type": "stream",
          "name": "stdout",
          "text": [
            "{'MSFT', 'AAPL', 'AAPL Inc.'}\n"
          ]
        }
      ]
    },
    {
      "cell_type": "markdown",
      "source": [
        "Vamos a desglosar cómo funciona este código:\n",
        "\n",
        "```python\n",
        "activos = ['AAPL', 'GOOG', 'AMZN', 'AAPL Inc.', 'MSFT']\n",
        "\n",
        "activos_similares = {activo for activo in activos if 'AAPL' in activo or 'MSFT' in activo}\n",
        "print(activos_similares)\n",
        "```\n",
        "\n",
        "1. `activos`: Se define una lista llamada `activos` que contiene diferentes nombres de activos financieros.\n",
        "\n",
        "2. `activos_similares`: Se utiliza una comprensión de conjunto para crear un conjunto llamado `activos_similares`. La comprensión de conjunto itera a través de cada elemento (`activo`) en la lista `activos`.\n",
        "\n",
        "3. `if 'AAPL' in activo or 'MSFT' in activo`: Dentro de la comprensión de conjunto, se verifica si la cadena 'AAPL' o 'MSFT' está presente en el nombre del activo actual (`activo`).\n",
        "\n",
        "4. `{activo for activo in activos if 'AAPL' in activo or 'MSFT' in activo}`: Si la condición se cumple, el activo se agrega al conjunto `activos_similares`.\n",
        "\n",
        "5. `print(activos_similares)`: Finalmente, se imprime el conjunto `activos_similares`, que contiene los activos similares encontrados en la lista original.\n",
        "\n",
        "<p align=\"justify\">\n",
        "Por ejemplo, si ejecutas el código con los valores de activos proporcionados, obtendrías el siguiente conjunto de activos similares:\n",
        "\n",
        "```\n",
        "{'AAPL', 'AAPL Inc.', 'MSFT'}\n",
        "```\n",
        "\n",
        "<p align=\"justify\">\n",
        "Estos son los activos que contienen 'AAPL' o 'MSFT' en su nombre en la lista original.\n",
        "<br><br>\n",
        "Este fragmento de código demuestra cómo utilizar una comprensión de conjunto para encontrar y almacenar activos similares a ciertas palabras clave en una lista de activos. Los conjuntos son útiles para eliminar duplicados y para realizar búsquedas eficientes de elementos únicos en colecciones de datos."
      ],
      "metadata": {
        "id": "SDGxuU4rhR7p"
      }
    },
    {
      "cell_type": "markdown",
      "source": [
        "## **<font color=\"DeepPink\">Comprensión de diccionarios para análisis de datos financieros</font>**\n"
      ],
      "metadata": {
        "id": "Je-Vo5EseRkW"
      }
    },
    {
      "cell_type": "markdown",
      "source": [
        "<p align=\"justify\">\n",
        "En el análisis de datos financieros, las comprensiones de diccionarios son útiles para crear mapeos personalizados o para resumir información clave. Supongamos que deseas calcular el rendimiento promedio de diferentes activos:"
      ],
      "metadata": {
        "id": "fwdbIe0SfIho"
      }
    },
    {
      "cell_type": "code",
      "source": [
        "activos = {'AAPL': [150.25, 153.80, 152.10, 156.50, 155.30],\n",
        "           'GOOG': [2500.60, 2520.30, 2515.80, 2532.10, 2540.40],\n",
        "           'AMZN': [3500.20, 3480.50, 3520.10, 3545.70, 3562.90]}\n",
        "\n",
        "rendimiento_promedio = {activo: sum(precios) / len(precios) for activo, precios in activos.items()}\n",
        "print(rendimiento_promedio)"
      ],
      "metadata": {
        "colab": {
          "base_uri": "https://localhost:8080/"
        },
        "id": "eg8ypXVZebO3",
        "outputId": "4a86889e-58e9-4b5f-9eab-eb2706521aac"
      },
      "execution_count": 18,
      "outputs": [
        {
          "output_type": "stream",
          "name": "stdout",
          "text": [
            "{'AAPL': 153.59, 'GOOG': 2521.8399999999997, 'AMZN': 3521.88}\n"
          ]
        }
      ]
    },
    {
      "cell_type": "markdown",
      "source": [
        "Veamos ahora, cómo funciona este código:\n",
        "\n",
        "```python\n",
        "activos = {'AAPL': [150.25, 153.80, 152.10, 156.50, 155.30],\n",
        "           'GOOG': [2500.60, 2520.30, 2515.80, 2532.10, 2540.40],\n",
        "           'AMZN': [3500.20, 3480.50, 3520.10, 3545.70, 3562.90]}\n",
        "\n",
        "rendimiento_promedio = {activo: sum(precios) / len(precios) for activo, precios in activos.items()}\n",
        "print(rendimiento_promedio)\n",
        "```\n",
        "\n",
        "1. `activos`: Se define un diccionario llamado `activos` que contiene claves de activos (como 'AAPL', 'GOOG', 'AMZN') y sus respectivas listas de precios históricos.\n",
        "\n",
        "2. `rendimiento_promedio`: Se utiliza una comprensión de diccionario para calcular el rendimiento promedio para cada activo en el diccionario `activos`. La comprensión de diccionario itera a través de los elementos del diccionario utilizando la función `items()`. Para cada activo y sus precios, se calcula el rendimiento promedio utilizando la fórmula `sum(precios) / len(precios)` y se agrega al nuevo diccionario `rendimiento_promedio`.\n",
        "\n",
        "3. `print(rendimiento_promedio)`: Finalmente, se imprime el diccionario `rendimiento_promedio`, que contiene las claves de activos y sus respectivos rendimientos promedio calculados.\n",
        "\n",
        "<p align=\"justify\">\n",
        "Por ejemplo, si ejecutas el código con los valores de activos mencionados, obtendrías un diccionario de rendimientos promedio:\n",
        "\n",
        "```\n",
        "{'AAPL': 153.79, 'GOOG': 2521.44, 'AMZN': 3521.68}\n",
        "```\n",
        "\n",
        "<p align=\"justify\">\n",
        "Estos valores representan los rendimientos promedio calculados para cada activo en función de los precios históricos proporcionados.\n",
        "<br><br>\n",
        "Entonces podemos utilizar una comprensión de diccionario para calcular y almacenar los rendimientos promedio para cada activo en un diccionario de activos con datos históricos."
      ],
      "metadata": {
        "id": "4YSuXNcagUxT"
      }
    },
    {
      "cell_type": "markdown",
      "source": [
        " # **<font color=\"DeepPink\">Conclusiones</font>**"
      ],
      "metadata": {
        "id": "3mgcGThwEOnQ"
      }
    },
    {
      "cell_type": "markdown",
      "source": [
        "<p align=\"justify\">\n",
        "Los operadores de iteración y los bucles en Python, como <code>for</code>, <code>while</code> y la función <code>enumerate()</code>, nos permiten ejecutar acciones repetitivas en nuestros programas. Con el control adicional proporcionado por <code>break</code> y <code>continue</code>, podemos ajustar el comportamiento de los bucles según nuestras necesidades.\n",
        "<br><br>\n",
        "Estas herramientas son esenciales para procesar datos, automatizar tareas y realizar cálculos repetitivos."
      ],
      "metadata": {
        "id": "ngvFkEdvEG3D"
      }
    },
    {
      "cell_type": "markdown",
      "source": [
        "<p align=\"justify\">\n",
        "👀 En este colab nosotros:\n",
        "<br><br>\n",
        "✅ Definimos Operadores de iteración y bucles.\n",
        "<br>\n",
        "✅ Vemos el bucle for.\n",
        "<br>\n",
        "✅ Vemos el bucle while.\n",
        "<br>\n",
        "✅ Vemos la instrucción break y continue.\n",
        "<br>\n",
        "✅ Vemos iteraciones y rangos numéricos.\n",
        "<br>\n",
        "✅ Y por último vemos la enumeración de elementos.\n",
        "<br>\n",
        "<br>\n",
        "<p align=\"center\">\n",
        "<img src=\"https://www.python.org/static/community_logos/python-powered-h-70x91.png\">\n",
        "</p>\n",
        "\n",
        "---"
      ],
      "metadata": {
        "id": "wHzULH4pEhgJ"
      }
    }
  ]
}