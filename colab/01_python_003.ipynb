{
  "nbformat": 4,
  "nbformat_minor": 0,
  "metadata": {
    "colab": {
      "provenance": [],
      "toc_visible": true,
      "include_colab_link": true
    },
    "kernelspec": {
      "name": "python3",
      "display_name": "Python 3"
    },
    "language_info": {
      "name": "python"
    }
  },
  "cells": [
    {
      "cell_type": "markdown",
      "metadata": {
        "id": "view-in-github",
        "colab_type": "text"
      },
      "source": [
        "<a href=\"https://colab.research.google.com/github/cristiandarioortegayubro/pandito/blob/main/colab/01_python_003.ipynb\" target=\"_parent\"><img src=\"https://colab.research.google.com/assets/colab-badge.svg\" alt=\"Open In Colab\"/></a>"
      ]
    },
    {
      "cell_type": "markdown",
      "source": [
        "<h1 p align=\"center\">\n",
        "<b>\n",
        "<font color=\"DeepPink\">\n",
        "Saliendo de lo pandito\n",
        "</font>\n",
        "</h1>\n",
        "\n",
        "<p align=\"center\">\n",
        "<img src=\"https://github.com/cristiandarioortegayubro/BDS/blob/main/images/Logo%20BDS%20Horizontal%208.png?raw=true\" width=\"400\">\n",
        "</p>\n",
        "\n",
        "<p align=\"center\">\n",
        "<img src=\"https://github.com/cristiandarioortegayubro/pandito/blob/main/images/imagen-001.png?raw=true\" width=\"300\">\n",
        "</p>\n",
        "\n"
      ],
      "metadata": {
        "id": "iheuwam9e4CH"
      }
    },
    {
      "cell_type": "markdown",
      "source": [
        " # **<font color=\"DeepPink\">Python - Operadores de comparación, lógicos y ternarios</font>**"
      ],
      "metadata": {
        "id": "_o8tuKydjnRZ"
      }
    },
    {
      "cell_type": "markdown",
      "source": [
        "<p align=\"justify\">\n",
        "En Python, utilizamos operadores de comparación, lógicos y ternarios para dirigir el comportamiento de nuestros programas en función de condiciones específicas. En el contexto de Business Data Science, estos operadores son herramientas valiosas para automatizar análisis y tomar decisiones informadas."
      ],
      "metadata": {
        "id": "gWQsFI_397oL"
      }
    },
    {
      "cell_type": "markdown",
      "source": [
        " # **<font color=\"DeepPink\">Operadores de comparación: evaluando condiciones</font>**"
      ],
      "metadata": {
        "id": "_LEOwFpr_MxZ"
      }
    },
    {
      "cell_type": "markdown",
      "source": [
        "<p align=\"justify\">\n",
        "Los operadores de comparación nos permiten evaluar expresiones y tomar decisiones basadas en si se cumplen ciertas condiciones.\n",
        "Estos operadores son fundamentales para el control de flujo en Python.\n"
      ],
      "metadata": {
        "id": "aJIbWq3y_I9f"
      }
    },
    {
      "cell_type": "markdown",
      "source": [
        "## **<font color=\"DeepPink\"><code>if</code></font>**"
      ],
      "metadata": {
        "id": "jXLu3wqvAYlF"
      }
    },
    {
      "cell_type": "markdown",
      "source": [
        "<p align=\"justify\">\n",
        "👀 Para una sola condición, se usa la estructura de control <code>if</code></p>.\n",
        "\n",
        "~~~python\n",
        "if condicion_1:\n",
        "     sentencia_1\n",
        "~~~"
      ],
      "metadata": {
        "id": "msfXO6c8AfJn"
      }
    },
    {
      "cell_type": "code",
      "source": [
        "# Ejemplo de una sola condición\n",
        "precio_accion = 170.95\n",
        "\n",
        "if precio_accion > 160:\n",
        "    print(\"La acción está sobrevalorada\")"
      ],
      "metadata": {
        "colab": {
          "base_uri": "https://localhost:8080/"
        },
        "id": "iptCRiJRAw3Z",
        "outputId": "3b53c32f-21ae-43c6-fe56-eda43cfd2957"
      },
      "execution_count": 4,
      "outputs": [
        {
          "output_type": "stream",
          "name": "stdout",
          "text": [
            "La acción está sobrevalorada\n"
          ]
        }
      ]
    },
    {
      "cell_type": "markdown",
      "source": [
        "<p align=\"justify\">\n",
        "Este fragmento de código es una declaración de asignación seguida de una estructura de control <code>if</code> en Python.\n",
        "<br><br>\n",
        "Veamos en detalle cómo funciona este código:\n",
        "\n",
        "```python\n",
        "precio_accion = 170.95  # Asignación de valor a la variable precio_accion\n",
        "\n",
        "if precio_accion > 160:  # Comprobación de la condición\n",
        "    print(\"La acción está sobrevalorada\")  # Impresión de un mensaje si la condición es verdadera\n",
        "```\n",
        "\n",
        "1. `precio_accion = 170.95`: En esta línea, se asigna el valor `170.95` a la variable `precio_accion`. Esto significa que la variable `precio_accion` ahora contiene el valor `170.95`.\n",
        "\n",
        "2. `if precio_accion > 160:`: Aquí, se inicia una estructura de control `if`. La condición `precio_accion > 160` se evalúa. Si esta condición es verdadera (es decir, si el valor de `precio_accion` es mayor que `160`), entonces el bloque de código indentado que sigue será ejecutado. Si la condición es falsa, este bloque de código se omitirá.\n",
        "\n",
        "3. `print(\"La acción está sobrevalorada\")`: Si la condición en el `if` es verdadera, este código se ejecutará y se imprimirá el mensaje \"La acción está sobrevalorada\" en la consola.\n",
        "\n",
        "<p align=\"justify\">\n",
        "En resumen, este fragmento de código asigna un valor a la variable <code>precio_accion</code> y luego verifica si ese valor es mayor que <code>160</code>. Si es así, imprime un mensaje indicando que la acción está sobrevalorada.\n",
        "<br><br>\n",
        "La estructura de control <code>if</code> permite que el programa tome decisiones basadas en condiciones."
      ],
      "metadata": {
        "id": "cZr40NMKRAe_"
      }
    },
    {
      "cell_type": "markdown",
      "source": [
        "## **<font color=\"DeepPink\"><code>if</code> <code>else</code></font>**"
      ],
      "metadata": {
        "id": "seTT37C0BV-8"
      }
    },
    {
      "cell_type": "markdown",
      "source": [
        "<p align=\"justify\">\n",
        "👀 Para dos condiciones, se usa la estructura de control <code>if</code> y <code>else</code>. Es decir, o se cumple una condición, o se cumple otra condición</p>.\n",
        "\n",
        "~~~python\n",
        "if condicion_1:\n",
        "     instrucciones_1\n",
        "          \n",
        "else:\n",
        "     instrucciones_2\n",
        "~~~"
      ],
      "metadata": {
        "id": "fxaHhSd8BYjM"
      }
    },
    {
      "cell_type": "code",
      "source": [
        "# Ejemplo de dos condiciones\n",
        "precio_accion = 150.75\n",
        "\n",
        "if precio_accion > 160:\n",
        "    print(\"La acción está sobrevalorada\")\n",
        "else:\n",
        "    print(\"La acción tiene un precio razonable\")"
      ],
      "metadata": {
        "colab": {
          "base_uri": "https://localhost:8080/"
        },
        "id": "-bS9-7q_BrF5",
        "outputId": "68a98b61-ac8f-4ea9-ab55-10902abd0597"
      },
      "execution_count": 1,
      "outputs": [
        {
          "output_type": "stream",
          "name": "stdout",
          "text": [
            "La acción tiene un precio razonable\n"
          ]
        }
      ]
    },
    {
      "cell_type": "markdown",
      "source": [
        "<p align=\"justify\">\n",
        "Este fragmento de código utiliza una estructura de control <code>if-else</code> en Python para evaluar una condición y realizar acciones en función del resultado de esa evaluación.\n",
        "<br><br>\n",
        "Veamos cómo funciona este código:\n",
        "\n",
        "```python\n",
        "precio_accion = 150.75  # Asignación de valor a la variable precio_accion\n",
        "\n",
        "if precio_accion > 160:  # Comprobación de la condición\n",
        "    print(\"La acción está sobrevalorada\")  # Impresión si la condición es verdadera\n",
        "else:\n",
        "    print(\"La acción tiene un precio razonable\")  # Impresión si la condición es falsa\n",
        "```\n",
        "\n",
        "1. `precio_accion = 150.75`: En esta línea, se asigna el valor `150.75` a la variable `precio_accion`.\n",
        "\n",
        "2. `if precio_accion > 160:`: Aquí, se inicia una estructura de control `if`. La condición `precio_accion > 160` se evalúa. Si esta condición es verdadera (es decir, si el valor de `precio_accion` es mayor que `160`), entonces se ejecuta el bloque de código indentado que sigue a esta línea. En este caso, como la condición es falsa, el bloque de código dentro del `if` se omite.\n",
        "\n",
        "3. `print(\"La acción está sobrevalorada\")`: Si la condición en el `if` fuera verdadera, este código se ejecutaría y se imprimiría el mensaje \"La acción está sobrevalorada\" en la consola.\n",
        "\n",
        "4. `else:`: Esta parte se ejecuta si la condición en el `if` es falsa. Proporciona una alternativa para el caso en que la condición no se cumpla.\n",
        "\n",
        "5. `print(\"La acción tiene un precio razonable\")`: Como la condición `precio_accion > 160` es falsa en este caso, se ejecuta este bloque de código y se imprime el mensaje \"La acción tiene un precio razonable\" en la consola.\n",
        "\n",
        "<p align=\"justify\">\n",
        "En resumen, este fragmento de código evalúa si el valor de <code>precio_accion</code> es mayor que <code>160</code> y luego imprime un mensaje correspondiente. Si la condición es verdadera, se imprime que la acción está sobrevalorada; de lo contrario, se imprime que la acción tiene un precio razonable.\n",
        "<br><br>\n",
        "Esto demuestra cómo la estructura de control <code>if-else</code> permite al programa tomar diferentes caminos basados en condiciones."
      ],
      "metadata": {
        "id": "fvUe8lSeR4Lh"
      }
    },
    {
      "cell_type": "markdown",
      "source": [
        "## **<font color=\"DeepPink\"><code>if</code> <code>elif</code> <code>else</code></font>**"
      ],
      "metadata": {
        "id": "g-mH36nrB8rl"
      }
    },
    {
      "cell_type": "markdown",
      "source": [
        "<p align=\"justify\">\n",
        "👀 Para más de dos condiciones, se usa la estructura de control <code lang=\"python\">if</code> <code>elif</code> y <code>else</code>.</p>\n",
        "\n",
        "~~~python\n",
        "if condicion_1:\n",
        "     instrucciones_1\n",
        "     \n",
        "elif condicion_2:\n",
        "     instrucciones_2\n",
        "     \n",
        "else:\n",
        "     instrucciones_3\n",
        "~~~"
      ],
      "metadata": {
        "id": "3Vuziv9sCBg4"
      }
    },
    {
      "cell_type": "code",
      "source": [
        "# Ejemplo de más de dos condiciones\n",
        "precio_accion = 150.75\n",
        "\n",
        "if precio_accion > 160:\n",
        "    print(\"La acción está sobrevalorada\")\n",
        "elif precio_accion < 140:\n",
        "    print(\"La acción está subvalorada\")\n",
        "else:\n",
        "    print(\"La acción tiene un precio razonable\")"
      ],
      "metadata": {
        "colab": {
          "base_uri": "https://localhost:8080/"
        },
        "id": "CLZ4J87D_lWt",
        "outputId": "039bfcca-979d-4ea1-a403-26986e278301"
      },
      "execution_count": 2,
      "outputs": [
        {
          "output_type": "stream",
          "name": "stdout",
          "text": [
            "La acción tiene un precio razonable\n"
          ]
        }
      ]
    },
    {
      "cell_type": "markdown",
      "source": [
        "<p align=\"justify\">\n",
        "Este fragmento de código utiliza una estructura de control <code>if-elif-else</code> en Python para evaluar múltiples condiciones y ejecutar acciones en función de los resultados de esas evaluaciones.\n",
        "<br><br>\n",
        "Veamos cómo funciona este código:\n",
        "\n",
        "```python\n",
        "precio_accion = 150.75  # Asignación de valor a la variable precio_accion\n",
        "\n",
        "if precio_accion > 160:  # Comprobación de la primera condición\n",
        "    print(\"La acción está sobrevalorada\")  # Impresión si la primera condición es verdadera\n",
        "elif precio_accion < 140:  # Comprobación de la segunda condición si la primera es falsa\n",
        "    print(\"La acción está subvalorada\")  # Impresión si la segunda condición es verdadera\n",
        "else:\n",
        "    print(\"La acción tiene un precio razonable\")  # Impresión si ambas condiciones anteriores son falsas\n",
        "```\n",
        "\n",
        "1. `precio_accion = 150.75`: En esta línea, se asigna el valor `150.75` a la variable `precio_accion`.\n",
        "\n",
        "2. `if precio_accion > 160:`: Aquí, se inicia la estructura de control `if`. La primera condición `precio_accion > 160` se evalúa. Si esta condición es verdadera (es decir, si el valor de `precio_accion` es mayor que `160`), se ejecuta el bloque de código indentado que sigue.\n",
        "\n",
        "3. `print(\"La acción está sobrevalorada\")`: Si la primera condición es verdadera, se ejecuta este bloque de código y se imprime el mensaje \"La acción está sobrevalorada\" en la consola.\n",
        "\n",
        "4. `elif precio_accion < 140:`: Si la primera condición es falsa, se evalúa la segunda condición `precio_accion < 140`. Si esta condición es verdadera (es decir, si el valor de `precio_accion` es menor que `140`), se ejecuta el bloque de código indentado después de este `elif`.\n",
        "\n",
        "5. `print(\"La acción está subvalorada\")`: Si la segunda condición es verdadera, se ejecuta este bloque de código y se imprime el mensaje \"La acción está subvalorada\" en la consola.\n",
        "\n",
        "6. `else:`: Si ambas condiciones anteriores son falsas, se ejecuta este bloque de código. No hay una condición explícita en el `else` porque se ejecuta si ninguna de las condiciones anteriores es verdadera.\n",
        "\n",
        "7. `print(\"La acción tiene un precio razonable\")`: Si ninguna de las condiciones anteriores es verdadera, se ejecuta este bloque de código y se imprime el mensaje \"La acción tiene un precio razonable\" en la consola.\n",
        "\n",
        "<p align=\"justify\">\n",
        "En resumen, este fragmento de código evalúa diferentes condiciones relacionadas con el valor de <code>precio_accion</code> y luego imprime mensajes apropiados en función de las evaluaciones.\n",
        "<br><br>\n",
        "La estructura de control <code>if-elif-else</code> permite al programa tomar diferentes caminos basados en múltiples condiciones, lo que es útil para tomar decisiones más complejas."
      ],
      "metadata": {
        "id": "ir_WbVvCTQ2i"
      }
    },
    {
      "cell_type": "markdown",
      "source": [
        "<p align=\"justify\">\n",
        "👀 Si alguna de las condiciones se cumple y nuestro script tiene varias condiciones a evaluar, entonces cumplida una condición, ya no se siguen evaluando las siguientes condiciones...</p>"
      ],
      "metadata": {
        "id": "Ewq1bi-hClvy"
      }
    },
    {
      "cell_type": "code",
      "source": [
        "activo_corriente = 500;\n",
        "pasivo_corriente = 700;\n",
        "activo_no_corriente = 800;\n",
        "pasivo_no_corriente = 1000"
      ],
      "metadata": {
        "id": "f5Di1DpqCnHR"
      },
      "execution_count": 8,
      "outputs": []
    },
    {
      "cell_type": "code",
      "source": [
        "if activo_corriente < pasivo_corriente or activo_no_corriente > pasivo_no_corriente:\n",
        "     print(\"Verificado\")"
      ],
      "metadata": {
        "colab": {
          "base_uri": "https://localhost:8080/"
        },
        "id": "U_8nd6JDCxOv",
        "outputId": "0d5a82a5-7eb3-4313-a4ff-7b5902509862"
      },
      "execution_count": 9,
      "outputs": [
        {
          "output_type": "stream",
          "name": "stdout",
          "text": [
            "Verificado\n"
          ]
        }
      ]
    },
    {
      "cell_type": "markdown",
      "source": [
        "<p align=\"justify\">\n",
        "👀 La comparación <code>activo_no_corriente</code> con <code>pasivo_no_corriente</code> nunca se evalúa porque la primera comparación entre activo y pasivo corriente fue <code lang=\"python\">True</code>...<br><br>También es posible encadenar comparaciones, ejemplo:</p>"
      ],
      "metadata": {
        "id": "IM-MgeUSC6gs"
      }
    },
    {
      "cell_type": "code",
      "source": [
        "4 > 3 > 2 > 1"
      ],
      "metadata": {
        "colab": {
          "base_uri": "https://localhost:8080/"
        },
        "id": "0R30iP10C8FI",
        "outputId": "f3bed3a8-9615-4a78-93ab-857c08d0928b"
      },
      "execution_count": 10,
      "outputs": [
        {
          "output_type": "execute_result",
          "data": {
            "text/plain": [
              "True"
            ]
          },
          "metadata": {},
          "execution_count": 10
        }
      ]
    },
    {
      "cell_type": "code",
      "source": [
        "activo_corriente > activo_no_corriente > pasivo_corriente > pasivo_no_corriente"
      ],
      "metadata": {
        "colab": {
          "base_uri": "https://localhost:8080/"
        },
        "id": "sYlsPLcWDAFn",
        "outputId": "94c13fc1-062c-47c3-e43c-27fbb12393a0"
      },
      "execution_count": 11,
      "outputs": [
        {
          "output_type": "execute_result",
          "data": {
            "text/plain": [
              "False"
            ]
          },
          "metadata": {},
          "execution_count": 11
        }
      ]
    },
    {
      "cell_type": "markdown",
      "source": [
        " # **<font color=\"DeepPink\">Operadores lógicos: combinando condiciones</font>**"
      ],
      "metadata": {
        "id": "SC8-onvQDc8F"
      }
    },
    {
      "cell_type": "markdown",
      "source": [
        "<p align=\"justify\">\n",
        "Los operadores lógicos nos permiten combinar múltiples condiciones y evaluar si se cumplen todas o algunas de ellas. Esto es útil para tomar decisiones más complejas basadas en varios factores.\n"
      ],
      "metadata": {
        "id": "OpIzLItJDeyI"
      }
    },
    {
      "cell_type": "markdown",
      "source": [
        "## **<font color=\"DeepPink\"><code>and</code> <code>or</code></font>**"
      ],
      "metadata": {
        "id": "iAWsjsXfWTRN"
      }
    },
    {
      "cell_type": "code",
      "source": [
        "volumen = 12000\n",
        "precio = 160.50\n",
        "\n",
        "if volumen > 10000 and precio < 170:\n",
        "    print(\"Buen momento para invertir\")\n",
        "elif volumen > 15000 or precio < 150:\n",
        "    print(\"Considera con precaución\")\n",
        "else:\n",
        "    print(\"Evaluar más información antes de invertir\")\n"
      ],
      "metadata": {
        "colab": {
          "base_uri": "https://localhost:8080/"
        },
        "id": "RKl1fZ-iDlu_",
        "outputId": "deb3af15-e0e9-4aec-d319-642ad710331a"
      },
      "execution_count": 12,
      "outputs": [
        {
          "output_type": "stream",
          "name": "stdout",
          "text": [
            "Buen momento para invertir\n"
          ]
        }
      ]
    },
    {
      "cell_type": "markdown",
      "source": [
        "<p align=\"justify\">\n",
        "Este fragmento de código utiliza una estructura de control <code>if-elif-else</code> en Python para evaluar múltiples condiciones relacionadas con el volumen y el precio de inversión a través de operadores lógicos, y luego imprimir mensajes correspondientes en función de los resultados de esas evaluaciones.\n",
        "<br><br>\n",
        "Veamos cómo funciona este código:\n",
        "\n",
        "```python\n",
        "volumen = 12000  # Asignación de valor a la variable volumen\n",
        "precio = 160.50  # Asignación de valor a la variable precio\n",
        "\n",
        "if volumen > 10000 and precio < 170:  # Comprobación de la primera condición\n",
        "    print(\"Buen momento para invertir\")  # Impresión si la primera condición es verdadera\n",
        "elif volumen > 15000 or precio < 150:  # Comprobación de la segunda condición si la primera es falsa\n",
        "    print(\"Considera con precaución\")  # Impresión si la segunda condición es verdadera\n",
        "else:\n",
        "    print(\"Evaluar más información antes de invertir\")  # Impresión si ambas condiciones anteriores son falsas\n",
        "```\n",
        "\n",
        "1. `volumen = 12000`: En esta línea, se asigna el valor `12000` a la variable `volumen`.\n",
        "\n",
        "2. `precio = 160.50`: En esta línea, se asigna el valor `160.50` a la variable `precio`.\n",
        "\n",
        "3. `if volumen > 10000 and precio < 170:`: Aquí, se inicia la estructura de control `if`. La primera condición `volumen > 10000 and precio < 170` se evalúa. Esta condición verifica dos subcondiciones: si el volumen es mayor que `10000` y si el precio es menor que `170`. Ambas subcondiciones deben ser verdaderas para que la condición principal sea verdadera.\n",
        "\n",
        "4. `print(\"Buen momento para invertir\")`: Si ambas subcondiciones en la primera condición son verdaderas, se ejecuta este bloque de código y se imprime el mensaje \"Buen momento para invertir\" en la consola.\n",
        "\n",
        "5. `elif volumen > 15000 or precio < 150:`: Si la primera condición es falsa, se evalúa la segunda condición `volumen > 15000 or precio < 150`. Esta condición verifica dos subcondiciones: si el volumen es mayor que `15000` o si el precio es menor que `150`. Si al menos una de estas subcondiciones es verdadera, la condición principal es verdadera.\n",
        "\n",
        "6. `print(\"Considera con precaución\")`: Si al menos una de las subcondiciones en la segunda condición es verdadera, se ejecuta este bloque de código y se imprime el mensaje \"Considera con precaución\" en la consola.\n",
        "\n",
        "7. `else:`: Si ninguna de las condiciones anteriores es verdadera, se ejecuta este bloque de código.\n",
        "\n",
        "8. `print(\"Evaluar más información antes de invertir\")`: Si ninguna de las condiciones anteriores es verdadera, se ejecuta este bloque de código y se imprime el mensaje \"Evaluar más información antes de invertir\" en la consola.\n",
        "\n",
        "<p align=\"justify\">\n",
        "En resumen, este fragmento de código evalúa diferentes condiciones relacionadas con el volumen y el precio de inversión y luego imprime mensajes apropiados en función de las evaluaciones.\n",
        "<br><br>\n",
        "La estructura de control <code>if-elif-else</code> permite al programa tomar diferentes caminos basados en múltiples condiciones que contienen operadores lógicos."
      ],
      "metadata": {
        "id": "0QxAIio-UeNB"
      }
    },
    {
      "cell_type": "markdown",
      "source": [
        " # **<font color=\"DeepPink\">Ternario: simplificando decisiones</font>**"
      ],
      "metadata": {
        "id": "cLLw2p0oEIYs"
      }
    },
    {
      "cell_type": "markdown",
      "source": [
        "<p align=\"justify\">\n",
        "El operador ternario es una forma compacta de escribir una expresión condicional en una sola línea.\n",
        "<br><br>\n",
        "👀 Puede ser útil cuando queremos asignar un valor basado en una condición.\n"
      ],
      "metadata": {
        "id": "u4Ybuv-TEM-F"
      }
    },
    {
      "cell_type": "code",
      "source": [
        "riesgo = \"Alto\" if precio_accion > 170 else \"Moderado\"\n",
        "\n",
        "print(f\"Riesgo: {riesgo}\")"
      ],
      "metadata": {
        "colab": {
          "base_uri": "https://localhost:8080/"
        },
        "id": "lbnjJZjEEbLx",
        "outputId": "6d6a64e5-8200-4c72-c846-2dd3da481ff3"
      },
      "execution_count": 14,
      "outputs": [
        {
          "output_type": "stream",
          "name": "stdout",
          "text": [
            "Riesgo: Moderado\n"
          ]
        }
      ]
    },
    {
      "cell_type": "markdown",
      "source": [
        "<p align=\"justify\">\n",
        "Este fragmento de código utiliza el operador ternario en Python para asignar un valor a la variable <code>riesgo</code> y luego imprime un mensaje en función de una condición.\n",
        "<br><br>\n",
        "Veamos cómo funciona este código:\n",
        "\n",
        "```python\n",
        "riesgo = \"Alto\" if precio_accion > 170 else \"Moderado\"\n",
        "print(f\"Riesgo: {riesgo}\")\n",
        "```\n",
        "\n",
        "1. `riesgo = \"Alto\" if precio_accion > 170 else \"Moderado\"`: En esta línea, se utiliza el operador ternario para asignar un valor a la variable `riesgo`. La sintaxis general del operador ternario es `valor_verdadero if condicion else valor_falso`. En este caso, si la condición `precio_accion > 170` es verdadera (es decir, si el valor de `precio_accion` es mayor que `170`), se asigna el valor `\"Alto\"` a la variable `riesgo`. Si la condición es falsa, se asigna el valor `\"Moderado\"`.\n",
        "\n",
        "2. `print(f\"Riesgo: {riesgo}\")`: Luego, se imprime un mensaje que incluye el valor de la variable `riesgo`. Se utiliza una f-string para formatear el mensaje y mostrar el valor actual de `riesgo`.\n",
        "\n",
        "<p align=\"justify\">\n",
        "En resumen, este fragmento de código evalúa si el valor de <code>precio_accion</code> es mayor que <code>170</code> utilizando el operador ternario. Si la condición es verdadera, se asigna <code>\"Alto\"</code> a la variable <code>riesgo</code>; de lo contrario, se asigna <code>\"Moderado\"</code>.\n",
        "<br><br>\n",
        "Luego, se imprime un mensaje que muestra el riesgo correspondiente en función de la condición evaluada. El uso del operador ternario permite asignar valores de manera eficiente basados en condiciones."
      ],
      "metadata": {
        "id": "aff4Y1frVmYN"
      }
    },
    {
      "cell_type": "markdown",
      "source": [
        " # **<font color=\"DeepPink\">Conclusiones</font>**"
      ],
      "metadata": {
        "id": "XnFOBjf0AFI4"
      }
    },
    {
      "cell_type": "markdown",
      "source": [
        "<p align=\"justify\">\n",
        "Los operadores de comparación, lógicos y ternarios son esenciales para dirigir el flujo de ejecución de nuestros programas según condiciones específicas. En el ámbito de Business Data Science, estos operadores nos permiten automatizar análisis, evaluar riesgos y tomar decisiones informadas en función de datos y condiciones cambiantes."
      ],
      "metadata": {
        "id": "iGzAcN5IG9oR"
      }
    },
    {
      "cell_type": "markdown",
      "source": [
        "<p align=\"justify\">\n",
        "👀 En este colab nosotros:\n",
        "<br><br>\n",
        "✅ Vemos operadores de comparación.\n",
        "<br>\n",
        "✅ Vemos operadores lógicos.\n",
        "<br>\n",
        "✅ Vemos como simplificar las decisiones.\n",
        "<br>\n",
        "<br>\n",
        "<p align=\"center\">\n",
        "<img src=\"https://www.python.org/static/community_logos/python-powered-h-70x91.png\">\n",
        "</p>\n",
        "\n",
        "---"
      ],
      "metadata": {
        "id": "XoXTnIXdAOG1"
      }
    }
  ]
}