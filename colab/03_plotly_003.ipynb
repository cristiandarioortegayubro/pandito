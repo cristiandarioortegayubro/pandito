{
  "nbformat": 4,
  "nbformat_minor": 0,
  "metadata": {
    "colab": {
      "provenance": [],
      "toc_visible": true,
      "include_colab_link": true
    },
    "kernelspec": {
      "name": "python3",
      "display_name": "Python 3"
    },
    "language_info": {
      "name": "python"
    }
  },
  "cells": [
    {
      "cell_type": "markdown",
      "metadata": {
        "id": "view-in-github",
        "colab_type": "text"
      },
      "source": [
        "<a href=\"https://colab.research.google.com/github/cristiandarioortegayubro/pandito/blob/main/colab/03_plotly_003.ipynb\" target=\"_parent\"><img src=\"https://colab.research.google.com/assets/colab-badge.svg\" alt=\"Open In Colab\"/></a>"
      ]
    },
    {
      "cell_type": "markdown",
      "source": [
        "<h1 p align=\"center\">\n",
        "<b>\n",
        "<font color=\"DeepPink\">\n",
        "Saliendo de lo pandito\n",
        "</font>\n",
        "</h1>\n",
        "\n",
        "<p align=\"center\">\n",
        "<img src=\"https://github.com/cristiandarioortegayubro/BDS/blob/main/images/Logo%20BDS%20Horizontal%208.png?raw=true\" width=\"400\">\n",
        "</p>\n",
        "\n",
        "<p align=\"center\">\n",
        "<img src=\"https://github.com/cristiandarioortegayubro/pandito/blob/main/images/imagen-001.png?raw=true\" width=\"300\">\n",
        "</p>\n",
        "\n"
      ],
      "metadata": {
        "id": "iheuwam9e4CH"
      }
    },
    {
      "cell_type": "markdown",
      "source": [
        " # **<font color=\"DeepPink\">Plotly - Gráficos estadísticos</font>**"
      ],
      "metadata": {
        "id": "_o8tuKydjnRZ"
      }
    },
    {
      "cell_type": "markdown",
      "source": [
        "<p align=\"justify\">\n",
        "Los gráficos estadísticos son representaciones visuales de datos numéricos y estadísticos que permiten analizar, interpretar y comunicar información de manera efectiva. Estos gráficos se utilizan para resaltar patrones, tendencias, relaciones y distribuciones en los datos, lo que facilita la comprensión y toma de decisiones informadas.\n",
        "<br><br>\n",
        "Los gráficos estadísticos son herramientas esenciales en diversas disciplinas, incluyendo estadísticas, ciencias sociales, finanzas, economía y más.\n",
        "<br><br>\n",
        "Los gráficos estadísticos pueden ser de varios tipos, y cada tipo está diseñado para resaltar diferentes aspectos de los datos. Algunos ejemplos comunes de gráficos estadísticos incluyen:\n",
        "\n",
        "\n",
        "1. Gráficos de dispersión: Muestran la relación entre dos variables, ubicando los puntos de datos en un plano cartesiano. Pueden incluir líneas de tendencia para resaltar patrones.\n",
        "\n",
        "2. Gráficos de torta: Muestran la proporción de diferentes categorías en función del área de un círculo. Son efectivos para representar partes de un todo.\n",
        "\n",
        "3. Histogramas: Representan la distribución de datos en intervalos, ayudando a comprender la frecuencia de ocurrencia de diferentes valores.\n",
        "\n",
        "4. Box plots (gráficos de caja y bigote): Resaltan la distribución de los datos a través de cuartiles y valores atípicos, proporcionando información sobre la dispersión y la mediana.\n",
        "\n",
        "5. Gráficos de áreas: Muestran la acumulación de valores a lo largo del tiempo o de una variable, creando una visualización de área sombreada.\n",
        "\n",
        "<p align=\"justify\">\n",
        "Estos son solo algunos ejemplos de los tipos de gráficos estadísticos disponibles. La elección del tipo de gráfico depende del tipo de datos que se desea representar y el objetivo de la visualización.\n",
        "<br><br>\n",
        "Los gráficos estadísticos son una herramienta esencial para explorar datos, comunicar resultados y tomar decisiones informadas basadas en la información visualizada."
      ],
      "metadata": {
        "id": "hZGi-rgIbQHg"
      }
    },
    {
      "cell_type": "markdown",
      "source": [
        " ## **<font color=\"DeepPink\">Carga de bibliotecas necesarias</font>**"
      ],
      "metadata": {
        "id": "Qw37Xd1EbLFZ"
      }
    },
    {
      "cell_type": "code",
      "source": [
        "import yfinance as yf\n",
        "import plotly.express as px"
      ],
      "metadata": {
        "id": "82fokHqUcwRY"
      },
      "execution_count": 1,
      "outputs": []
    },
    {
      "cell_type": "markdown",
      "source": [
        "<p align=\"justify\">\n",
        "Las líneas de código <code>import yfinance as yf</code> e <code>import plotly.express as px</code> son declaraciones de importación en Python. Estas declaraciones permiten cargar bibliotecas o módulos externos en tu programa para que puedas acceder a las funciones y características proporcionadas por esas bibliotecas.\n",
        "\n",
        "1. **import yfinance as yf**:\n",
        "   En esta línea, se importa el módulo `yfinance` y se le asigna un alias o nombre corto `yf`. `yfinance` es una biblioteca que proporciona una interfaz para acceder y descargar datos financieros de Yahoo Finance. Al asignarle un alias, puedes usar el nombre corto `yf` para hacer referencia a las funciones y clases del módulo en tu código.\n",
        "\n",
        "2. **import plotly.express as px**:\n",
        "   En esta línea, se importa el módulo `plotly.express` y se le asigna un alias `px`. `plotly.express` es una biblioteca que facilita la creación de visualizaciones interactivas, incluidos gráficos, diagramas y más. Al igual que en el caso anterior, asignar un alias más corto (`px` en este caso) hace que sea más conveniente acceder a las funciones y clases proporcionadas por la biblioteca.\n",
        "\n",
        "En resumen, las declaraciones de importación te permiten cargar bibliotecas externas en tu programa para aprovechar sus funcionalidades."
      ],
      "metadata": {
        "id": "b5xoQbDYcsSh"
      }
    },
    {
      "cell_type": "markdown",
      "source": [
        " ## **<font color=\"DeepPink\">Definición de variables y descarga de datos</font>**"
      ],
      "metadata": {
        "id": "htQjoVopc1K9"
      }
    },
    {
      "cell_type": "code",
      "source": [
        "# Símbolos de las acciones\n",
        "tickers = ['AAPL', 'GOOG']\n",
        "\n",
        "# Fecha de inicio y fin para enero de 2020\n",
        "start_date = '2020-01-01'\n",
        "end_date = '2020-01-31'\n",
        "\n",
        "# Obtener los datos utilizando yfinance\n",
        "data = yf.download(tickers,\n",
        "                   start=start_date,\n",
        "                   end=end_date,\n",
        "                   interval='1d',\n",
        "                   progress=False)"
      ],
      "metadata": {
        "id": "9FOKNmNbnr3f"
      },
      "execution_count": 2,
      "outputs": []
    },
    {
      "cell_type": "markdown",
      "source": [
        "<p align=\"justify\">\n",
        "En este código, se están utilizando los módulos de la biblioteca <code>yfinance</code> para descargar datos históricos de las acciones de Apple y Google durante el mes de enero de 2020.\n",
        "<br><br>\n",
        "Aquí está la explicación detallada de cada línea de código:\n",
        "\n",
        "1. `tickers = ['AAPL', 'GOOG']`: Esta línea crea una lista llamada `tickers` que contiene los símbolos de las acciones que se desean analizar. En este caso, se están utilizando los símbolos de las acciones de Apple y Google.\n",
        "\n",
        "2. `start_date = '2020-01-01'`: Aquí se define la fecha de inicio del período para el que se descargarán los datos. En este caso, la fecha de inicio es el 1 de enero de 2020.\n",
        "\n",
        "3. `end_date = '2020-01-31'`: Esta línea define la fecha final del período para el que se descargarán los datos. En este caso, la fecha final es el 31 de enero de 2020.\n",
        "\n",
        "4. `data = yf.download(tickers, start=start_date, end=end_date, interval='1d', progress=False)`: Aquí se utiliza la función `download` del módulo `yf` para descargar los datos históricos de las acciones especificadas en la lista `tickers`. Los argumentos `start`, `end` e `interval` se utilizan para especificar el período de tiempo y la frecuencia de los datos. El argumento `progress` se establece en `False` para evitar la visualización de una barra de progreso durante la descarga.\n",
        "\n",
        "<p align=\"justify\">\n",
        "Después de ejecutar este código, la variable <code>data</code> contendrá un objeto que almacena los datos históricos de las acciones de Apple y Google durante el mes de enero de 2020, con una frecuencia diaria.\n",
        "<br><br>\n",
        "Cada columna en este objeto representará diferentes aspectos de los datos, como precios de apertura, cierre, máximo, mínimo y volumen de operaciones."
      ],
      "metadata": {
        "id": "8IJ7LagcdFfb"
      }
    },
    {
      "cell_type": "markdown",
      "source": [
        " ## **<font color=\"DeepPink\">Adaptando el DataFrame</font>**"
      ],
      "metadata": {
        "id": "5nG42GqidYgU"
      }
    },
    {
      "cell_type": "code",
      "source": [
        "# Seleccionar los precios de cierre ajustados\n",
        "close_prices = data['Adj Close']"
      ],
      "metadata": {
        "id": "GpFaAQx-deUJ"
      },
      "execution_count": 3,
      "outputs": []
    },
    {
      "cell_type": "markdown",
      "source": [
        "<p align=\"justify\">\n",
        "La línea de código <code>close_prices = data['Adj Close']</code> se utiliza para seleccionar y asignar a la variable <code>close_prices</code> la columna de precios de cierre ajustados (\"Adj Close\") de los datos descargados.\n",
        "<br><br>\n",
        "Aquí está la explicación más detallada:\n",
        "\n",
        "- `data`: Es el objeto que contiene los datos descargados utilizando la función `yf.download()` previamente. Este objeto generalmente es un DataFrame, una estructura de datos tabular similar a una hoja de cálculo, en la que cada columna representa una variable diferente y cada fila representa una observación en un momento específico.\n",
        "\n",
        "- `'Adj Close'`: Es el nombre de la columna que deseamos seleccionar de los datos. \"Adj Close\" representa el precio de cierre ajustado de las acciones. El precio de cierre ajustado es el precio al que una acción cerró en un día específico, teniendo en cuenta los ajustes necesarios, como dividendos y desdoblamientos.\n",
        "\n",
        "- `close_prices`: Es la variable a la que se asignará la columna de precios de cierre ajustados. Una vez que se ejecuta la línea de código, `close_prices` será una Serie (una columna del DataFrame) que contiene los precios de cierre ajustados para las acciones en el período de tiempo especificado.\n",
        "\n",
        "<p align=\"justify\">\n",
        "En resumen, la línea de código selecciona y extrae la columna de precios de cierre ajustados de los datos descargados y la asigna a la variable <code>close_prices</code>, lo que nos permite trabajar específicamente con esos datos en el análisis y la visualización subsiguientes."
      ],
      "metadata": {
        "id": "wXErjkWkdfeG"
      }
    },
    {
      "cell_type": "code",
      "source": [
        "# Crear un DataFrame\n",
        "box_data = close_prices.reset_index().melt(id_vars=['Date'], var_name='Ticker', value_name='Precio')"
      ],
      "metadata": {
        "id": "FgN_HhB0dnA4"
      },
      "execution_count": 4,
      "outputs": []
    },
    {
      "cell_type": "markdown",
      "source": [
        "<p align=\"justify\">\n",
        "La línea de código <code>box_data = close_prices.reset_index().melt(id_vars=['Date'], var_name='Ticker', value_name='Precio')</code> realiza una transformación en los datos de precios de cierre ajustados para prepararlos para su uso en la creación de un gráfico de barras en Plotly. La operación implica reorganizar los datos de manera que se puedan utilizar fácilmente para representar un gráfico de caja.\n",
        "<br><br>\n",
        "Aquí está la explicación más detallada de cada parte de la línea de código:\n",
        "\n",
        "1. `close_prices`: Es la Serie que contiene los precios de cierre ajustados para las acciones de Apple y Google en el período de tiempo especificado.\n",
        "\n",
        "2. `.reset_index()`: Este método se aplica a la Serie `close_prices` y devuelve un DataFrame donde se restablece el índice de las filas a un rango numérico y se coloca la columna de fechas (\"Date\") como una columna normal en el DataFrame.\n",
        "\n",
        "3. `.melt(id_vars=['Date'], var_name='Ticker', value_name='Precio')`: El método `.melt()` se utiliza para transformar el DataFrame reindexado en un formato donde los valores de las columnas se \"derriten\" en una sola columna de valores. La transformación implica:\n",
        "\n",
        "   - `id_vars=['Date']`: La columna \"Date\" se mantiene como identificador, lo que significa que no se derrite en la nueva columna.\n",
        "   - `var_name='Ticker'`: Los nombres de las columnas originales (\"AAPL\", \"GOOG\") se transfieren a la nueva columna \"Ticker\", que representará las categorías en el gráfico de barras.\n",
        "   - `value_name='Precio'`: Los valores numéricos (precios de cierre ajustados) se trasladan a la columna \"Precio\".\n",
        "\n",
        "<p align=\"justify\">\n",
        "El resultado de esta transformación es que <code>box_data</code> será un DataFrame que contiene tres columnas: \"Date\", \"Ticker\" y \"Precio\".\n",
        "<br><br>\n",
        "Cada fila representará un registro de precios de cierre ajustados para una fecha y una acción específicas. Este formato es adecuado para crear un gráfico de barras en Plotly donde \"Date\" se mapeará en el eje $X$, \"Precio\" se mapeará en el eje $Y$ y \"Ticker\" se usará para agrupar los datos en diferentes barras correspondientes a cada acción."
      ],
      "metadata": {
        "id": "Zfzrw8iEdoJi"
      }
    },
    {
      "cell_type": "markdown",
      "source": [
        " ## **<font color=\"DeepPink\">Creación del gráfico de caja</font>**"
      ],
      "metadata": {
        "id": "v0j-vqQPeNia"
      }
    },
    {
      "cell_type": "code",
      "source": [
        "# Crear el gráfico de Box Plot utilizando Plotly\n",
        "fig = px.box(box_data, y='Precio',\n",
        "             color='Ticker',\n",
        "             title=f'Precios de Cierre de Acciones en enero de 2020',\n",
        "             template='plotly_dark')\n",
        "\n",
        "fig.update_yaxes(title_text='Precio de Cierre')\n",
        "fig.show()\n"
      ],
      "metadata": {
        "colab": {
          "base_uri": "https://localhost:8080/",
          "height": 542
        },
        "id": "xY7j5bHjc893",
        "outputId": "b19914ca-8339-46d9-ab76-bdc07aa52e9a"
      },
      "execution_count": 5,
      "outputs": [
        {
          "output_type": "display_data",
          "data": {
            "text/html": [
              "<html>\n",
              "<head><meta charset=\"utf-8\" /></head>\n",
              "<body>\n",
              "    <div>            <script src=\"https://cdnjs.cloudflare.com/ajax/libs/mathjax/2.7.5/MathJax.js?config=TeX-AMS-MML_SVG\"></script><script type=\"text/javascript\">if (window.MathJax && window.MathJax.Hub && window.MathJax.Hub.Config) {window.MathJax.Hub.Config({SVG: {font: \"STIX-Web\"}});}</script>                <script type=\"text/javascript\">window.PlotlyConfig = {MathJaxConfig: 'local'};</script>\n",
              "        <script charset=\"utf-8\" src=\"https://cdn.plot.ly/plotly-2.24.1.min.js\"></script>                <div id=\"e9b23b81-82c2-4f5a-ae19-7fc73bfcc00c\" class=\"plotly-graph-div\" style=\"height:525px; width:100%;\"></div>            <script type=\"text/javascript\">                                    window.PLOTLYENV=window.PLOTLYENV || {};                                    if (document.getElementById(\"e9b23b81-82c2-4f5a-ae19-7fc73bfcc00c\")) {                    Plotly.newPlot(                        \"e9b23b81-82c2-4f5a-ae19-7fc73bfcc00c\",                        [{\"alignmentgroup\":\"True\",\"hovertemplate\":\"Ticker=AAPL\\u003cbr\\u003ePrecio=%{y}\\u003cextra\\u003e\\u003c\\u002fextra\\u003e\",\"legendgroup\":\"AAPL\",\"marker\":{\"color\":\"#636efa\"},\"name\":\"AAPL\",\"notched\":false,\"offsetgroup\":\"AAPL\",\"orientation\":\"v\",\"showlegend\":true,\"x0\":\" \",\"xaxis\":\"x\",\"y\":[73.2490234375,72.53689575195312,73.11488342285156,72.77102661132812,73.9416275024414,75.51221466064453,75.68292236328125,77.29983520507812,76.25602722167969,75.92925262451172,76.88036346435547,77.73152923583984,77.20474243164062,77.48031616210938,77.85344696044922,77.62908172607422,75.34637451171875,77.4779052734375,79.09967803955078,78.98506164550781],\"y0\":\" \",\"yaxis\":\"y\",\"type\":\"box\"},{\"alignmentgroup\":\"True\",\"hovertemplate\":\"Ticker=GOOG\\u003cbr\\u003ePrecio=%{y}\\u003cextra\\u003e\\u003c\\u002fextra\\u003e\",\"legendgroup\":\"GOOG\",\"marker\":{\"color\":\"#EF553B\"},\"name\":\"GOOG\",\"notched\":false,\"offsetgroup\":\"GOOG\",\"orientation\":\"v\",\"showlegend\":true,\"x0\":\" \",\"xaxis\":\"x\",\"y\":[68.36849975585938,68.03299713134766,69.71050262451172,69.66699981689453,70.21600341796875,70.99150085449219,71.48650360107422,71.96150207519531,71.54399871826172,71.95999908447266,72.58499908447266,74.01950073242188,74.22000122070312,74.29750061035156,74.3324966430664,73.33550262451172,71.69499969482422,72.62799835205078,72.93150329589844,72.79199981689453],\"y0\":\" \",\"yaxis\":\"y\",\"type\":\"box\"}],                        {\"template\":{\"data\":{\"barpolar\":[{\"marker\":{\"line\":{\"color\":\"rgb(17,17,17)\",\"width\":0.5},\"pattern\":{\"fillmode\":\"overlay\",\"size\":10,\"solidity\":0.2}},\"type\":\"barpolar\"}],\"bar\":[{\"error_x\":{\"color\":\"#f2f5fa\"},\"error_y\":{\"color\":\"#f2f5fa\"},\"marker\":{\"line\":{\"color\":\"rgb(17,17,17)\",\"width\":0.5},\"pattern\":{\"fillmode\":\"overlay\",\"size\":10,\"solidity\":0.2}},\"type\":\"bar\"}],\"carpet\":[{\"aaxis\":{\"endlinecolor\":\"#A2B1C6\",\"gridcolor\":\"#506784\",\"linecolor\":\"#506784\",\"minorgridcolor\":\"#506784\",\"startlinecolor\":\"#A2B1C6\"},\"baxis\":{\"endlinecolor\":\"#A2B1C6\",\"gridcolor\":\"#506784\",\"linecolor\":\"#506784\",\"minorgridcolor\":\"#506784\",\"startlinecolor\":\"#A2B1C6\"},\"type\":\"carpet\"}],\"choropleth\":[{\"colorbar\":{\"outlinewidth\":0,\"ticks\":\"\"},\"type\":\"choropleth\"}],\"contourcarpet\":[{\"colorbar\":{\"outlinewidth\":0,\"ticks\":\"\"},\"type\":\"contourcarpet\"}],\"contour\":[{\"colorbar\":{\"outlinewidth\":0,\"ticks\":\"\"},\"colorscale\":[[0.0,\"#0d0887\"],[0.1111111111111111,\"#46039f\"],[0.2222222222222222,\"#7201a8\"],[0.3333333333333333,\"#9c179e\"],[0.4444444444444444,\"#bd3786\"],[0.5555555555555556,\"#d8576b\"],[0.6666666666666666,\"#ed7953\"],[0.7777777777777778,\"#fb9f3a\"],[0.8888888888888888,\"#fdca26\"],[1.0,\"#f0f921\"]],\"type\":\"contour\"}],\"heatmapgl\":[{\"colorbar\":{\"outlinewidth\":0,\"ticks\":\"\"},\"colorscale\":[[0.0,\"#0d0887\"],[0.1111111111111111,\"#46039f\"],[0.2222222222222222,\"#7201a8\"],[0.3333333333333333,\"#9c179e\"],[0.4444444444444444,\"#bd3786\"],[0.5555555555555556,\"#d8576b\"],[0.6666666666666666,\"#ed7953\"],[0.7777777777777778,\"#fb9f3a\"],[0.8888888888888888,\"#fdca26\"],[1.0,\"#f0f921\"]],\"type\":\"heatmapgl\"}],\"heatmap\":[{\"colorbar\":{\"outlinewidth\":0,\"ticks\":\"\"},\"colorscale\":[[0.0,\"#0d0887\"],[0.1111111111111111,\"#46039f\"],[0.2222222222222222,\"#7201a8\"],[0.3333333333333333,\"#9c179e\"],[0.4444444444444444,\"#bd3786\"],[0.5555555555555556,\"#d8576b\"],[0.6666666666666666,\"#ed7953\"],[0.7777777777777778,\"#fb9f3a\"],[0.8888888888888888,\"#fdca26\"],[1.0,\"#f0f921\"]],\"type\":\"heatmap\"}],\"histogram2dcontour\":[{\"colorbar\":{\"outlinewidth\":0,\"ticks\":\"\"},\"colorscale\":[[0.0,\"#0d0887\"],[0.1111111111111111,\"#46039f\"],[0.2222222222222222,\"#7201a8\"],[0.3333333333333333,\"#9c179e\"],[0.4444444444444444,\"#bd3786\"],[0.5555555555555556,\"#d8576b\"],[0.6666666666666666,\"#ed7953\"],[0.7777777777777778,\"#fb9f3a\"],[0.8888888888888888,\"#fdca26\"],[1.0,\"#f0f921\"]],\"type\":\"histogram2dcontour\"}],\"histogram2d\":[{\"colorbar\":{\"outlinewidth\":0,\"ticks\":\"\"},\"colorscale\":[[0.0,\"#0d0887\"],[0.1111111111111111,\"#46039f\"],[0.2222222222222222,\"#7201a8\"],[0.3333333333333333,\"#9c179e\"],[0.4444444444444444,\"#bd3786\"],[0.5555555555555556,\"#d8576b\"],[0.6666666666666666,\"#ed7953\"],[0.7777777777777778,\"#fb9f3a\"],[0.8888888888888888,\"#fdca26\"],[1.0,\"#f0f921\"]],\"type\":\"histogram2d\"}],\"histogram\":[{\"marker\":{\"pattern\":{\"fillmode\":\"overlay\",\"size\":10,\"solidity\":0.2}},\"type\":\"histogram\"}],\"mesh3d\":[{\"colorbar\":{\"outlinewidth\":0,\"ticks\":\"\"},\"type\":\"mesh3d\"}],\"parcoords\":[{\"line\":{\"colorbar\":{\"outlinewidth\":0,\"ticks\":\"\"}},\"type\":\"parcoords\"}],\"pie\":[{\"automargin\":true,\"type\":\"pie\"}],\"scatter3d\":[{\"line\":{\"colorbar\":{\"outlinewidth\":0,\"ticks\":\"\"}},\"marker\":{\"colorbar\":{\"outlinewidth\":0,\"ticks\":\"\"}},\"type\":\"scatter3d\"}],\"scattercarpet\":[{\"marker\":{\"colorbar\":{\"outlinewidth\":0,\"ticks\":\"\"}},\"type\":\"scattercarpet\"}],\"scattergeo\":[{\"marker\":{\"colorbar\":{\"outlinewidth\":0,\"ticks\":\"\"}},\"type\":\"scattergeo\"}],\"scattergl\":[{\"marker\":{\"line\":{\"color\":\"#283442\"}},\"type\":\"scattergl\"}],\"scattermapbox\":[{\"marker\":{\"colorbar\":{\"outlinewidth\":0,\"ticks\":\"\"}},\"type\":\"scattermapbox\"}],\"scatterpolargl\":[{\"marker\":{\"colorbar\":{\"outlinewidth\":0,\"ticks\":\"\"}},\"type\":\"scatterpolargl\"}],\"scatterpolar\":[{\"marker\":{\"colorbar\":{\"outlinewidth\":0,\"ticks\":\"\"}},\"type\":\"scatterpolar\"}],\"scatter\":[{\"marker\":{\"line\":{\"color\":\"#283442\"}},\"type\":\"scatter\"}],\"scatterternary\":[{\"marker\":{\"colorbar\":{\"outlinewidth\":0,\"ticks\":\"\"}},\"type\":\"scatterternary\"}],\"surface\":[{\"colorbar\":{\"outlinewidth\":0,\"ticks\":\"\"},\"colorscale\":[[0.0,\"#0d0887\"],[0.1111111111111111,\"#46039f\"],[0.2222222222222222,\"#7201a8\"],[0.3333333333333333,\"#9c179e\"],[0.4444444444444444,\"#bd3786\"],[0.5555555555555556,\"#d8576b\"],[0.6666666666666666,\"#ed7953\"],[0.7777777777777778,\"#fb9f3a\"],[0.8888888888888888,\"#fdca26\"],[1.0,\"#f0f921\"]],\"type\":\"surface\"}],\"table\":[{\"cells\":{\"fill\":{\"color\":\"#506784\"},\"line\":{\"color\":\"rgb(17,17,17)\"}},\"header\":{\"fill\":{\"color\":\"#2a3f5f\"},\"line\":{\"color\":\"rgb(17,17,17)\"}},\"type\":\"table\"}]},\"layout\":{\"annotationdefaults\":{\"arrowcolor\":\"#f2f5fa\",\"arrowhead\":0,\"arrowwidth\":1},\"autotypenumbers\":\"strict\",\"coloraxis\":{\"colorbar\":{\"outlinewidth\":0,\"ticks\":\"\"}},\"colorscale\":{\"diverging\":[[0,\"#8e0152\"],[0.1,\"#c51b7d\"],[0.2,\"#de77ae\"],[0.3,\"#f1b6da\"],[0.4,\"#fde0ef\"],[0.5,\"#f7f7f7\"],[0.6,\"#e6f5d0\"],[0.7,\"#b8e186\"],[0.8,\"#7fbc41\"],[0.9,\"#4d9221\"],[1,\"#276419\"]],\"sequential\":[[0.0,\"#0d0887\"],[0.1111111111111111,\"#46039f\"],[0.2222222222222222,\"#7201a8\"],[0.3333333333333333,\"#9c179e\"],[0.4444444444444444,\"#bd3786\"],[0.5555555555555556,\"#d8576b\"],[0.6666666666666666,\"#ed7953\"],[0.7777777777777778,\"#fb9f3a\"],[0.8888888888888888,\"#fdca26\"],[1.0,\"#f0f921\"]],\"sequentialminus\":[[0.0,\"#0d0887\"],[0.1111111111111111,\"#46039f\"],[0.2222222222222222,\"#7201a8\"],[0.3333333333333333,\"#9c179e\"],[0.4444444444444444,\"#bd3786\"],[0.5555555555555556,\"#d8576b\"],[0.6666666666666666,\"#ed7953\"],[0.7777777777777778,\"#fb9f3a\"],[0.8888888888888888,\"#fdca26\"],[1.0,\"#f0f921\"]]},\"colorway\":[\"#636efa\",\"#EF553B\",\"#00cc96\",\"#ab63fa\",\"#FFA15A\",\"#19d3f3\",\"#FF6692\",\"#B6E880\",\"#FF97FF\",\"#FECB52\"],\"font\":{\"color\":\"#f2f5fa\"},\"geo\":{\"bgcolor\":\"rgb(17,17,17)\",\"lakecolor\":\"rgb(17,17,17)\",\"landcolor\":\"rgb(17,17,17)\",\"showlakes\":true,\"showland\":true,\"subunitcolor\":\"#506784\"},\"hoverlabel\":{\"align\":\"left\"},\"hovermode\":\"closest\",\"mapbox\":{\"style\":\"dark\"},\"paper_bgcolor\":\"rgb(17,17,17)\",\"plot_bgcolor\":\"rgb(17,17,17)\",\"polar\":{\"angularaxis\":{\"gridcolor\":\"#506784\",\"linecolor\":\"#506784\",\"ticks\":\"\"},\"bgcolor\":\"rgb(17,17,17)\",\"radialaxis\":{\"gridcolor\":\"#506784\",\"linecolor\":\"#506784\",\"ticks\":\"\"}},\"scene\":{\"xaxis\":{\"backgroundcolor\":\"rgb(17,17,17)\",\"gridcolor\":\"#506784\",\"gridwidth\":2,\"linecolor\":\"#506784\",\"showbackground\":true,\"ticks\":\"\",\"zerolinecolor\":\"#C8D4E3\"},\"yaxis\":{\"backgroundcolor\":\"rgb(17,17,17)\",\"gridcolor\":\"#506784\",\"gridwidth\":2,\"linecolor\":\"#506784\",\"showbackground\":true,\"ticks\":\"\",\"zerolinecolor\":\"#C8D4E3\"},\"zaxis\":{\"backgroundcolor\":\"rgb(17,17,17)\",\"gridcolor\":\"#506784\",\"gridwidth\":2,\"linecolor\":\"#506784\",\"showbackground\":true,\"ticks\":\"\",\"zerolinecolor\":\"#C8D4E3\"}},\"shapedefaults\":{\"line\":{\"color\":\"#f2f5fa\"}},\"sliderdefaults\":{\"bgcolor\":\"#C8D4E3\",\"bordercolor\":\"rgb(17,17,17)\",\"borderwidth\":1,\"tickwidth\":0},\"ternary\":{\"aaxis\":{\"gridcolor\":\"#506784\",\"linecolor\":\"#506784\",\"ticks\":\"\"},\"baxis\":{\"gridcolor\":\"#506784\",\"linecolor\":\"#506784\",\"ticks\":\"\"},\"bgcolor\":\"rgb(17,17,17)\",\"caxis\":{\"gridcolor\":\"#506784\",\"linecolor\":\"#506784\",\"ticks\":\"\"}},\"title\":{\"x\":0.05},\"updatemenudefaults\":{\"bgcolor\":\"#506784\",\"borderwidth\":0},\"xaxis\":{\"automargin\":true,\"gridcolor\":\"#283442\",\"linecolor\":\"#506784\",\"ticks\":\"\",\"title\":{\"standoff\":15},\"zerolinecolor\":\"#283442\",\"zerolinewidth\":2},\"yaxis\":{\"automargin\":true,\"gridcolor\":\"#283442\",\"linecolor\":\"#506784\",\"ticks\":\"\",\"title\":{\"standoff\":15},\"zerolinecolor\":\"#283442\",\"zerolinewidth\":2}}},\"xaxis\":{\"anchor\":\"y\",\"domain\":[0.0,1.0]},\"yaxis\":{\"anchor\":\"x\",\"domain\":[0.0,1.0],\"title\":{\"text\":\"Precio de Cierre\"}},\"legend\":{\"title\":{\"text\":\"Ticker\"},\"tracegroupgap\":0},\"title\":{\"text\":\"Precios de Cierre de Acciones en enero de 2020\"},\"boxmode\":\"group\"},                        {\"responsive\": true}                    ).then(function(){\n",
              "                            \n",
              "var gd = document.getElementById('e9b23b81-82c2-4f5a-ae19-7fc73bfcc00c');\n",
              "var x = new MutationObserver(function (mutations, observer) {{\n",
              "        var display = window.getComputedStyle(gd).display;\n",
              "        if (!display || display === 'none') {{\n",
              "            console.log([gd, 'removed!']);\n",
              "            Plotly.purge(gd);\n",
              "            observer.disconnect();\n",
              "        }}\n",
              "}});\n",
              "\n",
              "// Listen for the removal of the full notebook cells\n",
              "var notebookContainer = gd.closest('#notebook-container');\n",
              "if (notebookContainer) {{\n",
              "    x.observe(notebookContainer, {childList: true});\n",
              "}}\n",
              "\n",
              "// Listen for the clearing of the current output cell\n",
              "var outputEl = gd.closest('.output');\n",
              "if (outputEl) {{\n",
              "    x.observe(outputEl, {childList: true});\n",
              "}}\n",
              "\n",
              "                        })                };                            </script>        </div>\n",
              "</body>\n",
              "</html>"
            ]
          },
          "metadata": {}
        }
      ]
    },
    {
      "cell_type": "markdown",
      "source": [
        "👀 Otro ejemplo:"
      ],
      "metadata": {
        "id": "EFcty1DPeUok"
      }
    },
    {
      "cell_type": "code",
      "source": [
        "# Crear el gráfico de Box Plot utilizando Plotly\n",
        "fig = px.box(box_data, x='Precio',\n",
        "             color='Ticker',\n",
        "             title=f'Precios de Cierre de Acciones en enero de 2020',\n",
        "             template='plotly_dark')\n",
        "\n",
        "fig.update_yaxes(title_text='Precio de Cierre')\n",
        "fig.show()\n"
      ],
      "metadata": {
        "colab": {
          "base_uri": "https://localhost:8080/",
          "height": 542
        },
        "id": "vj90bG6lE9h4",
        "outputId": "052cb40b-08a8-4fdb-ebe3-cbafdf5a4865"
      },
      "execution_count": 6,
      "outputs": [
        {
          "output_type": "display_data",
          "data": {
            "text/html": [
              "<html>\n",
              "<head><meta charset=\"utf-8\" /></head>\n",
              "<body>\n",
              "    <div>            <script src=\"https://cdnjs.cloudflare.com/ajax/libs/mathjax/2.7.5/MathJax.js?config=TeX-AMS-MML_SVG\"></script><script type=\"text/javascript\">if (window.MathJax && window.MathJax.Hub && window.MathJax.Hub.Config) {window.MathJax.Hub.Config({SVG: {font: \"STIX-Web\"}});}</script>                <script type=\"text/javascript\">window.PlotlyConfig = {MathJaxConfig: 'local'};</script>\n",
              "        <script charset=\"utf-8\" src=\"https://cdn.plot.ly/plotly-2.24.1.min.js\"></script>                <div id=\"ef95f7b8-c806-421c-9c3e-d6eb176f6a1b\" class=\"plotly-graph-div\" style=\"height:525px; width:100%;\"></div>            <script type=\"text/javascript\">                                    window.PLOTLYENV=window.PLOTLYENV || {};                                    if (document.getElementById(\"ef95f7b8-c806-421c-9c3e-d6eb176f6a1b\")) {                    Plotly.newPlot(                        \"ef95f7b8-c806-421c-9c3e-d6eb176f6a1b\",                        [{\"alignmentgroup\":\"True\",\"hovertemplate\":\"Ticker=AAPL\\u003cbr\\u003ePrecio=%{x}\\u003cextra\\u003e\\u003c\\u002fextra\\u003e\",\"legendgroup\":\"AAPL\",\"marker\":{\"color\":\"#636efa\"},\"name\":\"AAPL\",\"notched\":false,\"offsetgroup\":\"AAPL\",\"orientation\":\"h\",\"showlegend\":true,\"x\":[73.2490234375,72.53689575195312,73.11488342285156,72.77102661132812,73.9416275024414,75.51221466064453,75.68292236328125,77.29983520507812,76.25602722167969,75.92925262451172,76.88036346435547,77.73152923583984,77.20474243164062,77.48031616210938,77.85344696044922,77.62908172607422,75.34637451171875,77.4779052734375,79.09967803955078,78.98506164550781],\"x0\":\" \",\"xaxis\":\"x\",\"y0\":\" \",\"yaxis\":\"y\",\"type\":\"box\"},{\"alignmentgroup\":\"True\",\"hovertemplate\":\"Ticker=GOOG\\u003cbr\\u003ePrecio=%{x}\\u003cextra\\u003e\\u003c\\u002fextra\\u003e\",\"legendgroup\":\"GOOG\",\"marker\":{\"color\":\"#EF553B\"},\"name\":\"GOOG\",\"notched\":false,\"offsetgroup\":\"GOOG\",\"orientation\":\"h\",\"showlegend\":true,\"x\":[68.36849975585938,68.03299713134766,69.71050262451172,69.66699981689453,70.21600341796875,70.99150085449219,71.48650360107422,71.96150207519531,71.54399871826172,71.95999908447266,72.58499908447266,74.01950073242188,74.22000122070312,74.29750061035156,74.3324966430664,73.33550262451172,71.69499969482422,72.62799835205078,72.93150329589844,72.79199981689453],\"x0\":\" \",\"xaxis\":\"x\",\"y0\":\" \",\"yaxis\":\"y\",\"type\":\"box\"}],                        {\"template\":{\"data\":{\"barpolar\":[{\"marker\":{\"line\":{\"color\":\"rgb(17,17,17)\",\"width\":0.5},\"pattern\":{\"fillmode\":\"overlay\",\"size\":10,\"solidity\":0.2}},\"type\":\"barpolar\"}],\"bar\":[{\"error_x\":{\"color\":\"#f2f5fa\"},\"error_y\":{\"color\":\"#f2f5fa\"},\"marker\":{\"line\":{\"color\":\"rgb(17,17,17)\",\"width\":0.5},\"pattern\":{\"fillmode\":\"overlay\",\"size\":10,\"solidity\":0.2}},\"type\":\"bar\"}],\"carpet\":[{\"aaxis\":{\"endlinecolor\":\"#A2B1C6\",\"gridcolor\":\"#506784\",\"linecolor\":\"#506784\",\"minorgridcolor\":\"#506784\",\"startlinecolor\":\"#A2B1C6\"},\"baxis\":{\"endlinecolor\":\"#A2B1C6\",\"gridcolor\":\"#506784\",\"linecolor\":\"#506784\",\"minorgridcolor\":\"#506784\",\"startlinecolor\":\"#A2B1C6\"},\"type\":\"carpet\"}],\"choropleth\":[{\"colorbar\":{\"outlinewidth\":0,\"ticks\":\"\"},\"type\":\"choropleth\"}],\"contourcarpet\":[{\"colorbar\":{\"outlinewidth\":0,\"ticks\":\"\"},\"type\":\"contourcarpet\"}],\"contour\":[{\"colorbar\":{\"outlinewidth\":0,\"ticks\":\"\"},\"colorscale\":[[0.0,\"#0d0887\"],[0.1111111111111111,\"#46039f\"],[0.2222222222222222,\"#7201a8\"],[0.3333333333333333,\"#9c179e\"],[0.4444444444444444,\"#bd3786\"],[0.5555555555555556,\"#d8576b\"],[0.6666666666666666,\"#ed7953\"],[0.7777777777777778,\"#fb9f3a\"],[0.8888888888888888,\"#fdca26\"],[1.0,\"#f0f921\"]],\"type\":\"contour\"}],\"heatmapgl\":[{\"colorbar\":{\"outlinewidth\":0,\"ticks\":\"\"},\"colorscale\":[[0.0,\"#0d0887\"],[0.1111111111111111,\"#46039f\"],[0.2222222222222222,\"#7201a8\"],[0.3333333333333333,\"#9c179e\"],[0.4444444444444444,\"#bd3786\"],[0.5555555555555556,\"#d8576b\"],[0.6666666666666666,\"#ed7953\"],[0.7777777777777778,\"#fb9f3a\"],[0.8888888888888888,\"#fdca26\"],[1.0,\"#f0f921\"]],\"type\":\"heatmapgl\"}],\"heatmap\":[{\"colorbar\":{\"outlinewidth\":0,\"ticks\":\"\"},\"colorscale\":[[0.0,\"#0d0887\"],[0.1111111111111111,\"#46039f\"],[0.2222222222222222,\"#7201a8\"],[0.3333333333333333,\"#9c179e\"],[0.4444444444444444,\"#bd3786\"],[0.5555555555555556,\"#d8576b\"],[0.6666666666666666,\"#ed7953\"],[0.7777777777777778,\"#fb9f3a\"],[0.8888888888888888,\"#fdca26\"],[1.0,\"#f0f921\"]],\"type\":\"heatmap\"}],\"histogram2dcontour\":[{\"colorbar\":{\"outlinewidth\":0,\"ticks\":\"\"},\"colorscale\":[[0.0,\"#0d0887\"],[0.1111111111111111,\"#46039f\"],[0.2222222222222222,\"#7201a8\"],[0.3333333333333333,\"#9c179e\"],[0.4444444444444444,\"#bd3786\"],[0.5555555555555556,\"#d8576b\"],[0.6666666666666666,\"#ed7953\"],[0.7777777777777778,\"#fb9f3a\"],[0.8888888888888888,\"#fdca26\"],[1.0,\"#f0f921\"]],\"type\":\"histogram2dcontour\"}],\"histogram2d\":[{\"colorbar\":{\"outlinewidth\":0,\"ticks\":\"\"},\"colorscale\":[[0.0,\"#0d0887\"],[0.1111111111111111,\"#46039f\"],[0.2222222222222222,\"#7201a8\"],[0.3333333333333333,\"#9c179e\"],[0.4444444444444444,\"#bd3786\"],[0.5555555555555556,\"#d8576b\"],[0.6666666666666666,\"#ed7953\"],[0.7777777777777778,\"#fb9f3a\"],[0.8888888888888888,\"#fdca26\"],[1.0,\"#f0f921\"]],\"type\":\"histogram2d\"}],\"histogram\":[{\"marker\":{\"pattern\":{\"fillmode\":\"overlay\",\"size\":10,\"solidity\":0.2}},\"type\":\"histogram\"}],\"mesh3d\":[{\"colorbar\":{\"outlinewidth\":0,\"ticks\":\"\"},\"type\":\"mesh3d\"}],\"parcoords\":[{\"line\":{\"colorbar\":{\"outlinewidth\":0,\"ticks\":\"\"}},\"type\":\"parcoords\"}],\"pie\":[{\"automargin\":true,\"type\":\"pie\"}],\"scatter3d\":[{\"line\":{\"colorbar\":{\"outlinewidth\":0,\"ticks\":\"\"}},\"marker\":{\"colorbar\":{\"outlinewidth\":0,\"ticks\":\"\"}},\"type\":\"scatter3d\"}],\"scattercarpet\":[{\"marker\":{\"colorbar\":{\"outlinewidth\":0,\"ticks\":\"\"}},\"type\":\"scattercarpet\"}],\"scattergeo\":[{\"marker\":{\"colorbar\":{\"outlinewidth\":0,\"ticks\":\"\"}},\"type\":\"scattergeo\"}],\"scattergl\":[{\"marker\":{\"line\":{\"color\":\"#283442\"}},\"type\":\"scattergl\"}],\"scattermapbox\":[{\"marker\":{\"colorbar\":{\"outlinewidth\":0,\"ticks\":\"\"}},\"type\":\"scattermapbox\"}],\"scatterpolargl\":[{\"marker\":{\"colorbar\":{\"outlinewidth\":0,\"ticks\":\"\"}},\"type\":\"scatterpolargl\"}],\"scatterpolar\":[{\"marker\":{\"colorbar\":{\"outlinewidth\":0,\"ticks\":\"\"}},\"type\":\"scatterpolar\"}],\"scatter\":[{\"marker\":{\"line\":{\"color\":\"#283442\"}},\"type\":\"scatter\"}],\"scatterternary\":[{\"marker\":{\"colorbar\":{\"outlinewidth\":0,\"ticks\":\"\"}},\"type\":\"scatterternary\"}],\"surface\":[{\"colorbar\":{\"outlinewidth\":0,\"ticks\":\"\"},\"colorscale\":[[0.0,\"#0d0887\"],[0.1111111111111111,\"#46039f\"],[0.2222222222222222,\"#7201a8\"],[0.3333333333333333,\"#9c179e\"],[0.4444444444444444,\"#bd3786\"],[0.5555555555555556,\"#d8576b\"],[0.6666666666666666,\"#ed7953\"],[0.7777777777777778,\"#fb9f3a\"],[0.8888888888888888,\"#fdca26\"],[1.0,\"#f0f921\"]],\"type\":\"surface\"}],\"table\":[{\"cells\":{\"fill\":{\"color\":\"#506784\"},\"line\":{\"color\":\"rgb(17,17,17)\"}},\"header\":{\"fill\":{\"color\":\"#2a3f5f\"},\"line\":{\"color\":\"rgb(17,17,17)\"}},\"type\":\"table\"}]},\"layout\":{\"annotationdefaults\":{\"arrowcolor\":\"#f2f5fa\",\"arrowhead\":0,\"arrowwidth\":1},\"autotypenumbers\":\"strict\",\"coloraxis\":{\"colorbar\":{\"outlinewidth\":0,\"ticks\":\"\"}},\"colorscale\":{\"diverging\":[[0,\"#8e0152\"],[0.1,\"#c51b7d\"],[0.2,\"#de77ae\"],[0.3,\"#f1b6da\"],[0.4,\"#fde0ef\"],[0.5,\"#f7f7f7\"],[0.6,\"#e6f5d0\"],[0.7,\"#b8e186\"],[0.8,\"#7fbc41\"],[0.9,\"#4d9221\"],[1,\"#276419\"]],\"sequential\":[[0.0,\"#0d0887\"],[0.1111111111111111,\"#46039f\"],[0.2222222222222222,\"#7201a8\"],[0.3333333333333333,\"#9c179e\"],[0.4444444444444444,\"#bd3786\"],[0.5555555555555556,\"#d8576b\"],[0.6666666666666666,\"#ed7953\"],[0.7777777777777778,\"#fb9f3a\"],[0.8888888888888888,\"#fdca26\"],[1.0,\"#f0f921\"]],\"sequentialminus\":[[0.0,\"#0d0887\"],[0.1111111111111111,\"#46039f\"],[0.2222222222222222,\"#7201a8\"],[0.3333333333333333,\"#9c179e\"],[0.4444444444444444,\"#bd3786\"],[0.5555555555555556,\"#d8576b\"],[0.6666666666666666,\"#ed7953\"],[0.7777777777777778,\"#fb9f3a\"],[0.8888888888888888,\"#fdca26\"],[1.0,\"#f0f921\"]]},\"colorway\":[\"#636efa\",\"#EF553B\",\"#00cc96\",\"#ab63fa\",\"#FFA15A\",\"#19d3f3\",\"#FF6692\",\"#B6E880\",\"#FF97FF\",\"#FECB52\"],\"font\":{\"color\":\"#f2f5fa\"},\"geo\":{\"bgcolor\":\"rgb(17,17,17)\",\"lakecolor\":\"rgb(17,17,17)\",\"landcolor\":\"rgb(17,17,17)\",\"showlakes\":true,\"showland\":true,\"subunitcolor\":\"#506784\"},\"hoverlabel\":{\"align\":\"left\"},\"hovermode\":\"closest\",\"mapbox\":{\"style\":\"dark\"},\"paper_bgcolor\":\"rgb(17,17,17)\",\"plot_bgcolor\":\"rgb(17,17,17)\",\"polar\":{\"angularaxis\":{\"gridcolor\":\"#506784\",\"linecolor\":\"#506784\",\"ticks\":\"\"},\"bgcolor\":\"rgb(17,17,17)\",\"radialaxis\":{\"gridcolor\":\"#506784\",\"linecolor\":\"#506784\",\"ticks\":\"\"}},\"scene\":{\"xaxis\":{\"backgroundcolor\":\"rgb(17,17,17)\",\"gridcolor\":\"#506784\",\"gridwidth\":2,\"linecolor\":\"#506784\",\"showbackground\":true,\"ticks\":\"\",\"zerolinecolor\":\"#C8D4E3\"},\"yaxis\":{\"backgroundcolor\":\"rgb(17,17,17)\",\"gridcolor\":\"#506784\",\"gridwidth\":2,\"linecolor\":\"#506784\",\"showbackground\":true,\"ticks\":\"\",\"zerolinecolor\":\"#C8D4E3\"},\"zaxis\":{\"backgroundcolor\":\"rgb(17,17,17)\",\"gridcolor\":\"#506784\",\"gridwidth\":2,\"linecolor\":\"#506784\",\"showbackground\":true,\"ticks\":\"\",\"zerolinecolor\":\"#C8D4E3\"}},\"shapedefaults\":{\"line\":{\"color\":\"#f2f5fa\"}},\"sliderdefaults\":{\"bgcolor\":\"#C8D4E3\",\"bordercolor\":\"rgb(17,17,17)\",\"borderwidth\":1,\"tickwidth\":0},\"ternary\":{\"aaxis\":{\"gridcolor\":\"#506784\",\"linecolor\":\"#506784\",\"ticks\":\"\"},\"baxis\":{\"gridcolor\":\"#506784\",\"linecolor\":\"#506784\",\"ticks\":\"\"},\"bgcolor\":\"rgb(17,17,17)\",\"caxis\":{\"gridcolor\":\"#506784\",\"linecolor\":\"#506784\",\"ticks\":\"\"}},\"title\":{\"x\":0.05},\"updatemenudefaults\":{\"bgcolor\":\"#506784\",\"borderwidth\":0},\"xaxis\":{\"automargin\":true,\"gridcolor\":\"#283442\",\"linecolor\":\"#506784\",\"ticks\":\"\",\"title\":{\"standoff\":15},\"zerolinecolor\":\"#283442\",\"zerolinewidth\":2},\"yaxis\":{\"automargin\":true,\"gridcolor\":\"#283442\",\"linecolor\":\"#506784\",\"ticks\":\"\",\"title\":{\"standoff\":15},\"zerolinecolor\":\"#283442\",\"zerolinewidth\":2}}},\"xaxis\":{\"anchor\":\"y\",\"domain\":[0.0,1.0],\"title\":{\"text\":\"Precio\"}},\"yaxis\":{\"anchor\":\"x\",\"domain\":[0.0,1.0],\"title\":{\"text\":\"Precio de Cierre\"}},\"legend\":{\"title\":{\"text\":\"Ticker\"},\"tracegroupgap\":0},\"title\":{\"text\":\"Precios de Cierre de Acciones en enero de 2020\"},\"boxmode\":\"group\"},                        {\"responsive\": true}                    ).then(function(){\n",
              "                            \n",
              "var gd = document.getElementById('ef95f7b8-c806-421c-9c3e-d6eb176f6a1b');\n",
              "var x = new MutationObserver(function (mutations, observer) {{\n",
              "        var display = window.getComputedStyle(gd).display;\n",
              "        if (!display || display === 'none') {{\n",
              "            console.log([gd, 'removed!']);\n",
              "            Plotly.purge(gd);\n",
              "            observer.disconnect();\n",
              "        }}\n",
              "}});\n",
              "\n",
              "// Listen for the removal of the full notebook cells\n",
              "var notebookContainer = gd.closest('#notebook-container');\n",
              "if (notebookContainer) {{\n",
              "    x.observe(notebookContainer, {childList: true});\n",
              "}}\n",
              "\n",
              "// Listen for the clearing of the current output cell\n",
              "var outputEl = gd.closest('.output');\n",
              "if (outputEl) {{\n",
              "    x.observe(outputEl, {childList: true});\n",
              "}}\n",
              "\n",
              "                        })                };                            </script>        </div>\n",
              "</body>\n",
              "</html>"
            ]
          },
          "metadata": {}
        }
      ]
    },
    {
      "cell_type": "markdown",
      "source": [
        " # **<font color=\"DeepPink\">Conclusiones</font>**"
      ],
      "metadata": {
        "id": "QkA5nCuJFWgj"
      }
    },
    {
      "cell_type": "markdown",
      "source": [
        "<p align=\"justify\">\n",
        "👀 En este colab nosotros:\n",
        "<br><br>\n",
        "✅ Cargamos las bibliotecas necesarias para graficar y obtener datos.\n",
        "<br>\n",
        "✅ Generamos variables y realizamos la descarga de datos.\n",
        "<br>\n",
        "✅ Creamos un gráfico de barras.\n",
        "<br>\n",
        "✅ Creamos un gráfico lineal.\n",
        "<br>\n",
        "✅ Creamos un gráfico de burbujas.\n",
        "<br>\n",
        "✅ Visualizamos las distintas \"templates\" gráficas.\n",
        "<br>\n",
        "<br>\n",
        "<p align=\"center\">\n",
        "<img src=\"https://www.python.org/static/community_logos/python-powered-h-70x91.png\">\n",
        "</p>\n",
        "\n",
        "---"
      ],
      "metadata": {
        "id": "CE64c63dFauW"
      }
    }
  ]
}