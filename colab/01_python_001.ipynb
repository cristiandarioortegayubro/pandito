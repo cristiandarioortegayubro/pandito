{
  "nbformat": 4,
  "nbformat_minor": 0,
  "metadata": {
    "colab": {
      "provenance": [],
      "toc_visible": true,
      "include_colab_link": true
    },
    "kernelspec": {
      "name": "python3",
      "display_name": "Python 3"
    },
    "language_info": {
      "name": "python"
    }
  },
  "cells": [
    {
      "cell_type": "markdown",
      "metadata": {
        "id": "view-in-github",
        "colab_type": "text"
      },
      "source": [
        "<a href=\"https://colab.research.google.com/github/cristiandarioortegayubro/pandito/blob/main/colab/01_python_001.ipynb\" target=\"_parent\"><img src=\"https://colab.research.google.com/assets/colab-badge.svg\" alt=\"Open In Colab\"/></a>"
      ]
    },
    {
      "cell_type": "markdown",
      "source": [
        "<h1 p align=\"center\">\n",
        "<b>\n",
        "<font color=\"DeepPink\">\n",
        "Saliendo de lo pandito\n",
        "</font>\n",
        "</h1>\n",
        "\n",
        "<p align=\"center\">\n",
        "<img src=\"https://github.com/cristiandarioortegayubro/BDS/blob/main/images/Logo%20BDS%20Horizontal%208.png?raw=true\" width=\"400\">\n",
        "</p>\n",
        "\n",
        "<p align=\"center\">\n",
        "<img src=\"https://github.com/cristiandarioortegayubro/pandito/blob/main/images/imagen-001.png?raw=true\" width=\"300\">\n",
        "</p>\n",
        "\n"
      ],
      "metadata": {
        "id": "iheuwam9e4CH"
      }
    },
    {
      "cell_type": "markdown",
      "source": [
        " # **<font color=\"DeepPink\">Python - Declaración de variables</font>**"
      ],
      "metadata": {
        "id": "_o8tuKydjnRZ"
      }
    },
    {
      "cell_type": "markdown",
      "source": [
        "<p align=\"justify\">\n",
        "Python, en principio, asume que la codificación es ASCII y, por tanto, no reconocerá caracteres fuera de esa codificación. Por ese motivo los archivos que se utilicen deberán estar codificados en UTF-8 y el interprete de Python debería admitir el uso de caracteres UTF-8 en nuestros scripts. En cualquier caso, no es recomendable el uso de caracteres no ASCII en nombre de variables o funciones.\n",
        "</p>"
      ],
      "metadata": {
        "id": "sUVYHa-Djlja"
      }
    },
    {
      "cell_type": "markdown",
      "source": [
        "<p align=\"justify\">\n",
        "Una variable es \"algo\" en lo que puedes almacenar información para su uso posterior. En Python, una variable puede almacenar un número, una letra, un conjunto de números o de letras o incluso conjuntos de conjuntos. <br><br> Las letras permitidas para la generacion de variables son las letras del alfabeto inglés, por lo que están prohibidas la ñ, la ç o las vocales con acentos y dieresis. <br><br>Las palabras reservadas del lenguaje también están prohibidas. En caso de que se otorgue un nombre incorrecto a una variable, Python mostrará un mensaje de error al ejecutar el\n",
        "script. Aunque no es obligatorio, normalmente conviene que el nombre de la variable esté relacionado con\n",
        "la información que se almacena en ella, para que sea más fácil entender el script. Mientras se estan escribiendo las líneas de código, esto no parece muy importante, pero si consultas un notebook que has\n",
        "desarrollado hace tiempo (o que lo ha desarrollado otra persona), resultará mucho más fácil entender el script si los nombres están bien elegidos.\n",
        "</p>"
      ],
      "metadata": {
        "id": "7g1xqft5j9p-"
      }
    },
    {
      "cell_type": "markdown",
      "source": [
        "<p align=\"justify\">\n",
        "El concepto variable proviene de las matemáticas. En matemáticas, una variable es un símbolo que forma parte de una expresión, una operación o de una fórmula. Normalmente las variables se representan mediante letras del alfabeto ( $x, y, z, n, i, j,$ etc.). Dependiendo del contexto en que se usen, las variables significan cosas distintas, por ejemplo:"
      ],
      "metadata": {
        "id": "YG_XGOt6llBJ"
      }
    },
    {
      "cell_type": "markdown",
      "source": [
        "- En el caso del álgebra, una variable representa una cantidad desconocida que se relaciona con otras y que en algunos casos podemos averiguar:\n",
        "\n",
        "$$x+3=5$$"
      ],
      "metadata": {
        "id": "NJLma9lqlxL6"
      }
    },
    {
      "cell_type": "markdown",
      "source": [
        "- En el caso del análisis matemático, una variable no representa una cantidad determinada, sino que representa todo un conjunto de valores:\n",
        "\n",
        "$$ y = x+1$$"
      ],
      "metadata": {
        "id": "Z3Fgf3dvl23V"
      }
    },
    {
      "cell_type": "markdown",
      "source": [
        " # **<font color=\"DeepPink\">Declarando variables numéricas</font>**"
      ],
      "metadata": {
        "id": "X3oLwXTomRLi"
      }
    },
    {
      "cell_type": "markdown",
      "source": [
        "<p align=\"justify\">\n",
        "El símbolo  <code>=</code>  hay que entenderlo como una asignación, no como una igualdad matemática."
      ],
      "metadata": {
        "id": "WuuasmHdnljk"
      }
    },
    {
      "cell_type": "code",
      "source": [
        "vn1 = 2450\n",
        "vn2 = 6450"
      ],
      "metadata": {
        "id": "zWfYQ4f_mVOg"
      },
      "execution_count": null,
      "outputs": []
    },
    {
      "cell_type": "markdown",
      "source": [
        "<p align=\"justify\">\n",
        "A la variables <code>vn1</code> y la variable <code>vn2</code> se les asigna un valor. Podemos realizar operaciones matemáticas con esas variables."
      ],
      "metadata": {
        "id": "wHEEbZ8UoHKE"
      }
    },
    {
      "cell_type": "code",
      "source": [
        "vn3 = vn1 + vn2\n",
        "vn3"
      ],
      "metadata": {
        "colab": {
          "base_uri": "https://localhost:8080/"
        },
        "id": "rtK0LBfaolmR",
        "outputId": "d07f161b-fb98-4f16-923d-72735397b4de"
      },
      "execution_count": null,
      "outputs": [
        {
          "output_type": "execute_result",
          "data": {
            "text/plain": [
              "8900"
            ]
          },
          "metadata": {},
          "execution_count": 8
        }
      ]
    },
    {
      "cell_type": "markdown",
      "source": [
        "<p align=\"justify\">\n",
        "En estos fragmentos de código se están realizando operaciones aritméticas simples para calcular y asignar valores a variables numéricas. A continuación, explicamos paso a paso cómo funciona el código:\n",
        "\n",
        "```python\n",
        "vn1 = 2450\n",
        "vn2 = 6450\n",
        "```\n",
        "\n",
        "En estas líneas, se declaran dos variables:\n",
        "\n",
        "- `vn1` se inicializa con el valor `2450`.\n",
        "- `vn2` se inicializa con el valor `6450`.\n",
        "\n",
        "```python\n",
        "vn3 = vn1 + vn2\n",
        "```\n",
        "\n",
        "<p align=\"justify\">\n",
        "En esta línea, se declara una tercera variable llamada <code>vn3</code>. Se le asigna el valor resultante de la suma de las variables <code>vn1</code> y <code>vn2</code>. En otras palabras, <code>vn3</code> contendrá el valor <code>vn1 + vn2</code>.\n",
        "<br><br>\n",
        "Finalmente, si accedemos al valor de <code>vn3</code>, obtendremos la suma de <code>vn1</code> y <code>vn2</code>:\n",
        "\n",
        "```python\n",
        "vn3\n",
        "```\n",
        "<p align=\"justify\">\n",
        "Si ejecutas el código, el valor de <code>vn3</code> será <code>8900</code>, que es el resultado de sumar <code>2450</code> y <code>6450</code>.\n"
      ],
      "metadata": {
        "id": "QaCNi_IC3-TA"
      }
    },
    {
      "cell_type": "markdown",
      "source": [
        " # **<font color=\"DeepPink\">Declarando variables categóricas</font>**"
      ],
      "metadata": {
        "id": "PSRcSEu_qpb2"
      }
    },
    {
      "cell_type": "markdown",
      "source": [
        "<p align=\"justify\">\n",
        "Vamos a denominar variables categoricas a aquellas que se les asigna una cadena de caracteres.\n",
        "<br><br>\n",
        "Las cadenas de caracteres deben estar encerradas entre comillas (simples o dobles). Es indistinto si se usan  comillas simples o  comillas dobles. Lo que no puede hacerse es en la misma cadena de caracteres usar los dos tipos de comillas, la simple y la doble."
      ],
      "metadata": {
        "id": "cI8KkRxtrI6F"
      }
    },
    {
      "cell_type": "code",
      "source": [
        "vc1 = \"Business Data Science \"\n",
        "vc2 = 'Bloque 1'\n",
        "vc3 = \"Bloque 2\"\n",
        "vc4 = 'Bloque 3'"
      ],
      "metadata": {
        "id": "R97BuW1mtUEZ"
      },
      "execution_count": null,
      "outputs": []
    },
    {
      "cell_type": "code",
      "source": [
        "print(vc1)\n",
        "print(vc2)"
      ],
      "metadata": {
        "colab": {
          "base_uri": "https://localhost:8080/"
        },
        "id": "cPlQVU60uSwl",
        "outputId": "1395f54c-d763-4480-abd7-195344c2103a"
      },
      "execution_count": null,
      "outputs": [
        {
          "output_type": "stream",
          "name": "stdout",
          "text": [
            "Business Data Science \n",
            "Bloque 1\n"
          ]
        }
      ]
    },
    {
      "cell_type": "markdown",
      "source": [
        " # **<font color=\"DeepPink\">Ejemplo</font>**"
      ],
      "metadata": {
        "id": "hkVCG-Y3e081"
      }
    },
    {
      "cell_type": "markdown",
      "source": [
        " ## **<font color=\"DeepPink\">Declaración de variables</font>**"
      ],
      "metadata": {
        "id": "UK4NTZ6Ve7rL"
      }
    },
    {
      "cell_type": "code",
      "source": [
        "precio_accion = 150.75\n",
        "nombre_empresa = \"Acme Inc.\"\n",
        "num_acciones = 1000\n",
        "fecha_inversion = \"2023-08-14\"\n",
        "tasa_interes = 0.05"
      ],
      "metadata": {
        "id": "DBhdU9ZlfE5V"
      },
      "execution_count": null,
      "outputs": []
    },
    {
      "cell_type": "markdown",
      "source": [
        "En estas líneas, se definen varias variables:\n",
        "- `precio_accion` se establece en `150.75`, representando el precio por acción de la empresa.\n",
        "- `nombre_empresa` se establece como `\"Acme Inc.\"`, representando el nombre de la empresa en la que se está invirtiendo.\n",
        "- `num_acciones` se establece en `1000`, que representa la cantidad de acciones que se están comprando.\n",
        "- `fecha_inversion` se establece como `\"2023-08-14\"`, que indica la fecha de la inversión (aunque no se utiliza en este fragmento de código).\n",
        "- `tasa_interes` se establece en `0.05`, que representa la tasa de interés anual para el cálculo del interés proyectado.\n",
        "\n"
      ],
      "metadata": {
        "id": "qzreV90b5jSr"
      }
    },
    {
      "cell_type": "markdown",
      "source": [
        " ## **<font color=\"DeepPink\">Realizando cálculos</font>**"
      ],
      "metadata": {
        "id": "6relUh-zfKaf"
      }
    },
    {
      "cell_type": "code",
      "source": [
        "valor_inversion = precio_accion * num_acciones\n",
        "interes_anual = valor_inversion * tasa_interes"
      ],
      "metadata": {
        "id": "loq9AOV1fPF1"
      },
      "execution_count": null,
      "outputs": []
    },
    {
      "cell_type": "markdown",
      "source": [
        "En estas líneas, se realizan cálculos:\n",
        "- `valor_inversion` calcula el valor total de la inversión multiplicando el `precio_accion` por la cantidad de `num_acciones`.\n",
        "- `interes_anual` calcula el interés anual proyectado multiplicando el `valor_inversion` por la `tasa_interes`.\n",
        "\n"
      ],
      "metadata": {
        "id": "_eKuNXfA5t4Z"
      }
    },
    {
      "cell_type": "markdown",
      "source": [
        " ## **<font color=\"DeepPink\">Imprimiendo resultados</font>**"
      ],
      "metadata": {
        "id": "9SMIE-GyfTWS"
      }
    },
    {
      "cell_type": "code",
      "source": [
        "print(f\"Inversión en {nombre_empresa}: $ {valor_inversion:.2f}\")\n",
        "print(f\"Interés anual proyectado: $ {interes_anual:.2f}\")"
      ],
      "metadata": {
        "colab": {
          "base_uri": "https://localhost:8080/"
        },
        "id": "uS_Kl__6fZpV",
        "outputId": "346aa8bb-a161-4cc7-f99e-b841fb44a63f"
      },
      "execution_count": null,
      "outputs": [
        {
          "output_type": "stream",
          "name": "stdout",
          "text": [
            "Inversión en Acme Inc.: $ 150750.00\n",
            "Interés anual proyectado: $ 7537.50\n"
          ]
        }
      ]
    },
    {
      "cell_type": "markdown",
      "source": [
        "Estas líneas utilizan la función `print` para mostrar información en la consola:\n",
        "- La primera línea imprime el valor total de la inversión en la empresa, formateado con dos decimales.\n",
        "- La segunda línea imprime el interés anual proyectado, también formateado con dos decimales.\n",
        "\n"
      ],
      "metadata": {
        "id": "davick9S54Ql"
      }
    },
    {
      "cell_type": "markdown",
      "source": [
        " ## **<font color=\"DeepPink\">Manipulación de variables</font>**"
      ],
      "metadata": {
        "id": "mEBrSKmIfeBY"
      }
    },
    {
      "cell_type": "code",
      "source": [
        "precio_accion = 155.20  # Actualización del precio de la acción\n",
        "num_acciones += 200     # Compra adicional de acciones\n",
        "valor_actualizado = precio_accion * num_acciones"
      ],
      "metadata": {
        "id": "9wA-iPhCflFS"
      },
      "execution_count": null,
      "outputs": []
    },
    {
      "cell_type": "markdown",
      "source": [
        "En estas líneas, se realizan las siguientes operaciones:\n",
        "- `precio_accion` se actualiza con el nuevo precio de la acción, que es `155.20`.\n",
        "- `num_acciones` se incrementa en `200`, lo que representa una compra adicional de acciones.\n",
        "- `valor_actualizado` calcula el nuevo valor total de la inversión multiplicando el `precio_accion` actualizado por la cantidad de `num_acciones` actualizada.\n"
      ],
      "metadata": {
        "id": "zR75XSr16RKU"
      }
    },
    {
      "cell_type": "markdown",
      "source": [
        " ## **<font color=\"DeepPink\">Imprimiendo resultado actualizado</font>**"
      ],
      "metadata": {
        "id": "DhilKOQ2fmof"
      }
    },
    {
      "cell_type": "code",
      "source": [
        "print(f\"Valor actualizado de la inversión: $ {valor_actualizado:.2f}\")"
      ],
      "metadata": {
        "colab": {
          "base_uri": "https://localhost:8080/"
        },
        "id": "OhDj7OImftvJ",
        "outputId": "b6d3d73d-1904-4b5e-dbeb-cfb436802ca0"
      },
      "execution_count": null,
      "outputs": [
        {
          "output_type": "stream",
          "name": "stdout",
          "text": [
            "Valor actualizado de la inversión: $ 186240.00\n"
          ]
        }
      ]
    },
    {
      "cell_type": "markdown",
      "source": [
        "Esta línea utiliza la función `print` para mostrar información en la consola. Imprime el valor actualizado de la inversión en formato monetario con dos decimales.\n"
      ],
      "metadata": {
        "id": "fPNlja2f6a20"
      }
    },
    {
      "cell_type": "markdown",
      "source": [
        " # **<font color=\"DeepPink\">Conclusiones</font>**"
      ],
      "metadata": {
        "id": "1GZW1POCvh1u"
      }
    },
    {
      "cell_type": "markdown",
      "source": [
        "<p align=\"justify\">\n",
        "👀 En este colab nosotros:\n",
        "<br><br>\n",
        "✅ Definimos la declaración de variables.\n",
        "<br>\n",
        "✅ Vemos variables numéricas.\n",
        "<br>\n",
        "✅ Vemos variables categóricas.\n",
        "<br>\n",
        "✅ Desarrollamos un ejemplo declarando variables numéricas y categóricas.\n",
        "<br>\n",
        "<br>\n",
        "<p align=\"center\">\n",
        "<img src=\"https://www.python.org/static/community_logos/python-powered-h-70x91.png\">\n",
        "</p>\n",
        "\n",
        "---"
      ],
      "metadata": {
        "id": "hypxzmuevjeO"
      }
    }
  ]
}